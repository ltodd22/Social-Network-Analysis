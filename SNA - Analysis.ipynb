{
 "cells": [
  {
   "cell_type": "markdown",
   "metadata": {
    "id": "N35NiBMSzzax"
   },
   "source": [
    "# Instructions\n",
    "On this first assignment, applying the basic functions of the Igraph package is required. The following datasets are going to be used:\n",
    "\n",
    "* Actors dataset - undirected graph - : For the 2005 Graph Drawing conference a data set was provided of the IMDB movie database. We will use a reduced version of this dataset, which derived all actor-actor collaboration edges where the actors co-starred in at least 2 movies together between 1995 and 2004. \n",
    "\n",
    "\n",
    "You have to complete the code chunks in this document but also analyze the results, extract insights and answer the short questions. Fill the CSV attached with your answers, sometimes just the number is enough, some others just a small sentence or paragraph. Remember to change the header with your email.\n",
    "\n",
    "In your submission please upload both this document in HTML and the CSV with the solutions.\n",
    "\n",
    "\n",
    "# Loading data\n",
    "\n",
    "In this section, the goal is loading the datasets given, building the graph and analyzing basics metrics. Include the edge or node attributes you consider.\n",
    "\n",
    "Describe the values provided by summary function on the graph object.\n",
    "\n",
    "\n",
    "\n"
   ]
  },
  {
   "cell_type": "code",
   "execution_count": 1,
   "metadata": {
    "id": "UTmwwWDxzza2"
   },
   "outputs": [],
   "source": [
    "import pandas as pd"
   ]
  },
  {
   "cell_type": "code",
   "execution_count": 2,
   "metadata": {
    "colab": {
     "base_uri": "https://localhost:8080/"
    },
    "id": "u6JBhOdI16ZF",
    "outputId": "7a61826e-846c-4e17-9b22-743dfc0950ad"
   },
   "outputs": [
    {
     "name": "stdout",
     "output_type": "stream",
     "text": [
      "Collecting python-igraph\n",
      "  Downloading python_igraph-0.9.6-cp37-cp37m-manylinux2010_x86_64.whl (3.2 MB)\n",
      "\u001b[K     |████████████████████████████████| 3.2 MB 12.9 MB/s \n",
      "\u001b[?25hCollecting texttable>=1.6.2\n",
      "  Downloading texttable-1.6.4-py2.py3-none-any.whl (10 kB)\n",
      "Installing collected packages: texttable, python-igraph\n",
      "Successfully installed python-igraph-0.9.6 texttable-1.6.4\n",
      "Reading package lists... Done\n",
      "Building dependency tree       \n",
      "Reading state information... Done\n",
      "libjpeg-dev is already the newest version (8c-2ubuntu8).\n",
      "libjpeg-dev set to manually installed.\n",
      "libgif-dev is already the newest version (5.1.4-2ubuntu0.1).\n",
      "libgif-dev set to manually installed.\n",
      "The following additional packages will be installed:\n",
      "  libcairo-script-interpreter2 libpixman-1-dev libxcb-shm0-dev\n",
      "Suggested packages:\n",
      "  libcairo2-doc\n",
      "The following NEW packages will be installed:\n",
      "  libcairo-script-interpreter2 libcairo2-dev libpixman-1-dev libxcb-shm0-dev\n",
      "0 upgraded, 4 newly installed, 0 to remove and 37 not upgraded.\n",
      "Need to get 930 kB of archives.\n",
      "After this operation, 3,986 kB of additional disk space will be used.\n",
      "Get:1 http://archive.ubuntu.com/ubuntu bionic-updates/main amd64 libcairo-script-interpreter2 amd64 1.15.10-2ubuntu0.1 [53.5 kB]\n",
      "Get:2 http://archive.ubuntu.com/ubuntu bionic/main amd64 libpixman-1-dev amd64 0.34.0-2 [244 kB]\n",
      "Get:3 http://archive.ubuntu.com/ubuntu bionic-updates/main amd64 libxcb-shm0-dev amd64 1.13-2~ubuntu18.04 [6,684 B]\n",
      "Get:4 http://archive.ubuntu.com/ubuntu bionic-updates/main amd64 libcairo2-dev amd64 1.15.10-2ubuntu0.1 [626 kB]\n",
      "Fetched 930 kB in 0s (4,780 kB/s)\n",
      "Selecting previously unselected package libcairo-script-interpreter2:amd64.\n",
      "(Reading database ... 155047 files and directories currently installed.)\n",
      "Preparing to unpack .../libcairo-script-interpreter2_1.15.10-2ubuntu0.1_amd64.deb ...\n",
      "Unpacking libcairo-script-interpreter2:amd64 (1.15.10-2ubuntu0.1) ...\n",
      "Selecting previously unselected package libpixman-1-dev:amd64.\n",
      "Preparing to unpack .../libpixman-1-dev_0.34.0-2_amd64.deb ...\n",
      "Unpacking libpixman-1-dev:amd64 (0.34.0-2) ...\n",
      "Selecting previously unselected package libxcb-shm0-dev:amd64.\n",
      "Preparing to unpack .../libxcb-shm0-dev_1.13-2~ubuntu18.04_amd64.deb ...\n",
      "Unpacking libxcb-shm0-dev:amd64 (1.13-2~ubuntu18.04) ...\n",
      "Selecting previously unselected package libcairo2-dev:amd64.\n",
      "Preparing to unpack .../libcairo2-dev_1.15.10-2ubuntu0.1_amd64.deb ...\n",
      "Unpacking libcairo2-dev:amd64 (1.15.10-2ubuntu0.1) ...\n",
      "Setting up libcairo-script-interpreter2:amd64 (1.15.10-2ubuntu0.1) ...\n",
      "Setting up libxcb-shm0-dev:amd64 (1.13-2~ubuntu18.04) ...\n",
      "Setting up libpixman-1-dev:amd64 (0.34.0-2) ...\n",
      "Setting up libcairo2-dev:amd64 (1.15.10-2ubuntu0.1) ...\n",
      "Processing triggers for libc-bin (2.27-3ubuntu1.3) ...\n",
      "/sbin/ldconfig.real: /usr/local/lib/python3.7/dist-packages/ideep4py/lib/libmkldnn.so.0 is not a symbolic link\n",
      "\n",
      "Collecting pycairo\n",
      "  Downloading pycairo-1.20.1.tar.gz (344 kB)\n",
      "\u001b[K     |████████████████████████████████| 344 kB 13.8 MB/s \n",
      "\u001b[?25h  Installing build dependencies ... \u001b[?25l\u001b[?25hdone\n",
      "  Getting requirements to build wheel ... \u001b[?25l\u001b[?25hdone\n",
      "    Preparing wheel metadata ... \u001b[?25l\u001b[?25hdone\n",
      "Building wheels for collected packages: pycairo\n",
      "  Building wheel for pycairo (PEP 517) ... \u001b[?25l\u001b[?25hdone\n",
      "  Created wheel for pycairo: filename=pycairo-1.20.1-cp37-cp37m-linux_x86_64.whl size=248772 sha256=9a56f7f781d347e2bacdfe9685ab619ce7a279db810a257c6a1c027b968e76e0\n",
      "  Stored in directory: /root/.cache/pip/wheels/0f/a7/3d/d8d8e8bd0cfe5cfb9059ccdd9fb6e0130e65c5a5dac41cc881\n",
      "Successfully built pycairo\n",
      "Installing collected packages: pycairo\n",
      "Successfully installed pycairo-1.20.1\n",
      "Collecting cairocffi\n",
      "  Downloading cairocffi-1.2.0.tar.gz (70 kB)\n",
      "\u001b[K     |████████████████████████████████| 70 kB 4.6 MB/s \n",
      "\u001b[?25hRequirement already satisfied: cffi>=1.1.0 in /usr/local/lib/python3.7/dist-packages (from cairocffi) (1.14.6)\n",
      "Requirement already satisfied: pycparser in /usr/local/lib/python3.7/dist-packages (from cffi>=1.1.0->cairocffi) (2.20)\n",
      "Building wheels for collected packages: cairocffi\n",
      "  Building wheel for cairocffi (setup.py) ... \u001b[?25l\u001b[?25hdone\n",
      "  Created wheel for cairocffi: filename=cairocffi-1.2.0-py3-none-any.whl size=89562 sha256=63d73fc01f31a79ada808283ee3ceae4c483012181bd4a2f9578f1a464263056\n",
      "  Stored in directory: /root/.cache/pip/wheels/e2/ca/86/9db2824f203afe4bdf5aa6ead017f352fcc90e92f095b78871\n",
      "Successfully built cairocffi\n",
      "Installing collected packages: cairocffi\n",
      "Successfully installed cairocffi-1.2.0\n"
     ]
    }
   ],
   "source": [
    "!pip install python-igraph \n",
    "!apt-get install libcairo2-dev libjpeg-dev libgif-dev\n",
    "!pip install pycairo\n",
    "!pip install cairocffi"
   ]
  },
  {
   "cell_type": "code",
   "execution_count": 3,
   "metadata": {
    "id": "TkfROiyo54ZJ"
   },
   "outputs": [],
   "source": [
    "import igraph as ig"
   ]
  },
  {
   "cell_type": "code",
   "execution_count": 4,
   "metadata": {
    "id": "p5V9Dzra2sF2"
   },
   "outputs": [],
   "source": [
    "from igraph import *\n",
    "import cairo\n",
    "import cairocffi\n",
    "import pandas as pd"
   ]
  },
  {
   "cell_type": "code",
   "execution_count": 5,
   "metadata": {
    "colab": {
     "base_uri": "https://localhost:8080/",
     "height": 105,
     "resources": {
      "http://localhost:8080/nbextensions/google.colab/files.js": {
       "data": "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",
       "headers": [
        [
         "content-type",
         "application/javascript"
        ]
       ],
       "ok": true,
       "status": 200,
       "status_text": ""
      }
     }
    },
    "id": "64xI_TAj7KWr",
    "outputId": "f2feb3e0-da7a-4a17-e2cc-4e0dec40acab"
   },
   "outputs": [
    {
     "data": {
      "text/html": [
       "\n",
       "     <input type=\"file\" id=\"files-a2ae5db3-bd09-433b-8b85-e133f379da28\" name=\"files[]\" multiple disabled\n",
       "        style=\"border:none\" />\n",
       "     <output id=\"result-a2ae5db3-bd09-433b-8b85-e133f379da28\">\n",
       "      Upload widget is only available when the cell has been executed in the\n",
       "      current browser session. Please rerun this cell to enable.\n",
       "      </output>\n",
       "      <script src=\"/nbextensions/google.colab/files.js\"></script> "
      ],
      "text/plain": [
       "<IPython.core.display.HTML object>"
      ]
     },
     "metadata": {},
     "output_type": "display_data"
    },
    {
     "name": "stdout",
     "output_type": "stream",
     "text": [
      "Saving imdb_actor_edges.tsv to imdb_actor_edges.tsv\n",
      "Saving imdb_actors_key.tsv to imdb_actors_key.tsv\n"
     ]
    }
   ],
   "source": [
    "#imports CSV files from local drive\n",
    "from google.colab import files\n",
    "uploaded = files.upload()"
   ]
  },
  {
   "cell_type": "code",
   "execution_count": 6,
   "metadata": {
    "id": "KPqLGEUw0FHc"
   },
   "outputs": [],
   "source": [
    "#save the files as df_key and df_act\n",
    "\n",
    "df_key = pd.read_csv(\"imdb_actors_key.tsv\", sep='\\t', header=0, encoding='windows-1252')\n",
    "df_act = pd.read_csv(\"imdb_actor_edges.tsv\", sep='\\t', header=0, encoding='windows-1252')"
   ]
  },
  {
   "cell_type": "code",
   "execution_count": 7,
   "metadata": {
    "colab": {
     "base_uri": "https://localhost:8080/",
     "height": 202
    },
    "id": "xeNe92298EEI",
    "outputId": "26be7813-d3b6-4b40-d2e1-c535a96d64c8"
   },
   "outputs": [
    {
     "data": {
      "text/html": [
       "<div>\n",
       "<style scoped>\n",
       "    .dataframe tbody tr th:only-of-type {\n",
       "        vertical-align: middle;\n",
       "    }\n",
       "\n",
       "    .dataframe tbody tr th {\n",
       "        vertical-align: top;\n",
       "    }\n",
       "\n",
       "    .dataframe thead th {\n",
       "        text-align: right;\n",
       "    }\n",
       "</style>\n",
       "<table border=\"1\" class=\"dataframe\">\n",
       "  <thead>\n",
       "    <tr style=\"text-align: right;\">\n",
       "      <th></th>\n",
       "      <th>id</th>\n",
       "      <th>name</th>\n",
       "      <th>movies_95_04</th>\n",
       "      <th>main_genre</th>\n",
       "      <th>genres</th>\n",
       "    </tr>\n",
       "  </thead>\n",
       "  <tbody>\n",
       "    <tr>\n",
       "      <th>0</th>\n",
       "      <td>15629</td>\n",
       "      <td>Rudder, Michael (I)</td>\n",
       "      <td>12</td>\n",
       "      <td>Thriller</td>\n",
       "      <td>Action:1,Comedy:1,Drama:1,Fantasy:1,Horror:1,N...</td>\n",
       "    </tr>\n",
       "    <tr>\n",
       "      <th>1</th>\n",
       "      <td>5026</td>\n",
       "      <td>Morgan, Debbi</td>\n",
       "      <td>16</td>\n",
       "      <td>Drama</td>\n",
       "      <td>Comedy:2,Documentary:1,Drama:6,Horror:2,NULL:3...</td>\n",
       "    </tr>\n",
       "    <tr>\n",
       "      <th>2</th>\n",
       "      <td>11252</td>\n",
       "      <td>Bellows, Gil</td>\n",
       "      <td>33</td>\n",
       "      <td>Drama</td>\n",
       "      <td>Comedy:6,Documentary:1,Drama:7,Family:1,Fantas...</td>\n",
       "    </tr>\n",
       "    <tr>\n",
       "      <th>3</th>\n",
       "      <td>5150</td>\n",
       "      <td>Dray, Albert</td>\n",
       "      <td>20</td>\n",
       "      <td>Comedy</td>\n",
       "      <td>Comedy:6,Crime:1,Documentary:1,Drama:4,NULL:5,...</td>\n",
       "    </tr>\n",
       "    <tr>\n",
       "      <th>4</th>\n",
       "      <td>4057</td>\n",
       "      <td>Daly, Shane (I)</td>\n",
       "      <td>18</td>\n",
       "      <td>Drama</td>\n",
       "      <td>Comedy:2,Crime:1,Drama:7,Horror:1,Music:1,Musi...</td>\n",
       "    </tr>\n",
       "  </tbody>\n",
       "</table>\n",
       "</div>"
      ],
      "text/plain": [
       "      id  ...                                             genres\n",
       "0  15629  ...  Action:1,Comedy:1,Drama:1,Fantasy:1,Horror:1,N...\n",
       "1   5026  ...  Comedy:2,Documentary:1,Drama:6,Horror:2,NULL:3...\n",
       "2  11252  ...  Comedy:6,Documentary:1,Drama:7,Family:1,Fantas...\n",
       "3   5150  ...  Comedy:6,Crime:1,Documentary:1,Drama:4,NULL:5,...\n",
       "4   4057  ...  Comedy:2,Crime:1,Drama:7,Horror:1,Music:1,Musi...\n",
       "\n",
       "[5 rows x 5 columns]"
      ]
     },
     "execution_count": 7,
     "metadata": {},
     "output_type": "execute_result"
    }
   ],
   "source": [
    "df_key.head()"
   ]
  },
  {
   "cell_type": "code",
   "execution_count": null,
   "metadata": {
    "colab": {
     "base_uri": "https://localhost:8080/",
     "height": 206
    },
    "id": "rDDL4tL8qYQ8",
    "outputId": "82dfff8a-ce18-4fd9-d7e1-07c23dbf03e2"
   },
   "outputs": [
    {
     "data": {
      "text/html": [
       "<div>\n",
       "<style scoped>\n",
       "    .dataframe tbody tr th:only-of-type {\n",
       "        vertical-align: middle;\n",
       "    }\n",
       "\n",
       "    .dataframe tbody tr th {\n",
       "        vertical-align: top;\n",
       "    }\n",
       "\n",
       "    .dataframe thead th {\n",
       "        text-align: right;\n",
       "    }\n",
       "</style>\n",
       "<table border=\"1\" class=\"dataframe\">\n",
       "  <thead>\n",
       "    <tr style=\"text-align: right;\">\n",
       "      <th></th>\n",
       "      <th>from</th>\n",
       "      <th>to</th>\n",
       "      <th>weight</th>\n",
       "    </tr>\n",
       "  </thead>\n",
       "  <tbody>\n",
       "    <tr>\n",
       "      <th>0</th>\n",
       "      <td>17776</td>\n",
       "      <td>17778</td>\n",
       "      <td>6</td>\n",
       "    </tr>\n",
       "    <tr>\n",
       "      <th>1</th>\n",
       "      <td>5578</td>\n",
       "      <td>9770</td>\n",
       "      <td>3</td>\n",
       "    </tr>\n",
       "    <tr>\n",
       "      <th>2</th>\n",
       "      <td>5578</td>\n",
       "      <td>929</td>\n",
       "      <td>2</td>\n",
       "    </tr>\n",
       "    <tr>\n",
       "      <th>3</th>\n",
       "      <td>5578</td>\n",
       "      <td>9982</td>\n",
       "      <td>2</td>\n",
       "    </tr>\n",
       "    <tr>\n",
       "      <th>4</th>\n",
       "      <td>1835</td>\n",
       "      <td>6278</td>\n",
       "      <td>2</td>\n",
       "    </tr>\n",
       "  </tbody>\n",
       "</table>\n",
       "</div>"
      ],
      "text/plain": [
       "    from     to  weight\n",
       "0  17776  17778       6\n",
       "1   5578   9770       3\n",
       "2   5578    929       2\n",
       "3   5578   9982       2\n",
       "4   1835   6278       2"
      ]
     },
     "execution_count": 8,
     "metadata": {},
     "output_type": "execute_result"
    }
   ],
   "source": [
    "df_act.head()"
   ]
  },
  {
   "cell_type": "code",
   "execution_count": 8,
   "metadata": {
    "id": "wU5aCRBj6UxP"
   },
   "outputs": [],
   "source": [
    "g1 = Graph.DataFrame(df_act, directed=False, vertices = df_key)"
   ]
  },
  {
   "cell_type": "markdown",
   "metadata": {
    "id": "JZGGL6Ch9phx"
   },
   "source": [
    "**1) How many nodes and edges are there?**\n"
   ]
  },
  {
   "cell_type": "code",
   "execution_count": null,
   "metadata": {
    "colab": {
     "base_uri": "https://localhost:8080/"
    },
    "id": "xvYhI6hE9GH4",
    "outputId": "5529bf7e-00b0-4e87-e180-7ebb0b356a82"
   },
   "outputs": [
    {
     "name": "stdout",
     "output_type": "stream",
     "text": [
      "IGRAPH UNW- 17577 287074 -- \n",
      "+ attr: genres (v), main_genre (v), movies_95_04 (v), name (v), weight (e)\n"
     ]
    }
   ],
   "source": [
    "#Output will show that there are 17577 nodes and 287074 edges\n",
    "summary(g1)"
   ]
  },
  {
   "cell_type": "code",
   "execution_count": null,
   "metadata": {
    "colab": {
     "base_uri": "https://localhost:8080/"
    },
    "id": "6R6sy-f_qICc",
    "outputId": "03ce896a-b30b-4e04-a441-7aa3fd9de3e0"
   },
   "outputs": [
    {
     "data": {
      "text/plain": [
       "287074"
      ]
     },
     "execution_count": 54,
     "metadata": {},
     "output_type": "execute_result"
    }
   ],
   "source": [
    "g1.ecount()"
   ]
  },
  {
   "cell_type": "code",
   "execution_count": null,
   "metadata": {
    "colab": {
     "base_uri": "https://localhost:8080/"
    },
    "id": "4Iy2YLd-5ujK",
    "outputId": "bfbd75ee-9aa5-4b1c-d547-cdc8a9d80a3e"
   },
   "outputs": [
    {
     "data": {
      "text/plain": [
       "17577"
      ]
     },
     "execution_count": 55,
     "metadata": {},
     "output_type": "execute_result"
    }
   ],
   "source": [
    "g1.vcount()"
   ]
  },
  {
   "cell_type": "markdown",
   "metadata": {
    "id": "5XQiTxmtzza2"
   },
   "source": [
    "# Degree distribution\n",
    "\n",
    "Analyse the degree distribution. Compute the total degree distribution.\n",
    "\n",
    "\n"
   ]
  },
  {
   "cell_type": "markdown",
   "metadata": {
    "id": "49fTQ0LBAGIe"
   },
   "source": [
    "**3) What does this distributions look like?**"
   ]
  },
  {
   "cell_type": "markdown",
   "metadata": {
    "id": "Sx1Q_wwT5mXj"
   },
   "source": [
    "The distribution appears to show a long tail. It seems that many actors have 35 degrees or less, whereas only a small number of actors have over 100 degrees. While the relationship between number of degrees and fame is not direct, I would expect that those with fewer degrees tend to not have \"made it\" in the movie world, and may have only starred in a few movies at most.\n",
    "I would guess that those with a higher amount of degrees have starred in more movies, with new actors, and in a diverse range of genres.\n"
   ]
  },
  {
   "cell_type": "code",
   "execution_count": null,
   "metadata": {
    "colab": {
     "base_uri": "https://localhost:8080/",
     "height": 542
    },
    "id": "IWFGglNdADHR",
    "outputId": "0a2d3d90-a93e-40b1-967f-bb07e7f0af28"
   },
   "outputs": [
    {
     "data": {
      "text/html": [
       "<html>\n",
       "<head><meta charset=\"utf-8\" /></head>\n",
       "<body>\n",
       "    <div>\n",
       "            <script src=\"https://cdnjs.cloudflare.com/ajax/libs/mathjax/2.7.5/MathJax.js?config=TeX-AMS-MML_SVG\"></script><script type=\"text/javascript\">if (window.MathJax) {MathJax.Hub.Config({SVG: {font: \"STIX-Web\"}});}</script>\n",
       "                <script type=\"text/javascript\">window.PlotlyConfig = {MathJaxConfig: 'local'};</script>\n",
       "        <script src=\"https://cdn.plot.ly/plotly-latest.min.js\"></script>    \n",
       "            <div id=\"4a579544-0af8-4c24-bd83-9ed5a234073b\" class=\"plotly-graph-div\" style=\"height:525px; width:100%;\"></div>\n",
       "            <script type=\"text/javascript\">\n",
       "                \n",
       "                    window.PLOTLYENV=window.PLOTLYENV || {};\n",
       "                    \n",
       "                if (document.getElementById(\"4a579544-0af8-4c24-bd83-9ed5a234073b\")) {\n",
       "                    Plotly.newPlot(\n",
       "                        '4a579544-0af8-4c24-bd83-9ed5a234073b',\n",
       "                        [{\"alignmentgroup\": \"True\", \"bingroup\": \"x\", \"hoverlabel\": {\"namelength\": 0}, \"hovertemplate\": \"degree=%{x}<br>count=%{y}\", \"legendgroup\": \"\", \"marker\": {\"color\": \"#636efa\"}, \"name\": \"\", \"offsetgroup\": \"\", \"orientation\": \"v\", \"showlegend\": false, \"type\": \"histogram\", \"x\": [36, 23, 22, 23, 46, 18, 5, 6, 57, 11, 7, 93, 47, 25, 19, 18, 18, 6, 19, 107, 1, 7, 8, 7, 123, 78, 74, 6, 34, 24, 30, 2, 26, 22, 13, 2, 16, 7, 21, 9, 16, 1, 51, 8, 46, 5, 36, 29, 66, 56, 3, 18, 9, 19, 3, 6, 84, 18, 61, 102, 8, 8, 31, 30, 4, 28, 12, 145, 1, 16, 7, 3, 12, 31, 46, 12, 1, 16, 15, 5, 11, 14, 31, 289, 83, 8, 92, 3, 3, 37, 9, 4, 10, 13, 9, 5, 6, 30, 25, 30, 12, 44, 12, 43, 345, 6, 8, 27, 23, 26, 45, 10, 11, 26, 1, 13, 54, 26, 19, 15, 46, 34, 6, 43, 4, 5, 31, 160, 174, 5, 7, 118, 144, 8, 15, 20, 7, 105, 1, 37, 16, 26, 10, 9, 97, 7, 1, 107, 26, 12, 6, 7, 14, 16, 4, 77, 2, 32, 59, 10, 5, 74, 24, 1, 4, 6, 12, 16, 104, 26, 5, 26, 21, 90, 16, 12, 16, 56, 33, 4, 5, 146, 87, 12, 16, 3, 18, 31, 6, 1, 34, 44, 15, 27, 16, 52, 23, 8, 3, 24, 7, 21, 2, 14, 70, 49, 20, 7, 7, 71, 5, 53, 31, 18, 27, 21, 86, 15, 20, 5, 82, 12, 4, 4, 35, 10, 9, 12, 28, 13, 3, 97, 16, 10, 4, 20, 15, 60, 12, 5, 10, 28, 6, 9, 23, 46, 81, 11, 1, 9, 8, 59, 1, 24, 7, 4, 181, 16, 9, 56, 14, 2, 1, 17, 28, 6, 87, 2, 5, 30, 2, 78, 68, 18, 184, 162, 44, 22, 27, 3, 13, 2, 22, 15, 25, 12, 15, 5, 6, 7, 7, 71, 11, 5, 34, 31, 4, 28, 9, 54, 24, 7, 44, 14, 9, 20, 94, 19, 54, 15, 4, 33, 1, 97, 8, 13, 47, 10, 39, 18, 43, 7, 6, 13, 5, 23, 26, 179, 41, 8, 147, 50, 51, 8, 54, 216, 18, 40, 47, 21, 19, 5, 30, 24, 20, 180, 42, 9, 19, 29, 12, 25, 18, 10, 2, 50, 2, 14, 27, 7, 6, 2, 40, 21, 11, 190, 4, 1, 61, 5, 2, 4, 8, 24, 27, 23, 5, 60, 22, 11, 6, 33, 18, 53, 4, 11, 16, 12, 49, 37, 10, 241, 5, 20, 16, 3, 5, 11, 12, 9, 13, 4, 102, 10, 34, 21, 2, 157, 25, 23, 47, 14, 6, 13, 29, 3, 21, 14, 131, 53, 18, 181, 44, 29, 36, 23, 31, 19, 19, 4, 14, 81, 6, 1, 41, 57, 8, 55, 14, 12, 80, 3, 63, 6, 28, 17, 17, 6, 47, 14, 1, 12, 21, 5, 45, 5, 99, 179, 2, 2, 3, 22, 17, 6, 4, 40, 22, 74, 194, 76, 140, 15, 4, 40, 7, 15, 16, 17, 19, 18, 16, 11, 8, 22, 1, 4, 20, 25, 23, 31, 20, 20, 12, 16, 43, 17, 27, 13, 15, 20, 36, 125, 392, 19, 1, 9, 7, 18, 102, 16, 11, 34, 15, 8, 8, 22, 3, 6, 10, 28, 10, 14, 10, 21, 1, 12, 5, 1, 37, 13, 10, 7, 7, 14, 84, 14, 10, 438, 15, 16, 2, 2, 9, 34, 54, 54, 38, 79, 35, 4, 3, 4, 18, 9, 8, 28, 16, 51, 3, 73, 36, 6, 29, 15, 2, 68, 2, 14, 7, 80, 22, 15, 13, 5, 17, 19, 39, 50, 140, 16, 18, 28, 72, 19, 61, 5, 9, 10, 9, 19, 20, 4, 3, 19, 17, 7, 3, 6, 26, 29, 12, 28, 12, 7, 87, 8, 19, 5, 61, 8, 4, 33, 12, 3, 26, 4, 50, 42, 8, 19, 34, 11, 43, 2, 19, 41, 8, 11, 7, 3, 13, 22, 38, 57, 13, 19, 15, 33, 125, 9, 4, 17, 3, 9, 45, 3, 1, 25, 12, 37, 12, 21, 3, 37, 5, 21, 16, 5, 38, 11, 26, 2, 16, 58, 27, 4, 9, 26, 7, 20, 56, 14, 32, 7, 32, 18, 41, 8, 7, 6, 18, 231, 31, 1, 8, 7, 4, 55, 14, 30, 40, 3, 7, 15, 55, 2, 65, 5, 8, 15, 68, 36, 4, 17, 77, 8, 1, 66, 345, 1, 31, 7, 35, 3, 34, 48, 7, 166, 33, 32, 77, 84, 18, 10, 3, 41, 28, 59, 21, 18, 58, 65, 115, 37, 5, 14, 2, 3, 12, 5, 6, 5, 4, 111, 6, 7, 124, 225, 46, 21, 41, 14, 6, 48, 1, 1, 4, 104, 21, 13, 1, 15, 259, 5, 17, 7, 2, 161, 11, 20, 14, 18, 27, 11, 42, 59, 2, 12, 5, 32, 13, 9, 16, 35, 6, 8, 9, 6, 20, 15, 4, 66, 10, 12, 15, 4, 9, 11, 25, 127, 8, 2, 158, 24, 85, 22, 96, 7, 9, 6, 222, 9, 8, 29, 45, 6, 23, 75, 355, 16, 24, 77, 14, 101, 10, 129, 4, 28, 56, 254, 1, 61, 13, 6, 17, 4, 45, 11, 7, 13, 2, 18, 11, 12, 4, 21, 2, 19, 21, 23, 97, 12, 6, 17, 2, 15, 15, 5, 49, 28, 2, 49, 33, 7, 3, 9, 56, 153, 39, 220, 6, 1, 4, 4, 34, 22, 81, 47, 1, 125, 77, 43, 8, 53, 35, 31, 211, 49, 2, 49, 36, 2, 32, 27, 9, 38, 1, 13, 27, 19, 6, 18, 35, 17, 36, 44, 3, 14, 9, 59, 18, 70, 31, 43, 3, 3, 2, 140, 2, 24, 9, 133, 20, 20, 7, 19, 120, 69, 142, 53, 8, 207, 102, 2, 14, 3, 15, 76, 6, 26, 334, 5, 65, 48, 74, 24, 8, 2, 10, 14, 2, 11, 24, 24, 3, 11, 10, 93, 6, 4, 35, 18, 48, 9, 29, 24, 8, 5, 51, 10, 22, 1, 7, 5, 42, 61, 86, 75, 42, 12, 7, 25, 30, 9, 43, 25, 13, 34, 34, 3, 4, 12, 64, 10, 44, 113, 166, 188, 3, 11, 22, 14, 7, 18, 34, 4, 11, 101, 5, 4, 37, 30, 12, 31, 17, 8, 8, 18, 6, 5, 45, 15, 72, 15, 25, 15, 42, 96, 39, 14, 28, 2, 28, 17, 31, 2, 6, 48, 49, 35, 4, 15, 8, 6, 38, 20, 2, 11, 9, 76, 17, 5, 5, 48, 16, 7, 18, 85, 25, 7, 5, 41, 4, 42, 55, 207, 13, 9, 46, 21, 74, 3, 263, 14, 42, 1, 25, 26, 6, 99, 51, 134, 2, 32, 30, 3, 2, 51, 5, 27, 333, 27, 24, 43, 103, 37, 7, 6, 12, 4, 29, 96, 37, 16, 6, 6, 9, 12, 7, 43, 21, 9, 53, 26, 5, 17, 7, 25, 12, 151, 71, 69, 44, 3, 450, 37, 4, 5, 85, 9, 21, 7, 15, 72, 31, 52, 69, 35, 275, 9, 82, 9, 1, 13, 78, 82, 5, 35, 49, 32, 2, 77, 20, 15, 20, 10, 45, 115, 1, 12, 32, 1, 14, 26, 22, 17, 16, 165, 8, 6, 5, 10, 15, 2, 13, 6, 3, 54, 25, 3, 5, 49, 25, 84, 73, 22, 44, 40, 45, 12, 15, 19, 102, 10, 6, 8, 6, 14, 52, 30, 6, 63, 3, 52, 27, 14, 1, 24, 40, 20, 4, 56, 154, 6, 2, 2, 4, 145, 20, 21, 2, 18, 72, 53, 2, 2, 7, 2, 31, 61, 13, 11, 47, 55, 90, 6, 7, 9, 20, 19, 6, 13, 113, 53, 15, 3, 19, 7, 33, 95, 12, 9, 36, 9, 26, 2, 60, 8, 105, 48, 3, 10, 15, 18, 35, 21, 31, 3, 182, 22, 36, 4, 2, 15, 7, 48, 3, 20, 2, 22, 14, 17, 8, 21, 15, 8, 13, 35, 21, 9, 16, 32, 16, 9, 4, 4, 186, 138, 24, 5, 49, 33, 6, 7, 59, 146, 84, 14, 8, 20, 15, 3, 7, 38, 6, 10, 37, 18, 186, 22, 9, 3, 20, 8, 33, 15, 7, 19, 77, 5, 6, 90, 51, 24, 30, 19, 8, 9, 8, 22, 33, 16, 9, 7, 19, 5, 9, 38, 23, 11, 4, 8, 6, 61, 37, 8, 98, 7, 77, 1, 7, 5, 5, 23, 32, 16, 5, 43, 2, 3, 9, 19, 16, 1, 189, 12, 3, 3, 69, 80, 24, 6, 16, 30, 109, 218, 9, 51, 10, 2, 6, 50, 8, 90, 5, 31, 80, 13, 4, 149, 7, 1, 2, 20, 15, 48, 14, 4, 26, 3, 42, 46, 52, 14, 22, 5, 7, 6, 25, 1, 3, 13, 15, 21, 19, 24, 4, 1, 10, 5, 21, 2, 9, 6, 66, 18, 31, 28, 26, 127, 41, 99, 22, 10, 19, 6, 49, 12, 203, 2, 58, 13, 8, 171, 90, 53, 15, 37, 15, 6, 8, 51, 13, 11, 10, 110, 10, 12, 34, 62, 16, 14, 46, 16, 59, 11, 2, 43, 1, 14, 2, 6, 4, 1, 17, 128, 3, 134, 7, 5, 12, 49, 21, 3, 15, 1, 2, 20, 11, 71, 22, 9, 17, 5, 21, 15, 2, 21, 9, 58, 27, 33, 25, 29, 6, 20, 17, 65, 42, 28, 17, 10, 4, 20, 9, 14, 25, 69, 182, 15, 7, 64, 26, 2, 5, 16, 46, 11, 22, 4, 11, 22, 90, 17, 38, 4, 7, 4, 220, 41, 10, 7, 29, 25, 59, 19, 22, 8, 36, 46, 37, 76, 26, 30, 11, 47, 23, 34, 8, 18, 1, 40, 19, 27, 16, 27, 11, 91, 31, 16, 4, 35, 62, 13, 28, 15, 5, 1, 3, 7, 54, 27, 70, 29, 35, 11, 30, 62, 9, 24, 9, 8, 6, 60, 1, 28, 142, 56, 37, 8, 51, 76, 5, 22, 2, 93, 225, 3, 8, 32, 3, 30, 16, 60, 22, 4, 1, 24, 56, 24, 3, 1, 2, 21, 14, 15, 23, 7, 29, 25, 187, 14, 2, 12, 8, 49, 5, 9, 3, 163, 16, 21, 1, 1, 2, 37, 11, 29, 3, 10, 6, 27, 8, 8, 21, 5, 12, 3, 6, 71, 6, 20, 29, 177, 120, 5, 58, 6, 10, 7, 3, 1, 5, 7, 22, 39, 11, 14, 10, 27, 3, 45, 5, 54, 20, 84, 24, 35, 7, 4, 21, 26, 37, 17, 23, 11, 4, 7, 32, 9, 16, 15, 8, 2, 66, 4, 12, 29, 10, 22, 2, 9, 3, 4, 25, 4, 101, 18, 3, 4, 10, 32, 29, 10, 11, 11, 1, 5, 10, 4, 18, 4, 90, 12, 134, 7, 102, 76, 23, 13, 4, 15, 7, 145, 47, 31, 10, 14, 19, 75, 37, 610, 7, 11, 8, 56, 8, 37, 185, 9, 24, 19, 1, 13, 30, 6, 15, 33, 32, 32, 7, 29, 5, 41, 15, 10, 42, 28, 89, 16, 19, 7, 121, 18, 4, 54, 7, 9, 4, 3, 57, 27, 17, 15, 18, 13, 4, 18, 3, 15, 12, 207, 56, 6, 2, 2, 28, 20, 9, 75, 15, 15, 1, 11, 1, 5, 99, 28, 27, 25, 11, 68, 19, 21, 2, 109, 34, 3, 4, 30, 39, 8, 47, 33, 3, 29, 21, 12, 20, 69, 177, 26, 2, 48, 3, 4, 20, 21, 5, 4, 20, 27, 11, 5, 5, 3, 30, 16, 45, 120, 3, 15, 4, 34, 5, 32, 40, 297, 7, 5, 13, 4, 14, 18, 6, 4, 6, 5, 32, 108, 10, 2, 8, 9, 267, 28, 8, 2, 14, 11, 12, 6, 54, 43, 4, 2, 125, 43, 12, 7, 6, 74, 254, 75, 41, 94, 3, 19, 1, 25, 24, 318, 4, 7, 2, 55, 7, 63, 13, 9, 2, 46, 92, 18, 143, 4, 2, 33, 13, 12, 3, 124, 16, 5, 59, 36, 18, 52, 3, 10, 37, 76, 12, 10, 1, 153, 4, 6, 11, 21, 11, 8, 2, 28, 38, 9, 7, 15, 11, 16, 287, 8, 46, 2, 4, 12, 23, 31, 20, 53, 1, 5, 8, 1, 7, 9, 11, 7, 2, 70, 176, 12, 34, 146, 2, 3, 47, 5, 53, 8, 110, 34, 17, 12, 25, 30, 39, 9, 12, 25, 10, 27, 21, 22, 5, 7, 5, 11, 19, 8, 23, 111, 44, 7, 32, 7, 1, 63, 5, 29, 11, 1, 9, 8, 41, 9, 146, 35, 376, 77, 29, 10, 1, 4, 61, 12, 52, 27, 80, 2, 13, 16, 34, 29, 14, 11, 16, 88, 14, 56, 1, 11, 52, 37, 28, 18, 56, 111, 16, 22, 23, 39, 14, 7, 168, 5, 6, 9, 14, 66, 8, 147, 3, 9, 12, 4, 4, 16, 15, 8, 41, 33, 42, 9, 22, 203, 11, 24, 24, 8, 84, 7, 12, 6, 26, 18, 11, 13, 68, 6, 31, 10, 111, 13, 4, 21, 32, 4, 16, 34, 12, 239, 6, 90, 162, 39, 7, 1, 4, 13, 154, 75, 24, 10, 8, 7, 8, 19, 48, 17, 21, 9, 29, 5, 3, 219, 9, 8, 10, 295, 16, 24, 94, 43, 225, 24, 7, 10, 38, 21, 72, 11, 67, 12, 149, 50, 12, 88, 3, 1, 29, 34, 120, 15, 23, 1, 2, 26, 15, 3, 6, 8, 8, 48, 13, 7, 4, 219, 20, 1, 128, 29, 7, 100, 2, 20, 5, 12, 222, 15, 17, 183, 23, 7, 119, 51, 23, 190, 56, 56, 82, 21, 17, 48, 340, 3, 34, 2, 11, 2, 9, 41, 13, 17, 10, 14, 34, 26, 35, 24, 20, 3, 3, 16, 4, 2, 533, 30, 12, 48, 27, 7, 9, 5, 10, 14, 14, 32, 17, 6, 22, 3, 40, 38, 37, 27, 34, 15, 31, 31, 7, 7, 18, 9, 43, 7, 8, 134, 11, 11, 8, 116, 17, 7, 11, 9, 25, 53, 31, 2, 29, 15, 16, 10, 31, 22, 12, 23, 20, 10, 10, 8, 26, 7, 6, 3, 163, 173, 17, 107, 3, 106, 44, 71, 115, 42, 31, 194, 43, 29, 4, 24, 25, 4, 26, 5, 46, 2, 18, 35, 5, 4, 13, 26, 17, 5, 9, 37, 6, 7, 45, 25, 31, 12, 5, 20, 64, 33, 45, 44, 64, 11, 5, 6, 39, 1, 4, 96, 36, 35, 26, 13, 9, 2, 6, 23, 14, 20, 51, 11, 4, 4, 30, 62, 9, 38, 13, 23, 127, 30, 13, 6, 21, 13, 3, 21, 3, 153, 21, 45, 11, 8, 4, 4, 24, 45, 20, 26, 9, 48, 44, 9, 18, 2, 65, 33, 98, 9, 99, 5, 16, 66, 13, 4, 9, 46, 11, 20, 17, 8, 10, 163, 21, 15, 10, 10, 35, 2, 22, 46, 23, 7, 9, 6, 10, 24, 40, 32, 13, 48, 114, 51, 6, 30, 12, 19, 85, 6, 35, 38, 117, 15, 27, 130, 3, 1, 12, 7, 29, 1, 14, 38, 181, 22, 4, 9, 10, 33, 54, 40, 7, 1, 16, 21, 28, 3, 34, 17, 18, 9, 29, 10, 3, 13, 25, 82, 4, 14, 13, 10, 1, 20, 18, 4, 17, 20, 5, 22, 2, 12, 4, 25, 9, 6, 26, 98, 24, 15, 83, 1, 47, 5, 1, 4, 29, 31, 2, 5, 46, 24, 4, 11, 9, 14, 48, 11, 6, 11, 40, 8, 218, 3, 9, 115, 47, 39, 4, 4, 9, 24, 10, 39, 5, 15, 101, 6, 17, 56, 39, 21, 9, 11, 13, 8, 25, 1, 48, 13, 8, 2, 96, 65, 28, 25, 11, 5, 21, 4, 6, 9, 5, 92, 4, 182, 30, 45, 14, 6, 19, 7, 14, 10, 20, 9, 20, 23, 137, 18, 102, 27, 18, 16, 2, 71, 6, 31, 2, 91, 17, 54, 7, 79, 13, 15, 46, 28, 4, 20, 43, 10, 17, 19, 76, 32, 83, 30, 186, 17, 8, 10, 38, 39, 245, 122, 36, 7, 181, 11, 15, 7, 12, 80, 3, 67, 22, 9, 24, 30, 3, 23, 6, 1, 7, 176, 32, 12, 5, 13, 35, 15, 38, 21, 56, 3, 4, 2, 23, 8, 29, 34, 31, 3, 11, 21, 7, 8, 12, 75, 25, 20, 7, 14, 26, 9, 7, 18, 4, 40, 81, 46, 12, 11, 13, 30, 19, 4, 3, 16, 1, 28, 19, 63, 6, 10, 63, 37, 11, 4, 2, 105, 24, 69, 10, 27, 57, 18, 20, 35, 26, 40, 18, 9, 19, 17, 18, 38, 35, 179, 6, 21, 24, 47, 31, 159, 124, 12, 14, 19, 8, 32, 51, 11, 19, 8, 3, 17, 39, 9, 3, 15, 87, 22, 22, 13, 8, 12, 29, 24, 12, 15, 9, 149, 22, 4, 30, 42, 20, 34, 8, 40, 39, 8, 6, 4, 12, 18, 43, 6, 3, 25, 7, 29, 111, 19, 17, 3, 89, 50, 1, 6, 47, 13, 10, 100, 8, 2, 23, 19, 33, 77, 10, 7, 2, 219, 6, 18, 9, 19, 40, 31, 51, 12, 5, 47, 63, 15, 12, 21, 25, 26, 4, 5, 1, 58, 28, 31, 59, 31, 15, 4, 4, 3, 24, 8, 44, 3, 3, 11, 6, 25, 5, 24, 45, 30, 27, 26, 37, 6, 25, 48, 211, 17, 28, 6, 5, 11, 6, 30, 1, 15, 7, 4, 105, 7, 35, 9, 7, 65, 15, 127, 35, 51, 10, 11, 66, 2, 24, 12, 15, 23, 31, 11, 9, 27, 70, 57, 99, 3, 11, 42, 12, 5, 12, 81, 8, 10, 45, 14, 29, 17, 21, 7, 1, 77, 10, 26, 3, 14, 9, 23, 96, 16, 10, 20, 36, 62, 29, 37, 206, 10, 5, 3, 103, 15, 38, 126, 3, 11, 25, 33, 10, 13, 20, 66, 51, 3, 4, 33, 8, 15, 28, 4, 21, 1, 29, 22, 7, 15, 7, 2, 9, 35, 34, 15, 12, 68, 13, 48, 20, 225, 48, 2, 40, 38, 2, 23, 20, 148, 25, 23, 51, 7, 54, 33, 15, 17, 104, 3, 31, 2, 17, 45, 39, 4, 2, 38, 3, 9, 54, 31, 21, 7, 7, 13, 2, 32, 93, 17, 57, 1, 1, 40, 214, 4, 33, 402, 18, 77, 11, 12, 35, 3, 10, 24, 45, 6, 4, 8, 36, 13, 1, 37, 88, 26, 12, 10, 3, 46, 2, 32, 6, 11, 36, 31, 22, 12, 21, 6, 104, 25, 29, 3, 5, 53, 185, 9, 53, 11, 14, 15, 16, 22, 4, 10, 18, 60, 6, 18, 60, 1, 5, 38, 8, 30, 5, 3, 5, 120, 2, 1, 61, 38, 22, 3, 17, 34, 29, 16, 120, 24, 2, 11, 27, 34, 13, 1, 15, 100, 23, 20, 7, 10, 15, 17, 41, 3, 28, 53, 79, 15, 33, 5, 11, 12, 13, 13, 20, 13, 42, 62, 21, 12, 16, 185, 23, 7, 9, 29, 22, 25, 10, 25, 19, 18, 19, 15, 20, 3, 86, 10, 16, 28, 40, 61, 13, 25, 65, 14, 3, 70, 1, 7, 9, 32, 8, 4, 3, 27, 25, 89, 15, 24, 102, 28, 64, 51, 132, 17, 9, 10, 4, 91, 35, 6, 3, 53, 7, 33, 3, 64, 22, 7, 11, 10, 101, 12, 1, 62, 36, 108, 29, 5, 15, 44, 8, 1, 16, 1, 26, 11, 10, 8, 15, 4, 87, 40, 94, 28, 33, 14, 68, 19, 73, 20, 52, 13, 3, 17, 15, 31, 17, 65, 6, 20, 4, 47, 101, 19, 20, 39, 18, 45, 33, 17, 12, 31, 4, 27, 5, 25, 164, 5, 26, 6, 86, 11, 123, 2, 9, 172, 12, 56, 12, 19, 26, 21, 29, 12, 28, 23, 19, 69, 9, 6, 36, 3, 25, 8, 18, 5, 45, 3, 4, 7, 4, 43, 2, 13, 1, 1, 11, 19, 3, 69, 19, 40, 8, 8, 7, 9, 6, 8, 147, 6, 20, 6, 9, 1, 24, 1, 120, 210, 75, 3, 8, 9, 18, 27, 42, 73, 13, 203, 18, 34, 34, 13, 5, 13, 1, 14, 70, 16, 32, 72, 103, 79, 18, 1, 32, 105, 15, 14, 121, 83, 24, 8, 124, 6, 3, 8, 156, 75, 1, 2, 9, 2, 28, 41, 12, 4, 56, 9, 13, 2, 61, 7, 3, 16, 69, 21, 47, 88, 7, 24, 9, 12, 2, 45, 7, 48, 36, 24, 2, 17, 16, 14, 24, 87, 33, 5, 1, 11, 4, 5, 21, 111, 21, 2, 25, 46, 21, 10, 135, 56, 84, 9, 6, 4, 25, 18, 17, 45, 92, 20, 9, 39, 4, 3, 15, 4, 5, 7, 3, 4, 23, 65, 5, 50, 17, 6, 91, 9, 15, 22, 4, 47, 36, 32, 73, 21, 61, 8, 28, 19, 39, 13, 21, 26, 52, 180, 17, 7, 16, 29, 92, 3, 17, 6, 38, 16, 46, 64, 9, 4, 19, 59, 28, 62, 184, 31, 21, 15, 68, 26, 43, 2, 52, 99, 20, 177, 25, 44, 10, 3, 5, 28, 29, 22, 29, 10, 6, 98, 36, 175, 6, 3, 16, 1, 16, 19, 9, 4, 24, 23, 27, 5, 34, 15, 11, 37, 45, 20, 4, 51, 5, 116, 34, 12, 63, 4, 20, 4, 47, 11, 33, 1, 7, 27, 23, 83, 25, 41, 5, 4, 37, 45, 21, 19, 251, 13, 16, 16, 6, 4, 21, 2, 28, 24, 5, 11, 54, 11, 5, 7, 20, 8, 2, 12, 1, 60, 26, 9, 4, 4, 11, 46, 22, 1, 96, 127, 3, 7, 114, 2, 43, 27, 2, 63, 99, 18, 59, 51, 410, 2, 2, 3, 16, 15, 8, 40, 10, 2, 25, 12, 90, 37, 39, 7, 11, 14, 10, 7, 7, 8, 49, 11, 41, 72, 1, 22, 1, 15, 92, 10, 18, 15, 27, 4, 16, 12, 13, 18, 126, 7, 74, 6, 25, 12, 361, 14, 7, 30, 4, 55, 123, 1, 82, 3, 9, 126, 75, 15, 1, 136, 27, 41, 1, 18, 11, 5, 48, 5, 32, 1, 33, 97, 91, 9, 96, 4, 207, 63, 41, 63, 2, 4, 18, 29, 9, 9, 40, 59, 24, 46, 3, 1, 13, 14, 186, 128, 21, 14, 6, 14, 9, 16, 5, 10, 7, 26, 16, 27, 24, 113, 22, 95, 10, 8, 23, 5, 39, 70, 14, 21, 2, 29, 113, 72, 22, 10, 8, 19, 6, 40, 28, 27, 66, 48, 5, 16, 17, 28, 8, 127, 19, 25, 23, 6, 21, 14, 48, 5, 37, 67, 20, 19, 134, 19, 16, 2, 42, 81, 10, 3, 4, 32, 11, 9, 60, 25, 4, 98, 26, 32, 14, 20, 36, 1, 2, 21, 61, 84, 6, 2, 3, 13, 16, 14, 29, 11, 18, 53, 43, 12, 5, 5, 1, 21, 24, 6, 32, 7, 36, 43, 15, 196, 32, 4, 11, 22, 8, 10, 6, 3, 35, 27, 3, 25, 10, 2, 43, 10, 17, 22, 7, 71, 13, 67, 42, 6, 3, 2, 22, 43, 51, 9, 8, 12, 25, 6, 17, 38, 2, 4, 16, 21, 5, 280, 98, 7, 16, 10, 21, 12, 11, 38, 10, 19, 24, 14, 25, 5, 10, 27, 94, 6, 53, 9, 2, 7, 3, 39, 41, 10, 8, 1, 6, 1, 8, 7, 7, 19, 103, 95, 4, 9, 19, 32, 20, 8, 13, 6, 21, 148, 10, 4, 24, 6, 7, 9, 25, 7, 12, 6, 55, 181, 4, 13, 9, 8, 20, 19, 19, 9, 203, 5, 27, 55, 8, 8, 15, 12, 16, 19, 178, 24, 27, 16, 138, 10, 75, 221, 50, 15, 27, 10, 23, 41, 21, 33, 10, 108, 19, 13, 34, 23, 1, 10, 6, 24, 40, 3, 3, 12, 30, 2, 17, 74, 137, 3, 8, 23, 11, 28, 42, 18, 21, 11, 23, 31, 1, 3, 4, 20, 37, 35, 66, 19, 7, 1, 87, 37, 11, 4, 62, 25, 21, 53, 6, 10, 50, 15, 2, 23, 15, 12, 36, 246, 40, 3, 32, 11, 17, 8, 19, 3, 51, 7, 18, 35, 41, 8, 27, 145, 128, 2, 25, 23, 13, 63, 4, 8, 26, 15, 22, 21, 15, 3, 4, 74, 8, 2, 14, 11, 38, 14, 9, 39, 11, 29, 29, 7, 20, 195, 46, 15, 7, 81, 39, 213, 34, 41, 5, 10, 16, 5, 62, 1, 31, 20, 5, 6, 10, 37, 14, 50, 2, 19, 12, 11, 178, 3, 14, 42, 64, 5, 6, 74, 54, 6, 30, 35, 8, 9, 19, 63, 71, 21, 12, 25, 5, 88, 16, 4, 14, 6, 43, 29, 42, 29, 31, 37, 51, 2, 10, 29, 121, 11, 75, 5, 14, 9, 4, 1, 76, 20, 131, 38, 49, 28, 22, 18, 2, 30, 12, 22, 16, 4, 3, 7, 9, 3, 26, 32, 21, 10, 25, 22, 34, 14, 41, 2, 3, 40, 9, 16, 23, 191, 83, 13, 17, 11, 561, 1, 18, 111, 22, 8, 9, 26, 32, 12, 11, 85, 15, 36, 5, 20, 9, 26, 3, 1, 72, 25, 31, 25, 19, 94, 31, 61, 11, 8, 24, 20, 7, 9, 30, 12, 10, 29, 37, 25, 5, 7, 9, 6, 5, 28, 28, 29, 4, 4, 12, 24, 53, 82, 4, 7, 104, 38, 1, 245, 16, 24, 44, 16, 12, 63, 2, 9, 14, 41, 4, 63, 26, 15, 1, 16, 3, 3, 6, 13, 24, 8, 1, 31, 24, 114, 10, 6, 11, 15, 5, 114, 175, 8, 15, 8, 6, 25, 55, 42, 91, 2, 28, 51, 28, 27, 30, 15, 3, 5, 11, 21, 4, 4, 5, 4, 37, 63, 34, 2, 75, 8, 47, 37, 12, 27, 134, 26, 6, 22, 44, 17, 3, 9, 4, 5, 4, 2, 44, 18, 9, 10, 4, 6, 11, 2, 22, 8, 10, 64, 1, 15, 33, 11, 20, 1, 52, 51, 13, 5, 4, 151, 35, 7, 15, 10, 5, 11, 21, 161, 2, 19, 7, 13, 190, 38, 7, 27, 21, 17, 92, 6, 12, 57, 63, 59, 34, 67, 49, 39, 165, 31, 1, 14, 5, 6, 187, 5, 13, 10, 8, 1, 20, 18, 13, 16, 5, 29, 6, 16, 95, 17, 58, 4, 35, 1, 36, 20, 44, 41, 54, 8, 17, 5, 5, 22, 214, 39, 12, 8, 11, 52, 16, 5, 58, 6, 25, 9, 191, 10, 45, 7, 5, 1, 12, 3, 7, 3, 35, 163, 157, 1, 29, 114, 5, 71, 8, 45, 10, 35, 8, 110, 87, 79, 10, 29, 20, 18, 9, 14, 38, 11, 2, 26, 2, 89, 19, 3, 16, 19, 19, 20, 8, 8, 122, 8, 32, 117, 84, 2, 255, 22, 10, 35, 41, 8, 21, 11, 5, 80, 27, 2, 165, 18, 13, 13, 11, 9, 7, 8, 8, 7, 14, 13, 4, 16, 40, 45, 9, 3, 97, 41, 20, 33, 2, 22, 25, 28, 10, 9, 62, 19, 15, 54, 5, 1, 9, 2, 32, 7, 34, 64, 14, 19, 94, 9, 11, 20, 6, 40, 54, 40, 8, 4, 6, 23, 27, 19, 20, 16, 16, 2, 26, 14, 63, 21, 57, 5, 9, 37, 13, 1, 7, 8, 24, 34, 14, 5, 32, 30, 28, 58, 9, 7, 13, 110, 9, 12, 58, 5, 5, 22, 87, 183, 4, 9, 7, 84, 72, 3, 21, 50, 80, 26, 20, 7, 36, 62, 6, 6, 10, 17, 17, 9, 31, 4, 30, 24, 1, 14, 9, 32, 63, 36, 137, 9, 225, 13, 2, 35, 147, 2, 457, 140, 21, 7, 123, 6, 12, 14, 53, 12, 13, 8, 5, 36, 7, 9, 45, 75, 17, 10, 7, 4, 20, 11, 12, 7, 200, 27, 7, 4, 5, 19, 2, 8, 39, 13, 39, 18, 9, 35, 19, 2, 16, 10, 4, 34, 28, 29, 3, 7, 8, 50, 22, 18, 11, 15, 56, 4, 28, 19, 6, 140, 118, 8, 48, 20, 38, 22, 24, 8, 4, 50, 22, 26, 14, 29, 24, 166, 17, 5, 10, 29, 25, 9, 3, 80, 8, 7, 25, 85, 27, 147, 29, 135, 11, 46, 7, 19, 163, 4, 15, 8, 22, 167, 30, 40, 21, 4, 25, 7, 120, 29, 13, 2, 2, 6, 2, 21, 8, 37, 41, 37, 16, 39, 27, 204, 19, 44, 14, 83, 38, 2, 18, 18, 12, 53, 7, 31, 20, 9, 5, 11, 134, 18, 3, 49, 6, 20, 22, 11, 4, 3, 12, 18, 2, 206, 2, 7, 21, 7, 25, 6, 7, 2, 7, 6, 5, 97, 98, 135, 15, 52, 102, 46, 6, 9, 5, 59, 18, 13, 28, 9, 10, 151, 23, 12, 139, 13, 48, 2, 24, 265, 12, 8, 15, 139, 7, 2, 95, 4, 162, 366, 6, 9, 6, 10, 111, 7, 3, 20, 29, 1, 5, 11, 12, 13, 22, 7, 293, 56, 26, 10, 26, 45, 7, 6, 2, 28, 101, 25, 10, 16, 22, 1, 65, 16, 7, 4, 10, 13, 24, 208, 7, 7, 2, 3, 21, 104, 10, 1, 9, 8, 16, 25, 6, 74, 20, 113, 77, 4, 111, 35, 28, 6, 5, 1, 25, 18, 8, 22, 152, 8, 35, 9, 6, 14, 23, 28, 15, 22, 2, 167, 3, 69, 172, 7, 3, 7, 3, 43, 131, 185, 4, 17, 12, 24, 24, 76, 11, 31, 24, 46, 24, 6, 73, 4, 25, 1, 14, 42, 43, 7, 10, 61, 5, 4, 10, 19, 20, 3, 167, 16, 14, 5, 4, 4, 6, 12, 6, 8, 10, 160, 47, 236, 9, 66, 52, 11, 10, 14, 32, 23, 37, 17, 23, 3, 180, 3, 10, 80, 13, 82, 3, 122, 63, 44, 12, 3, 25, 20, 68, 14, 54, 14, 21, 19, 4, 136, 11, 26, 5, 40, 31, 5, 44, 4, 33, 28, 4, 3, 39, 227, 2, 169, 4, 286, 16, 4, 2, 4, 33, 2, 15, 2, 346, 16, 4, 18, 65, 4, 95, 50, 11, 87, 18, 45, 33, 3, 25, 2, 5, 7, 14, 15, 6, 5, 9, 9, 10, 5, 14, 15, 4, 19, 33, 3, 77, 2, 14, 6, 14, 2, 52, 52, 6, 9, 34, 4, 40, 26, 28, 17, 22, 57, 22, 3, 42, 7, 42, 10, 9, 15, 27, 186, 7, 24, 19, 8, 3, 26, 20, 5, 9, 21, 20, 6, 11, 16, 112, 5, 10, 201, 1, 17, 4, 14, 47, 22, 7, 16, 4, 22, 14, 19, 3, 27, 19, 21, 56, 13, 20, 7, 17, 8, 15, 2, 60, 8, 52, 37, 15, 5, 19, 2, 123, 17, 29, 2, 22, 12, 50, 11, 29, 3, 27, 33, 31, 34, 27, 9, 24, 2, 7, 6, 18, 26, 11, 26, 26, 23, 42, 7, 11, 9, 92, 8, 4, 4, 13, 18, 21, 42, 13, 41, 4, 14, 6, 34, 64, 22, 27, 1, 5, 28, 22, 17, 106, 1, 2, 3, 20, 6, 41, 50, 64, 36, 64, 18, 13, 15, 11, 11, 40, 19, 32, 21, 17, 38, 36, 7, 1, 7, 39, 23, 86, 7, 8, 45, 6, 7, 5, 19, 4, 17, 80, 2, 18, 32, 45, 53, 25, 52, 5, 11, 27, 7, 5, 14, 15, 37, 17, 7, 216, 4, 41, 3, 11, 211, 37, 30, 9, 27, 11, 23, 14, 87, 21, 19, 24, 13, 22, 69, 21, 28, 8, 25, 68, 6, 58, 20, 37, 87, 26, 39, 31, 52, 4, 47, 9, 6, 16, 1, 10, 16, 2, 15, 119, 16, 24, 89, 36, 115, 43, 7, 27, 43, 17, 153, 2, 6, 82, 17, 21, 62, 14, 16, 25, 19, 7, 40, 20, 8, 26, 4, 6, 27, 27, 83, 19, 10, 2, 7, 16, 17, 15, 1, 40, 68, 16, 78, 50, 12, 42, 5, 34, 148, 34, 10, 52, 12, 40, 11, 19, 5, 7, 25, 3, 25, 20, 7, 1, 232, 3, 12, 17, 34, 36, 73, 28, 3, 47, 26, 11, 3, 22, 15, 44, 9, 10, 114, 23, 21, 13, 18, 5, 7, 4, 18, 7, 12, 15, 20, 113, 2, 5, 18, 13, 31, 7, 10, 1, 50, 49, 6, 17, 31, 21, 75, 2, 59, 4, 26, 14, 11, 10, 22, 3, 93, 18, 23, 5, 18, 13, 29, 23, 11, 115, 9, 28, 111, 184, 12, 95, 210, 32, 11, 8, 7, 109, 15, 25, 5, 46, 140, 2, 7, 1, 10, 3, 24, 40, 106, 9, 16, 10, 3, 14, 1, 24, 13, 62, 15, 24, 8, 11, 32, 22, 11, 6, 40, 7, 56, 194, 14, 7, 9, 6, 6, 2, 10, 88, 21, 7, 9, 17, 78, 20, 259, 2, 29, 4, 15, 7, 6, 6, 31, 79, 22, 27, 1, 21, 34, 5, 7, 93, 3, 3, 29, 5, 15, 183, 10, 38, 37, 24, 30, 2, 9, 30, 16, 16, 12, 18, 27, 19, 125, 10, 7, 18, 115, 10, 12, 12, 17, 2, 33, 37, 126, 23, 52, 16, 83, 78, 32, 31, 227, 81, 4, 6, 11, 6, 76, 33, 22, 6, 10, 7, 1, 6, 18, 28, 213, 7, 11, 6, 169, 5, 9, 14, 72, 23, 24, 23, 4, 12, 3, 15, 8, 22, 23, 16, 11, 94, 39, 43, 9, 21, 177, 4, 17, 9, 6, 16, 15, 15, 14, 18, 2, 12, 78, 53, 20, 9, 20, 26, 128, 6, 8, 22, 8, 66, 47, 4, 11, 31, 7, 36, 25, 4, 37, 45, 1, 109, 11, 4, 7, 7, 15, 37, 14, 31, 12, 2, 121, 5, 9, 4, 9, 6, 160, 4, 40, 44, 1, 26, 58, 86, 11, 7, 44, 14, 7, 39, 6, 35, 28, 4, 25, 13, 6, 4, 34, 68, 19, 11, 18, 68, 17, 2, 75, 3, 16, 8, 8, 67, 57, 7, 79, 39, 27, 15, 67, 39, 7, 102, 27, 7, 14, 47, 6, 6, 26, 53, 1, 18, 214, 13, 37, 8, 21, 13, 4, 6, 37, 21, 65, 57, 20, 5, 4, 65, 16, 7, 37, 8, 8, 10, 11, 4, 52, 92, 28, 60, 42, 11, 47, 2, 17, 28, 12, 4, 13, 9, 15, 21, 42, 12, 35, 29, 15, 2, 19, 6, 8, 37, 7, 33, 2, 13, 5, 4, 114, 1, 14, 7, 5, 9, 8, 6, 11, 4, 26, 37, 20, 2, 27, 7, 1, 14, 30, 6, 2, 23, 21, 7, 13, 24, 25, 4, 8, 60, 10, 67, 26, 6, 6, 9, 20, 102, 79, 10, 25, 25, 15, 36, 8, 104, 208, 5, 38, 149, 11, 16, 40, 20, 5, 13, 105, 68, 120, 10, 3, 51, 80, 18, 7, 8, 58, 5, 11, 21, 5, 15, 47, 3, 10, 28, 3, 8, 7, 1, 11, 29, 3, 71, 38, 6, 61, 33, 169, 10, 9, 22, 90, 213, 82, 1, 35, 129, 13, 9, 114, 4, 78, 6, 17, 8, 4, 18, 15, 32, 35, 89, 29, 45, 7, 2, 36, 500, 17, 102, 8, 119, 7, 59, 22, 17, 4, 44, 6, 2, 118, 15, 15, 42, 92, 6, 24, 4, 36, 24, 5, 9, 11, 63, 5, 3, 45, 4, 7, 17, 17, 45, 37, 3, 49, 28, 20, 28, 8, 108, 15, 9, 20, 4, 14, 34, 33, 33, 20, 10, 22, 84, 16, 16, 69, 103, 15, 28, 2, 31, 22, 3, 8, 15, 14, 4, 27, 11, 417, 2, 6, 30, 15, 15, 23, 2, 29, 256, 18, 2, 10, 37, 50, 12, 10, 19, 51, 2, 15, 22, 4, 33, 8, 6, 23, 49, 38, 4, 31, 26, 45, 10, 1, 37, 8, 11, 28, 22, 12, 18, 8, 10, 10, 160, 17, 5, 4, 15, 22, 12, 59, 8, 29, 11, 1, 10, 19, 6, 9, 9, 61, 8, 114, 17, 31, 56, 25, 10, 3, 156, 29, 35, 8, 81, 2, 5, 10, 45, 10, 18, 4, 44, 263, 14, 1, 25, 8, 12, 98, 24, 28, 10, 21, 16, 10, 197, 13, 6, 263, 26, 22, 46, 21, 83, 9, 3, 12, 192, 11, 52, 21, 44, 29, 92, 3, 17, 42, 6, 3, 14, 12, 8, 2, 2, 22, 208, 2, 76, 17, 24, 45, 9, 1, 6, 17, 69, 138, 21, 192, 2, 13, 12, 47, 545, 6, 9, 9, 3, 4, 7, 29, 19, 9, 9, 21, 18, 30, 47, 8, 4, 10, 18, 18, 10, 38, 27, 40, 104, 7, 6, 17, 89, 26, 1, 34, 5, 13, 15, 11, 12, 12, 310, 53, 147, 9, 1, 212, 18, 13, 11, 29, 74, 17, 4, 207, 36, 18, 16, 5, 40, 224, 40, 19, 60, 23, 9, 8, 26, 9, 18, 32, 5, 1, 6, 20, 10, 58, 14, 25, 10, 52, 4, 68, 199, 70, 1, 10, 69, 23, 7, 11, 11, 22, 16, 39, 55, 2, 35, 28, 40, 12, 15, 109, 132, 69, 5, 6, 6, 21, 22, 4, 17, 71, 8, 14, 70, 55, 4, 10, 31, 19, 13, 4, 4, 48, 31, 3, 50, 147, 27, 5, 65, 128, 15, 13, 7, 88, 7, 49, 34, 207, 12, 2, 2, 5, 9, 8, 32, 1, 7, 14, 31, 2, 74, 35, 28, 12, 13, 20, 44, 38, 7, 5, 9, 21, 5, 16, 3, 6, 7, 5, 4, 28, 10, 18, 114, 86, 1, 20, 2, 44, 8, 15, 13, 26, 127, 51, 10, 24, 20, 36, 3, 18, 32, 103, 48, 3, 40, 4, 41, 1, 56, 53, 7, 11, 40, 9, 5, 11, 11, 47, 25, 29, 5, 149, 9, 80, 32, 54, 44, 20, 11, 27, 6, 42, 50, 31, 50, 2, 24, 26, 41, 8, 6, 8, 96, 4, 50, 5, 10, 6, 30, 16, 3, 31, 33, 30, 7, 18, 22, 3, 28, 179, 30, 31, 18, 15, 2, 9, 8, 1, 11, 27, 8, 33, 31, 4, 68, 151, 13, 36, 25, 2, 83, 34, 72, 8, 8, 15, 85, 9, 27, 8, 6, 2, 56, 5, 3, 13, 16, 85, 16, 3, 15, 24, 3, 28, 6, 22, 26, 3, 21, 13, 15, 23, 17, 5, 6, 20, 29, 14, 2, 60, 8, 35, 18, 1, 1, 5, 191, 10, 29, 1, 6, 6, 9, 8, 11, 10, 21, 59, 30, 77, 10, 18, 29, 1, 6, 41, 11, 13, 34, 19, 81, 37, 26, 8, 10, 11, 20, 37, 163, 27, 9, 29, 5, 22, 259, 6, 3, 12, 6, 17, 5, 14, 16, 35, 104, 32, 13, 3, 2, 17, 17, 29, 9, 11, 7, 135, 28, 16, 15, 27, 2, 9, 10, 7, 15, 2, 31, 25, 12, 57, 174, 5, 61, 15, 11, 2, 31, 5, 22, 1, 29, 3, 96, 4, 3, 17, 91, 49, 18, 50, 12, 14, 31, 18, 14, 41, 9, 1, 5, 7, 26, 17, 63, 2, 29, 62, 23, 56, 12, 62, 3, 4, 15, 19, 75, 9, 35, 3, 8, 6, 10, 59, 24, 15, 5, 4, 4, 5, 30, 5, 1, 34, 22, 18, 11, 16, 13, 24, 24, 4, 2, 41, 9, 186, 19, 73, 75, 32, 15, 12, 29, 13, 42, 17, 13, 2, 5, 29, 42, 21, 4, 14, 16, 7, 5, 12, 22, 39, 32, 3, 11, 6, 12, 68, 11, 11, 4, 13, 11, 4, 7, 10, 157, 19, 11, 109, 5, 17, 109, 5, 12, 8, 40, 1, 4, 28, 19, 6, 36, 3, 72, 22, 23, 82, 7, 36, 23, 99, 9, 19, 2, 11, 2, 14, 18, 14, 11, 58, 9, 10, 113, 7, 22, 26, 30, 215, 11, 3, 93, 73, 140, 10, 1, 5, 1, 9, 51, 9, 7, 4, 27, 29, 12, 14, 62, 8, 142, 15, 7, 9, 12, 223, 8, 18, 8, 16, 6, 24, 3, 192, 74, 3, 65, 7, 13, 27, 13, 7, 3, 61, 12, 17, 6, 59, 7, 71, 8, 3, 40, 4, 74, 31, 10, 116, 14, 44, 8, 100, 33, 32, 8, 19, 5, 53, 12, 3, 45, 1, 2, 451, 20, 7, 88, 5, 34, 31, 4, 12, 14, 44, 2, 49, 2, 7, 70, 47, 12, 16, 6, 15, 17, 12, 240, 26, 7, 55, 12, 50, 83, 11, 24, 1, 25, 9, 49, 30, 6, 8, 11, 25, 39, 4, 147, 11, 28, 15, 63, 8, 10, 18, 31, 89, 31, 10, 35, 8, 4, 14, 41, 15, 76, 107, 13, 3, 14, 137, 7, 3, 4, 53, 93, 6, 9, 7, 105, 228, 1, 14, 8, 113, 6, 9, 6, 5, 51, 160, 27, 47, 4, 217, 32, 11, 3, 25, 24, 21, 20, 76, 11, 12, 177, 15, 30, 9, 15, 2, 29, 13, 4, 7, 6, 209, 10, 8, 72, 34, 11, 21, 10, 5, 1, 5, 1, 25, 15, 6, 20, 32, 38, 5, 9, 9, 36, 31, 33, 31, 8, 25, 18, 7, 3, 1, 4, 46, 1, 83, 7, 1, 142, 32, 16, 28, 29, 65, 41, 1, 14, 22, 93, 24, 39, 9, 3, 7, 4, 9, 67, 10, 5, 61, 36, 7, 6, 7, 4, 16, 35, 7, 9, 32, 22, 8, 15, 1, 11, 4, 3, 73, 27, 8, 8, 69, 25, 10, 107, 4, 8, 9, 28, 13, 80, 11, 10, 15, 2, 8, 4, 4, 55, 7, 5, 3, 48, 7, 62, 95, 18, 31, 33, 33, 10, 43, 13, 11, 7, 66, 9, 54, 24, 1, 1, 1, 14, 7, 8, 62, 7, 16, 10, 122, 43, 46, 3, 19, 43, 24, 1, 15, 29, 9, 49, 22, 463, 18, 4, 8, 28, 400, 4, 107, 9, 34, 42, 14, 108, 7, 10, 16, 10, 13, 78, 10, 61, 13, 41, 17, 16, 4, 13, 68, 31, 12, 20, 5, 195, 24, 29, 13, 22, 10, 29, 11, 5, 42, 9, 55, 6, 32, 2, 9, 148, 95, 8, 16, 15, 5, 58, 26, 24, 5, 3, 54, 16, 10, 26, 74, 6, 10, 10, 105, 13, 57, 2, 23, 15, 41, 1, 3, 14, 2, 22, 57, 203, 262, 5, 26, 37, 41, 10, 9, 19, 9, 16, 17, 37, 6, 46, 49, 34, 43, 2, 76, 19, 24, 12, 40, 4, 7, 10, 187, 50, 9, 16, 17, 13, 2, 40, 7, 14, 49, 7, 11, 20, 19, 32, 69, 2, 21, 59, 174, 10, 28, 6, 43, 22, 45, 21, 23, 34, 22, 10, 12, 34, 15, 25, 24, 19, 9, 47, 47, 10, 14, 19, 27, 4, 22, 3, 27, 49, 8, 88, 47, 4, 60, 8, 16, 4, 23, 11, 3, 39, 28, 51, 135, 1, 19, 25, 183, 299, 25, 7, 6, 32, 83, 31, 5, 48, 9, 55, 15, 3, 17, 16, 15, 5, 8, 59, 5, 3, 29, 7, 48, 2, 2, 7, 5, 2, 6, 10, 18, 10, 54, 10, 13, 68, 70, 15, 49, 64, 100, 182, 52, 21, 16, 11, 17, 145, 6, 1, 5, 52, 169, 105, 62, 4, 69, 42, 5, 19, 14, 76, 15, 29, 4, 21, 13, 10, 7, 289, 24, 27, 43, 232, 12, 24, 57, 59, 5, 48, 17, 11, 2, 146, 26, 25, 4, 12, 4, 48, 4, 1, 34, 11, 19, 28, 29, 18, 129, 6, 15, 8, 183, 18, 2, 61, 123, 9, 6, 12, 7, 172, 11, 47, 18, 66, 10, 3, 34, 25, 86, 28, 10, 43, 231, 8, 11, 14, 23, 9, 9, 5, 49, 9, 37, 169, 9, 46, 19, 43, 4, 6, 1, 12, 18, 88, 15, 115, 12, 18, 5, 11, 11, 3, 15, 28, 4, 7, 8, 27, 5, 97, 21, 17, 5, 34, 18, 69, 37, 15, 5, 9, 2, 18, 5, 46, 3, 9, 10, 79, 12, 27, 6, 47, 28, 63, 25, 7, 14, 18, 13, 11, 24, 3, 73, 58, 12, 7, 22, 62, 50, 54, 98, 76, 17, 27, 15, 20, 22, 26, 29, 10, 10, 26, 47, 64, 14, 7, 46, 55, 16, 11, 193, 17, 12, 24, 11, 17, 1, 2, 32, 14, 29, 7, 12, 87, 13, 39, 33, 28, 123, 1, 15, 73, 25, 47, 12, 57, 84, 28, 17, 5, 21, 16, 3, 9, 22, 19, 16, 32, 15, 190, 1, 25, 124, 62, 9, 79, 35, 33, 9, 4, 15, 86, 9, 21, 53, 28, 19, 8, 7, 2, 28, 12, 2, 99, 6, 2, 2, 28, 78, 199, 15, 27, 19, 4, 5, 52, 63, 20, 17, 36, 4, 8, 28, 31, 5, 27, 13, 8, 58, 11, 4, 30, 41, 20, 9, 6, 6, 32, 4, 131, 46, 1, 6, 53, 46, 13, 12, 5, 5, 10, 59, 32, 19, 82, 3, 5, 16, 34, 7, 13, 40, 38, 5, 10, 30, 14, 75, 341, 1, 9, 29, 37, 275, 20, 2, 74, 27, 27, 9, 12, 6, 13, 77, 81, 12, 45, 15, 205, 2, 36, 2, 29, 17, 127, 16, 11, 27, 3, 63, 12, 29, 15, 10, 127, 7, 38, 16, 171, 186, 3, 17, 18, 4, 19, 20, 12, 7, 7, 5, 41, 44, 4, 15, 69, 14, 4, 81, 3, 11, 3, 27, 109, 20, 2, 24, 26, 48, 11, 24, 22, 91, 22, 21, 1, 44, 9, 84, 34, 2, 12, 19, 2, 12, 18, 6, 26, 4, 6, 4, 34, 70, 10, 16, 4, 51, 22, 14, 12, 10, 3, 13, 10, 24, 3, 131, 1, 51, 11, 45, 128, 11, 145, 8, 25, 106, 1, 10, 3, 11, 43, 68, 171, 23, 7, 3, 16, 29, 179, 32, 9, 19, 13, 26, 2, 5, 43, 62, 3, 11, 33, 8, 19, 67, 8, 10, 12, 1, 1, 27, 4, 10, 6, 8, 49, 7, 33, 207, 19, 41, 27, 220, 4, 105, 8, 10, 62, 2, 32, 110, 19, 12, 106, 61, 40, 7, 43, 58, 9, 3, 10, 22, 101, 7, 121, 113, 1, 13, 7, 3, 8, 149, 11, 14, 28, 3, 3, 24, 9, 9, 7, 20, 4, 1, 1, 240, 35, 2, 45, 3, 39, 14, 16, 6, 41, 14, 7, 8, 79, 77, 13, 4, 17, 14, 12, 39, 17, 25, 56, 20, 4, 31, 26, 155, 16, 71, 14, 30, 50, 4, 15, 114, 11, 11, 69, 17, 51, 39, 2, 2, 60, 9, 18, 47, 4, 68, 21, 14, 6, 16, 31, 20, 40, 27, 21, 47, 165, 19, 63, 46, 5, 18, 18, 35, 60, 43, 86, 10, 18, 10, 32, 38, 58, 41, 8, 26, 30, 146, 144, 2, 15, 89, 40, 38, 27, 5, 28, 13, 26, 15, 115, 3, 72, 16, 30, 9, 87, 6, 11, 6, 3, 213, 9, 13, 69, 57, 7, 14, 3, 64, 115, 6, 12, 26, 12, 11, 175, 18, 61, 16, 42, 3, 4, 4, 67, 18, 44, 35, 5, 19, 30, 6, 3, 26, 12, 61, 26, 60, 20, 20, 28, 58, 15, 1, 34, 134, 48, 41, 7, 94, 25, 25, 212, 20, 11, 2, 53, 10, 4, 14, 17, 7, 9, 139, 27, 34, 57, 24, 16, 5, 10, 5, 20, 64, 18, 11, 9, 5, 2, 47, 6, 4, 43, 17, 18, 29, 4, 1, 75, 14, 257, 1, 253, 8, 8, 10, 46, 104, 4, 20, 4, 34, 6, 1, 16, 14, 11, 42, 145, 31, 33, 5, 99, 8, 46, 12, 41, 2, 15, 36, 7, 71, 49, 28, 6, 31, 44, 10, 13, 8, 1, 44, 96, 5, 4, 33, 10, 43, 21, 14, 42, 15, 29, 28, 30, 98, 6, 14, 25, 5, 40, 32, 12, 11, 3, 46, 6, 12, 18, 116, 6, 37, 5, 22, 41, 11, 52, 16, 202, 53, 4, 41, 44, 16, 52, 120, 5, 26, 11, 8, 40, 19, 7, 16, 12, 20, 5, 2, 19, 31, 30, 3, 3, 27, 15, 41, 9, 4, 3, 3, 22, 32, 27, 14, 42, 25, 12, 71, 27, 1, 18, 11, 21, 25, 4, 1, 9, 3, 32, 172, 11, 14, 43, 12, 114, 23, 19, 39, 46, 2, 5, 11, 5, 94, 32, 6, 17, 34, 24, 11, 4, 22, 8, 15, 25, 9, 6, 2, 1, 13, 13, 7, 74, 29, 1, 16, 5, 187, 20, 68, 68, 24, 14, 29, 30, 17, 35, 53, 59, 58, 2, 8, 18, 4, 21, 12, 21, 4, 4, 16, 101, 26, 3, 12, 12, 15, 9, 65, 38, 10, 29, 62, 38, 15, 7, 28, 59, 14, 17, 62, 3, 4, 40, 2, 2, 8, 9, 3, 16, 1, 6, 3, 4, 26, 10, 33, 86, 9, 19, 27, 14, 15, 45, 3, 72, 33, 36, 17, 77, 27, 7, 8, 6, 5, 35, 80, 9, 33, 27, 146, 63, 47, 18, 73, 3, 3, 68, 3, 6, 8, 8, 20, 55, 13, 63, 50, 39, 23, 25, 19, 34, 57, 200, 10, 23, 12, 36, 6, 100, 44, 6, 77, 8, 28, 2, 204, 9, 10, 24, 27, 8, 4, 31, 28, 35, 26, 12, 6, 9, 9, 66, 8, 14, 19, 14, 63, 3, 17, 16, 10, 3, 60, 49, 9, 38, 3, 3, 3, 94, 30, 3, 41, 16, 35, 19, 5, 5, 23, 6, 26, 32, 2, 87, 13, 20, 1, 13, 21, 16, 121, 11, 204, 6, 9, 56, 1, 55, 8, 157, 11, 11, 376, 32, 229, 2, 32, 3, 29, 18, 13, 44, 4, 6, 8, 3, 2, 64, 72, 17, 6, 3, 35, 3, 34, 27, 123, 93, 2, 55, 9, 13, 81, 11, 12, 30, 27, 15, 13, 36, 157, 132, 21, 6, 6, 65, 12, 34, 47, 42, 15, 395, 8, 33, 22, 11, 57, 2, 10, 14, 48, 5, 7, 41, 97, 1, 9, 11, 134, 4, 8, 103, 2, 21, 39, 27, 2, 3, 46, 28, 32, 22, 9, 23, 4, 43, 104, 123, 12, 6, 20, 4, 14, 4, 2, 31, 18, 18, 41, 29, 37, 1, 4, 313, 58, 31, 59, 11, 13, 5, 5, 5, 17, 27, 46, 10, 11, 18, 178, 4, 6, 21, 22, 26, 49, 50, 49, 22, 19, 21, 10, 79, 3, 44, 157, 29, 41, 318, 32, 17, 8, 12, 17, 8, 6, 3, 2, 22, 5, 18, 5, 17, 19, 5, 265, 5, 39, 10, 7, 4, 77, 12, 9, 3, 33, 57, 29, 16, 12, 9, 3, 12, 58, 11, 5, 26, 18, 17, 6, 26, 5, 19, 22, 13, 46, 68, 4, 6, 4, 18, 32, 9, 17, 15, 49, 6, 25, 5, 7, 17, 59, 85, 7, 2, 43, 8, 11, 5, 21, 9, 8, 28, 27, 11, 38, 5, 4, 46, 80, 14, 28, 4, 22, 17, 9, 59, 4, 14, 2, 7, 13, 4, 45, 30, 28, 29, 9, 555, 31, 40, 6, 5, 1, 12, 101, 33, 3, 7, 8, 73, 12, 283, 40, 80, 9, 5, 31, 67, 9, 6, 6, 19, 43, 4, 8, 24, 119, 10, 27, 3, 36, 36, 21, 24, 15, 100, 42, 43, 15, 87, 158, 4, 10, 10, 4, 10, 3, 6, 32, 34, 6, 133, 13, 5, 2, 55, 62, 8, 78, 5, 7, 20, 10, 4, 9, 11, 78, 70, 5, 4, 47, 19, 5, 3, 11, 188, 19, 31, 12, 31, 6, 12, 34, 22, 40, 40, 32, 4, 119, 92, 96, 8, 8, 29, 74, 13, 33, 14, 52, 26, 9, 21, 7, 33, 26, 3, 1, 53, 29, 8, 33, 6, 82, 36, 9, 6, 73, 68, 71, 13, 31, 29, 30, 9, 19, 6, 39, 33, 3, 11, 14, 11, 62, 18, 95, 160, 17, 18, 14, 33, 12, 10, 1, 1, 25, 12, 6, 52, 95, 16, 50, 28, 13, 6, 205, 62, 3, 12, 45, 18, 25, 23, 14, 4, 12, 34, 7, 8, 32, 37, 14, 19, 20, 207, 2, 24, 34, 280, 12, 20, 9, 12, 71, 11, 33, 1, 4, 17, 10, 75, 17, 34, 26, 74, 3, 22, 14, 4, 9, 13, 16, 289, 27, 6, 7, 162, 36, 20, 63, 81, 29, 3, 12, 3, 74, 28, 4, 24, 16, 66, 49, 65, 8, 19, 6, 43, 15, 7, 136, 30, 3, 5, 88, 42, 12, 76, 4, 32, 98, 5, 31, 14, 22, 14, 14, 83, 13, 18, 12, 34, 24, 119, 9, 6, 15, 14, 8, 24, 7, 12, 9, 14, 5, 9, 5, 61, 31, 1, 17, 22, 14, 10, 8, 5, 320, 30, 32, 6, 13, 37, 42, 60, 40, 19, 27, 16, 65, 5, 22, 106, 9, 1, 55, 11, 29, 69, 31, 20, 7, 13, 12, 14, 11, 21, 207, 8, 26, 10, 14, 16, 3, 6, 15, 58, 13, 27, 8, 200, 25, 6, 4, 11, 44, 38, 6, 6, 13, 6, 5, 10, 8, 11, 23, 2, 216, 22, 13, 10, 166, 7, 4, 22, 29, 4, 47, 8, 50, 23, 19, 23, 21, 20, 4, 19, 79, 23, 141, 25, 9, 1, 5, 16, 23, 50, 6, 22, 9, 5, 16, 18, 43, 30, 5, 8, 11, 43, 3, 64, 36, 6, 22, 18, 27, 32, 72, 4, 13, 2, 63, 19, 12, 20, 47, 5, 4, 49, 12, 8, 30, 20, 35, 9, 11, 51, 3, 12, 11, 16, 55, 22, 1, 10, 8, 5, 52, 16, 60, 35, 3, 12, 35, 22, 6, 183, 15, 7, 34, 10, 6, 4, 4, 14, 18, 12, 81, 19, 6, 3, 22, 22, 31, 3, 66, 20, 19, 11, 9, 56, 21, 29, 21, 20, 5, 27, 8, 21, 20, 15, 26, 183, 64, 23, 3, 31, 24, 1, 216, 29, 7, 19, 75, 89, 4, 66, 28, 6, 14, 26, 4, 11, 31, 8, 61, 80, 18, 7, 471, 41, 42, 9, 17, 4, 4, 46, 4, 5, 71, 6, 50, 31, 4, 6, 5, 53, 68, 28, 40, 18, 72, 11, 24, 35, 17, 19, 9, 63, 128, 53, 25, 6, 8, 8, 149, 14, 8, 7, 10, 4, 10, 49, 18, 38, 15, 16, 55, 6, 21, 19, 8, 39, 8, 10, 10, 52, 184, 24, 10, 1, 26, 16, 19, 207, 32, 115, 14, 5, 70, 11, 6, 67, 17, 10, 12, 1, 51, 3, 5, 7, 3, 2, 97, 17, 29, 15, 54, 35, 9, 98, 14, 4, 61, 43, 50, 17, 80, 4, 11, 21, 15, 10, 24, 16, 5, 3, 11, 12, 30, 8, 2, 1, 20, 22, 3, 40, 3, 36, 117, 4, 174, 6, 58, 4, 70, 12, 17, 28, 59, 3, 9, 184, 16, 187, 9, 5, 20, 13, 123, 17, 3, 10, 15, 17, 14, 8, 17, 59, 3, 20, 16, 13, 51, 9, 85, 46, 22, 19, 8, 17, 22, 21, 132, 13, 18, 9, 3, 50, 12, 67, 3, 85, 68, 45, 35, 7, 18, 12, 178, 47, 10, 21, 81, 7, 14, 1, 3, 231, 14, 29, 12, 8, 20, 144, 192, 14, 15, 36, 16, 5, 12, 78, 9, 53, 18, 49, 323, 7, 9, 30, 11, 7, 23, 78, 20, 8, 11, 12, 39, 35, 6, 184, 8, 98, 37, 66, 133, 34, 35, 5, 39, 15, 10, 15, 10, 21, 26, 11, 46, 13, 3, 25, 1, 46, 3, 58, 21, 4, 32, 1, 76, 53, 5, 86, 2, 18, 5, 13, 2, 3, 7, 21, 7, 114, 15, 29, 3, 6, 55, 77, 6, 33, 2, 12, 3, 44, 9, 6, 41, 23, 69, 25, 19, 9, 14, 37, 21, 7, 72, 12, 29, 33, 21, 14, 4, 25, 28, 9, 39, 7, 64, 29, 32, 31, 64, 18, 63, 9, 19, 35, 14, 41, 4, 8, 16, 107, 2, 10, 6, 41, 101, 11, 64, 7, 2, 55, 12, 144, 15, 11, 14, 25, 10, 44, 30, 5, 14, 1, 9, 70, 42, 8, 9, 14, 15, 12, 127, 18, 126, 9, 6, 6, 75, 324, 4, 50, 10, 20, 23, 3, 10, 100, 23, 20, 66, 4, 5, 45, 4, 1, 30, 76, 102, 6, 13, 3, 14, 28, 3, 64, 33, 14, 7, 34, 12, 13, 7, 38, 198, 16, 77, 75, 46, 17, 32, 6, 18, 28, 5, 71, 6, 8, 20, 16, 53, 121, 7, 26, 105, 2, 72, 40, 15, 8, 80, 75, 78, 6, 50, 8, 13, 5, 18, 50, 5, 13, 15, 6, 27, 7, 13, 86, 7, 44, 4, 5, 6, 12, 143, 8, 20, 13, 223, 4, 1, 5, 9, 9, 12, 40, 5, 5, 64, 5, 10, 14, 7, 22, 29, 21, 178, 1, 7, 3, 7, 38, 19, 6, 14, 27, 4, 3, 56, 8, 37, 11, 9, 40, 17, 3, 10, 58, 75, 93, 7, 1, 10, 5, 153, 10, 55, 5, 40, 61, 21, 5, 63, 8, 9, 10, 65, 4, 11, 61, 27, 58, 133, 7, 179, 15, 19, 21, 15, 50, 14, 8, 13, 9, 8, 5, 16, 11, 2, 101, 6, 3, 84, 66, 5, 60, 69, 7, 14, 50, 55, 20, 15, 8, 12, 32, 21, 39, 2, 19, 17, 7, 21, 10, 31, 3, 18, 22, 28, 12, 209, 5, 12, 7, 6, 38, 15, 69, 9, 31, 1, 24, 6, 7, 29, 4, 35, 419, 1, 7, 22, 38, 8, 34, 14, 32, 32, 5, 2, 2, 202, 85, 8, 15, 20, 1, 18, 212, 9, 58, 11, 9, 18, 8, 7, 3, 23, 31, 10, 14, 11, 206, 21, 12, 6, 81, 22, 12, 2, 24, 18, 4, 41, 2, 13, 30, 18, 5, 6, 30, 6, 19, 3, 36, 14, 7, 90, 45, 27, 20, 32, 20, 6, 36, 24, 57, 35, 1, 11, 21, 10, 17, 7, 24, 5, 198, 30, 79, 5, 3, 63, 16, 74, 87, 11, 4, 13, 61, 8, 13, 6, 40, 1, 2, 9, 6, 39, 108, 56, 6, 30, 3, 222, 13, 4, 19, 17, 17, 33, 12, 24, 1, 51, 13, 18, 84, 44, 23, 29, 22, 23, 12, 6, 8, 5, 10, 54, 9, 14, 26, 108, 2, 6, 33, 53, 19, 43, 58, 12, 17, 13, 5, 29, 13, 21, 16, 8, 21, 6, 65, 26, 23, 13, 17, 74, 74, 21, 23, 12, 4, 9, 53, 59, 53, 8, 8, 3, 115, 23, 7, 5, 6, 8, 4, 20, 5, 4, 16, 46, 60, 57, 12, 26, 17, 18, 18, 19, 47, 40, 17, 13, 126, 30, 28, 23, 50, 7, 7, 21, 8, 32, 38, 19, 69, 19, 336, 12, 7, 60, 25, 19, 6, 23, 11, 19, 2, 26, 14, 13, 17, 56, 6, 51, 6, 13, 14, 19, 5, 14, 21, 15, 13, 24, 2, 72, 188, 398, 8, 377, 14, 2, 14, 48, 54, 36, 1, 5, 3, 48, 9, 4, 69, 24, 2, 28, 6, 17, 10, 34, 9, 11, 175, 97, 56, 214, 5, 9, 13, 1, 5, 14, 63, 36, 97, 1, 4, 15, 6, 22, 16, 6, 20, 144, 36, 64, 101, 34, 181, 9, 35, 124, 28, 48, 12, 14, 17, 34, 3, 98, 17, 32, 8, 97, 32, 55, 32, 5, 36, 8, 12, 6, 46, 37, 1, 16, 30, 32, 10, 23, 26, 25, 32, 8, 51, 4, 32, 5, 15, 64, 33, 27, 27, 20, 11, 47, 20, 23, 1, 57, 6, 26, 4, 10, 49, 70, 119, 39, 3, 48, 16, 14, 2, 4, 15, 4, 7, 44, 12, 60, 59, 179, 15, 9, 3, 244, 155, 74, 21, 15, 13, 4, 5, 20, 12, 38, 57, 11, 131, 27, 2, 6, 5, 6, 15, 7, 3, 13, 13, 10, 15, 13, 1, 10, 21, 1, 62, 7, 15, 40, 11, 2, 6, 8, 9, 10, 85, 7, 117, 43, 13, 12, 21, 9, 41, 45, 19, 8, 7, 25, 14, 59, 189, 15, 7, 5, 9, 17, 16, 44, 31, 99, 30, 199, 48, 9, 21, 8, 13, 69, 26, 3, 10, 189, 14, 206, 55, 9, 8, 27, 10, 7, 1, 3, 16, 31, 19, 1, 23, 67, 27, 8, 10, 11, 44, 31, 105, 2, 70, 129, 14, 11, 218, 6, 38, 104, 28, 49, 3, 17, 16, 17, 22, 43, 9, 55, 10, 14, 6, 19, 21, 4, 1, 99, 30, 32, 74, 7, 66, 220, 23, 12, 11, 39, 19, 22, 16, 1, 22, 19, 4, 7, 1, 8, 24, 19, 109, 7, 6, 2, 21, 68, 20, 37, 12, 10, 72, 16, 44, 5, 106, 34, 17, 74, 7, 56, 22, 7, 27, 13, 14, 12, 21, 44, 3, 13, 1, 27, 10, 3, 3, 56, 20, 14, 17, 30, 43, 4, 53, 50, 15, 3, 14, 66, 4, 11, 3, 5, 80, 12, 17, 13, 4, 25, 18, 14, 11, 94, 18, 15, 14, 4, 2, 53, 89, 14, 38, 3, 7, 4, 44, 11, 4, 9, 6, 16, 51, 7, 16, 8, 30, 13, 20, 25, 2, 44, 7, 54, 4, 225, 27, 13, 22, 42, 87, 10, 6, 15, 63, 7, 166, 9, 53, 132, 7, 12, 185, 9, 8, 4, 1, 55, 287, 19, 47, 36, 12, 60, 13, 50, 7, 60, 201, 35, 1, 11, 81, 20, 15, 35, 100, 10, 8, 201, 42, 15, 72, 18, 10, 22, 8, 8, 3, 36, 63, 17, 1, 6, 191, 9, 5, 8, 26, 40, 8, 5, 1, 21, 1, 221, 9, 1, 61, 113, 17, 10, 4, 27, 7, 27, 1, 39, 30, 5, 9, 11, 81, 17, 23, 15, 7, 3, 12, 12, 5, 22, 131, 18, 49, 42, 40, 13, 38, 7, 5, 40, 12, 20, 114, 34, 14, 4, 101, 25, 7, 11, 13, 30, 13, 74, 22, 15, 12, 2, 2, 180, 39, 18, 42, 25, 41, 24, 17, 60, 84, 26, 10, 35, 8, 92, 12, 335, 55, 12, 86, 5, 9, 70, 75, 83, 13, 166, 12, 8, 9, 24, 10, 36, 26, 51, 19, 13, 37, 17, 13, 4, 24, 31, 15, 17, 53, 11, 51, 13, 30, 41, 114, 3, 1, 21, 10, 1, 13, 12, 37, 10, 7, 10, 13, 30, 265, 12, 17, 7, 4, 102, 18, 2, 8, 7, 31, 15, 17, 10, 3, 4, 4, 9, 27, 9, 81, 59, 9, 5, 145, 71, 2, 241, 12, 10, 44, 5, 18, 5, 6, 16, 58, 18, 15, 70, 7, 1, 9, 22, 16, 9, 4, 10, 8, 40, 25, 12, 151, 33, 68, 13, 7, 2, 4, 23, 10, 60, 11, 35, 5, 14, 3, 88, 21, 45, 103, 6, 8, 14, 172, 280, 170, 4, 29, 2, 27, 63, 4, 16, 15, 58, 3, 25, 8, 27, 18, 19, 41, 14, 6, 12, 22, 9, 2, 6, 122, 18, 9, 12, 16, 105, 11, 6, 7, 5, 6, 8, 20, 6, 5, 21, 110, 24, 18, 14, 45, 23, 18, 31, 48, 35, 10, 12, 14, 8, 7, 17, 3, 7, 7, 46, 21, 38, 92, 22, 15, 16, 4, 1, 17, 12, 35, 8, 26, 18, 16, 118, 12, 10, 32, 31, 2, 9, 42, 45, 99, 14, 195, 7, 16, 6, 46, 9, 74, 47, 26, 3, 37, 93, 3, 6, 104, 65, 15, 89, 6, 3, 12, 85, 58, 16, 49, 11, 334, 12, 20, 9, 1, 8, 427, 35, 14, 1, 16, 1, 32, 1, 14, 9, 24, 75, 2, 278, 32, 7, 118, 23, 17, 166, 52, 19, 11, 16, 12, 11, 78, 2, 54, 109, 69, 13, 39, 53, 5, 16, 1, 91, 15, 1, 7, 9, 5, 19, 65, 4, 10, 63, 1, 69, 10, 122, 2, 2, 10, 69, 27, 4, 18, 6, 272, 5, 4, 13, 26, 6, 2, 123, 12, 10, 191, 155, 4, 13, 48, 1, 6, 27, 15, 23, 28, 6, 41, 3, 4, 38, 15, 21, 27, 19, 9, 15, 23, 30, 8, 27, 50, 10, 269, 26, 9, 6, 31, 10, 7, 181, 13, 6, 7, 39, 4, 23, 7, 12, 43, 25, 70, 5, 7, 78, 16, 10, 8, 98, 41, 6, 14, 12, 12, 6, 136, 24, 32, 55, 10, 34, 471, 11, 7, 96, 16, 9, 21, 11, 3, 16, 17, 62, 2, 10, 12, 17, 5, 31, 30, 16, 29, 17, 7, 24, 8, 34, 3, 38, 5, 16, 40, 3, 26, 3, 166, 44, 4, 21, 16, 2, 6, 23, 194, 16, 2, 40, 49, 10, 33, 21, 178, 13, 9, 43, 221, 18, 6, 22, 13, 5, 67, 1, 40, 8, 7, 7, 71, 62, 84, 46, 42, 18, 19, 9, 4, 4, 39, 26, 2, 2, 30, 8, 8, 18, 53, 18, 14, 8, 81, 36, 146, 3, 75, 10, 122, 28, 34, 206, 12, 7, 2, 4, 25, 87, 39, 31, 72, 8, 11, 2, 17, 7, 108, 6, 6, 113, 33, 30, 49, 31, 44, 12, 35, 27, 23, 7, 20, 7, 4, 44, 2, 251, 17, 37, 7, 6, 47, 11, 20, 16, 10, 20, 11, 139, 36, 28, 179, 40, 31, 13, 38, 10, 42, 10, 60, 167, 9, 16, 11, 4, 31, 30, 20, 6, 14, 222, 40, 4, 6, 23, 45, 16, 10, 12, 5, 12, 15, 275, 46, 207, 90, 21, 11, 36, 163, 18, 26, 14, 68, 6, 14, 6, 4, 8, 84, 34, 7, 7, 3, 53, 19, 2, 15, 10, 20, 14, 12, 57, 13, 7, 161, 62, 221, 108, 6, 106, 4, 1, 17, 3, 6, 5, 27, 6, 18, 5, 25, 9, 19, 15, 29, 8, 5, 29, 23, 199, 19, 17, 55, 12, 5, 3, 38, 2, 13, 3, 204, 29, 119, 3, 14, 2, 17, 19, 7, 99, 76, 4, 16, 25, 5, 13, 17, 38, 14, 18, 6, 11, 15, 25, 16, 45, 5, 36, 24, 16, 9, 6, 18, 5, 1, 35, 32, 18, 2, 5, 6, 23, 18, 185, 1, 64, 11, 12, 26, 12, 5, 3, 7, 9, 16, 28, 203, 21, 11, 8, 11, 6, 9, 7, 9, 210, 11, 11, 97, 3, 81, 68, 12, 17, 9, 46, 33, 15, 208, 20, 79, 14, 37, 16, 2, 103, 39, 16, 46, 5, 32, 9, 5, 98, 53, 1, 18, 1, 3, 4, 15, 11, 9, 10, 27, 10, 8, 9, 5, 89, 38, 10, 27, 22, 1, 41, 14, 8, 16, 31, 43, 10, 3, 10, 70, 2, 21, 11, 6, 65, 39, 30, 43, 2, 4, 15, 20, 25, 4, 5, 9, 15, 12, 30, 18, 32, 25, 7, 11, 4, 11, 104, 11, 40, 3, 27, 10, 5, 15, 40, 15, 49, 8, 8, 3, 48, 10, 25, 89, 39, 16, 42, 14, 28, 4, 6, 32, 42, 13, 1, 123, 13, 16, 9, 3, 23, 6, 28, 5, 2, 159, 16, 10, 21, 71, 3, 9, 21, 7, 34, 7, 11, 32, 16, 168, 7, 65, 41, 16, 34, 8, 42, 3, 181, 17, 28, 19, 1, 15, 9, 22, 44, 3, 21, 23, 13, 5, 1, 60, 94, 27, 55, 170, 43, 18, 14, 5, 5, 5, 6, 11, 19, 14, 13, 8, 13, 22, 38, 16, 17, 10, 15, 40, 6, 26, 11, 4, 70, 127, 34, 16, 205, 40, 8, 8, 94, 4, 7, 5, 23, 22, 23, 32, 5, 14, 8, 9, 14, 7, 5, 7, 53, 27, 32, 45, 19, 3, 11, 7, 22, 25, 51, 45, 29, 18, 12, 19, 13, 18, 19, 5, 21, 319, 19, 184, 244, 36, 3, 10, 8, 7, 22, 6, 41, 43, 10, 203, 2, 20, 9, 3, 7, 79, 34, 8, 32, 89, 17, 5, 9, 10, 14, 79, 32, 14, 14, 10, 35, 294, 1, 10, 7, 3, 18, 14, 38, 17, 51, 2, 6, 105, 10, 1, 68, 9, 26, 8, 9, 38, 71, 5, 19, 3, 89, 22, 21, 26, 1, 1, 38, 9, 49, 4, 1, 18, 30, 12, 7, 9, 4, 61, 1, 1, 1, 17, 4, 41, 15, 47, 12, 3, 72, 4, 28, 17, 6, 9, 49, 10, 74, 1, 31, 2, 5, 17, 14, 5, 6, 7, 10, 6, 13, 144, 12, 30, 13, 7, 4, 25, 31, 11, 9, 7, 10, 9, 13, 27, 2, 19, 31, 17, 11, 28, 113, 30, 20, 29, 19, 21, 28, 1, 26, 44, 7, 52, 51, 2, 18, 97, 14, 7, 31, 7, 31, 43, 11, 9, 73, 81, 41, 64, 1, 12, 64, 8, 19, 28, 4, 50, 206, 120, 225, 56, 8, 14, 34, 14, 7, 584, 63, 15, 10, 25, 21, 2, 9, 41, 6, 30, 127, 1, 48, 7, 15, 16, 6, 6, 25, 1, 11, 2, 20, 59, 11, 22, 26, 23, 36, 7, 324, 90, 149, 45, 11, 25, 17, 4, 5, 36, 36, 194, 55, 29, 37, 45, 30, 12, 39, 58, 25, 5, 28, 9, 2, 9, 84, 1, 298, 44, 31, 35, 9, 7, 5, 29, 7, 29, 18, 23, 91, 18, 6, 19, 15, 39, 22, 3, 24, 191, 13, 17, 188, 21, 37, 33, 7, 3, 15, 57, 7, 10, 13, 4, 25, 2, 11, 5, 6, 22, 141, 55, 23, 55, 8, 19, 7, 81, 50, 31, 19, 2, 89, 14, 428, 3, 8, 2, 63, 121, 8, 128, 39, 10, 1, 23, 9, 14, 63, 23, 1, 27, 19, 6, 39, 88, 8, 171, 33, 48, 38, 88, 21, 62, 54, 76, 11, 4, 1, 25, 24, 48, 14, 3, 43, 36, 8, 20, 158, 50, 34, 11, 12, 1, 28, 42, 1, 8, 4, 151, 20, 5, 27, 36, 6, 14, 29, 86, 36, 126, 140, 15, 27, 34, 8, 2, 195, 5, 101, 2, 90, 16, 53, 27, 53, 22, 30, 13, 14, 15, 6, 59, 12, 14, 9, 9, 18, 7, 9, 28, 176, 124, 16, 5, 24, 6, 19, 33, 11, 8, 7, 2, 25, 10, 15, 68, 101, 1, 25, 34, 8, 5, 12, 12, 18, 38, 24, 23, 3, 25, 19, 5, 17, 4, 209, 33, 73, 16, 10, 5, 13, 12, 142, 1, 9, 60, 4, 51, 58, 40, 25, 103, 3, 13, 21, 68, 55, 12, 112, 7, 2, 23, 2, 24, 28, 6, 6, 111, 17, 4, 8, 22, 17, 135, 10, 106, 26, 10, 3, 43, 56, 134, 29, 1, 13, 113, 150, 16, 35, 61, 67, 54, 12, 25, 10, 15, 34, 66, 15, 60, 32, 50, 10, 53, 30, 10, 33, 23, 32, 9, 4, 8, 2, 12, 8, 55, 5, 75, 55, 189, 14, 6, 9, 56, 19, 43, 14, 64, 37, 3, 14, 16, 13, 2, 4, 14, 35, 7, 44, 47, 17, 18, 50, 6, 1, 68, 8, 56, 115, 17, 7, 25, 18, 7, 32, 210, 17, 23, 8, 20, 13, 11, 193, 5, 16, 1, 45, 92, 42, 41, 38, 66, 24, 21, 31, 5, 25, 8, 10, 59, 3, 2, 26, 43, 12, 18, 30, 12, 5, 22, 75, 11, 18, 24, 7, 1, 14, 8, 18, 7, 67, 59, 2, 18, 9, 41, 47, 27, 98, 17, 34, 18, 9, 28, 8, 55, 107, 33, 5, 51, 9, 26, 29, 10, 13, 73, 9, 92, 30, 35, 5, 8, 3, 58, 8, 15, 36, 25, 6, 20, 2, 4, 54, 62, 30, 41, 20, 7, 14, 5, 48, 19, 103, 43, 5, 136, 114, 2, 30, 9, 18, 2, 5, 192, 8, 9, 3, 15, 96, 38, 11, 50, 8, 14, 15, 81, 24, 6, 3, 3, 23, 32, 14, 20, 12, 1, 6, 6, 25, 40, 40, 62, 3, 150, 49, 11, 58, 59, 48, 27, 208, 17, 4, 5, 19, 53, 4, 217, 9, 6, 2, 46, 68, 22, 3, 62, 18, 9, 15, 49, 14, 20, 16, 14, 14, 46, 12, 42, 67, 6, 26, 16, 53, 11, 23, 19, 4, 14, 71, 14, 8, 14, 60, 72, 3, 79, 35, 13, 12, 53, 50, 2, 105, 2, 72, 22, 4, 10, 7, 55, 9, 18, 4, 13, 2, 93, 5, 6, 1, 14, 127, 83, 5, 9, 38, 8, 6, 31, 11, 127, 39, 10, 12, 32, 5, 395, 14, 112, 14, 3, 6, 53, 37, 48, 12, 9, 11, 31, 1, 6, 115, 22, 67, 29, 21, 9, 12, 14, 3, 1, 9, 51, 45, 10, 13, 28, 10, 25, 63, 18, 7, 5, 100, 34, 7, 12, 5, 7, 11, 28, 19, 18, 60, 1, 52, 2, 19, 22, 27, 69, 94, 10, 8, 13, 39, 76, 82, 56, 17, 6, 11, 8, 1, 18, 3, 4, 52, 8, 19, 12, 75, 11, 44, 7, 9, 16, 39, 93, 45, 83, 20, 2, 245, 20, 27, 29, 9, 26, 7, 3, 15, 140, 13, 19, 32, 10, 8, 35, 27, 7, 15, 43, 44, 19, 11, 9, 13, 22, 40, 26, 96, 37, 25, 28, 7, 6, 6, 55, 9, 6, 54, 20, 31, 8, 39, 44, 19, 5, 5, 119, 15, 3, 2, 15, 31, 6, 4, 4, 226, 15, 17, 16, 29, 23, 17, 60, 9, 72, 6, 10, 6, 8, 21, 23, 119, 7, 62, 40, 8, 77, 29, 5, 91, 233, 7, 18, 4, 4, 27, 38, 40, 8, 11, 14, 2, 111, 4, 50, 6, 2, 15, 58, 18, 25, 28, 22, 2, 57, 41, 49, 6, 52, 6, 15, 22, 19, 41, 6, 1, 15, 21, 2, 19, 23, 3, 11, 17, 7, 29, 70, 10, 4, 33, 4, 52, 11, 19, 15, 1, 13, 11, 3, 10, 40, 7, 32, 5, 101, 1, 38, 7, 196, 210, 260, 5, 2, 172, 35, 10, 4, 119, 50, 179, 11, 20, 24, 12, 62, 83, 13, 52, 6, 3, 1, 15, 7, 5, 11, 59, 29, 32, 19, 3, 84, 23, 45, 10, 9, 13, 5, 1, 67, 30, 10, 784, 33, 73, 93, 51, 32, 5, 6, 71, 10, 30, 18, 32, 2, 254, 3, 10, 4, 3, 22, 35, 13, 56, 8, 5, 24, 41, 1, 22, 14, 10, 13, 92, 13, 17, 25, 22, 16, 13, 9, 124, 15, 7, 2, 17, 10, 4, 4, 11, 29, 32, 108, 37, 29, 74, 44, 26, 83, 10, 5, 4, 15, 8, 51, 16, 13, 30, 6, 14, 73, 43, 16, 52, 163, 181, 53, 7, 66, 12, 11, 7, 111, 7, 17, 1, 16, 3, 96, 4, 27, 55, 119, 1, 18, 13, 12, 6, 194, 16, 15, 6, 16, 31, 52, 6, 4, 5, 25, 25, 204, 5, 1, 5, 10, 5, 13, 16, 16, 3, 77, 5, 3, 7, 39, 1, 36, 4, 43, 2, 1, 32, 11, 5, 10, 16, 11, 11, 24, 2, 393, 22, 2, 6, 31, 22, 84, 10, 98, 6, 50, 25, 7, 95, 30, 17, 50, 23, 5, 8, 7, 14, 34, 1, 6, 7, 42, 3, 19, 4, 3, 55, 20, 203, 36, 6, 3, 20, 8, 13, 27, 14, 2, 8, 19, 16, 3, 12, 59, 14, 7, 19, 112, 64, 67, 2, 21, 41, 4, 32, 2, 5, 91, 98, 13, 9, 10, 252, 22, 113, 121, 7, 112, 14, 2, 14, 20, 40, 9, 47, 23, 3, 1, 11, 16, 1, 17, 4, 14, 74, 9, 10, 28, 42, 3, 18, 6, 28, 48, 52, 15, 22, 42, 70, 4, 29, 34, 22, 75, 14, 57, 9, 65, 9, 11, 209, 1, 6, 18, 12, 29, 7, 21, 12, 16, 8, 2, 11, 3, 34, 5, 85, 63, 92, 35, 22, 19, 39, 12, 63, 52, 65, 24, 19, 28, 49, 23, 5, 10, 107, 22, 1, 199, 5, 17, 101, 3, 16, 49, 83, 13, 34, 22, 29, 12, 48, 11, 18, 22, 18, 1, 3, 19, 8, 17, 5, 15, 3, 12, 4, 46, 11, 29, 8, 10, 2, 80, 159, 48, 11, 3, 71, 57, 127, 41, 21, 17, 22, 111, 14, 64, 26, 4, 16, 18, 2, 7, 4, 12, 43, 19, 34, 35, 16, 9, 38, 39, 68, 39, 18, 49, 4, 35, 6, 97, 32, 80, 4, 10, 14, 8, 30, 114, 11, 21, 30, 26, 11, 33, 2, 19, 10, 29, 8, 76, 49, 48, 56, 11, 38, 74, 17, 114, 21, 28, 134, 45, 9, 23, 19, 51, 13, 5, 5, 187, 3, 12, 10, 28, 7, 5, 35, 30, 25, 3, 63, 77, 15, 10, 20, 24, 154, 27, 36, 7, 3, 27, 22, 12, 2, 8, 16, 14, 22, 2, 14, 127, 10, 43, 26, 4, 30, 184, 31, 112, 7, 99, 63, 60, 14, 47, 13, 20, 155, 19, 6, 4, 5, 10, 17, 94, 5, 5, 40, 5, 95, 13, 18, 21, 116, 5, 21, 99, 68, 10, 7, 25, 16, 4, 12, 122, 24, 26, 14, 162, 12, 53, 22, 68, 49, 48, 18, 8, 14, 20, 11, 1, 94, 8, 4, 20, 5, 29, 7, 59, 23, 2, 4, 10, 17, 4, 62, 15, 36, 6, 4, 5, 21, 3, 9, 19, 23, 69, 3, 49, 8, 28, 21, 159, 10, 109, 27, 22, 24, 44, 12, 39, 224, 6, 21, 7, 16, 69, 19, 4, 16, 13, 1, 15, 2, 7, 45, 8, 36, 3, 34, 12, 79, 11, 6, 14, 8, 31, 1, 22, 18, 97, 38, 10, 15, 1, 8, 13, 13, 92, 4, 10, 77, 203, 16, 56, 168, 40, 19, 35, 21, 11, 7, 6, 8, 10, 12, 106, 77, 16, 24, 159, 3, 8, 29, 26, 1, 23, 58, 5, 41, 21, 10, 62, 14, 6, 22, 7, 111, 8, 17, 6, 2, 54, 46, 20, 24, 59, 66, 67, 2, 1, 12, 27, 12, 6, 17, 4, 32, 17, 154, 9, 67, 14, 4, 7, 74, 2, 18, 9, 34, 10, 16, 12, 12, 69, 7, 18, 43, 6, 15, 77, 8, 10, 13, 4, 2, 18, 51, 4, 24, 107, 39, 21, 27, 33, 48, 11, 29, 13, 6, 31, 283, 77, 60, 11, 1, 112, 42, 4, 13, 52, 16, 83, 16, 49, 41, 38, 3, 27, 15, 6, 2, 137, 87, 3, 6, 110, 61, 3, 9, 5, 7, 35, 46, 15, 3, 28, 50, 2, 33, 12, 26, 12, 6, 95, 11, 50, 22, 61, 45, 5, 109, 9, 6, 71, 9, 7, 110, 3, 10, 68, 5, 18, 115, 28, 10, 49, 4, 31, 4, 11, 121, 5, 7, 13, 207, 72, 6, 3, 2, 8, 31, 22, 7, 10, 7, 74, 31, 13, 13, 12, 60, 9, 18, 3, 50, 3, 23, 31, 16, 76, 21, 7, 65, 3, 4, 20, 165, 3, 14, 7, 68, 1, 63, 80, 44, 3, 10, 139, 2, 9, 28, 257, 39, 5, 6, 20, 9, 3, 24, 28, 1, 87, 20, 16, 44, 88, 50, 12, 9, 11, 7, 11, 8, 41, 3, 9, 2, 4, 11, 3, 8, 98, 8, 29, 6, 19, 10, 6, 1, 4, 50, 11, 15, 36, 71, 1, 13, 24, 6, 79, 20, 28, 39, 17, 10, 39, 32, 3, 1, 31, 38, 19, 64, 95, 9, 26, 18, 29, 31, 98, 22, 11, 22, 4, 50, 32, 18, 2, 74, 15, 6, 2, 9, 3, 30, 66, 41, 15, 26, 14, 143, 60, 117, 214, 1, 7, 31, 9, 14, 7, 30, 41, 41, 21, 12, 3, 26, 119, 9, 62, 19, 2, 89, 4, 44, 14, 4, 52, 14, 26, 8, 9, 9, 2, 9, 2, 4, 5, 22, 13, 22, 116, 60, 16, 19, 5, 95, 25, 6, 46, 6, 10, 22, 8, 16, 8, 272, 22, 22, 7, 12, 61, 35, 57, 7, 72, 44, 10, 4, 89, 2, 13, 18, 16, 18, 2, 25, 21, 39, 83, 28, 8, 30, 4, 30, 38, 6, 69, 55, 6, 16, 33, 16, 17, 11, 12, 142, 3, 49, 6, 5, 6, 3, 312, 4, 3, 168, 132, 3, 13, 10, 6, 11, 11, 17, 26, 34, 80, 13, 8, 26, 23, 20, 37, 14, 16, 51, 15, 22, 47, 33, 19, 7, 4, 33, 71, 27, 26, 29, 22, 47, 24, 6, 83, 17, 47, 15, 3, 12, 18, 103, 9, 12, 4, 13, 17, 4, 5, 33, 2, 17, 39, 16, 69, 17, 16, 12, 6, 110, 6, 73, 8, 8, 21, 6, 18, 34, 48, 215, 22, 6, 11, 45, 24, 12, 18, 31, 393, 25, 5, 27, 3, 14, 33, 7, 14, 5, 98, 119, 1, 13, 103, 11, 19, 2, 11, 127, 7, 2, 2, 127, 1, 31, 5, 218, 139, 20, 219, 9, 109, 121, 16, 4, 15, 10, 24, 15, 64, 7, 4, 8, 18, 5, 7, 24, 2, 4, 29, 1, 4, 2, 43, 4, 2, 3, 24, 87, 23, 21, 3, 30, 22, 7, 14, 7, 3, 7, 27, 34, 94, 7, 8, 9, 3, 4, 9, 9, 2, 74, 8, 75, 29, 17, 65, 10, 8, 2, 12, 13, 3, 10, 7, 2, 10, 11, 9, 11, 3, 2, 32, 76, 86, 92, 7, 4, 14, 17, 141, 86, 25, 18, 36, 3, 32, 17, 10, 35, 9, 3, 2, 7, 13, 2, 49, 51, 30, 62, 118, 4, 29, 5, 4, 55, 10, 47, 59, 9, 2, 13, 69, 23, 27, 21, 38, 11, 2, 9, 50, 47, 181, 34, 7, 3, 16, 31, 75, 3, 4, 6, 109, 9, 44, 12, 10, 16, 3, 27, 41, 52, 16, 103, 16, 26, 8, 44, 6, 17, 12, 5, 8, 3, 38, 2, 98, 3, 22, 8, 7, 15, 1, 117, 9, 20, 24, 17, 4, 10, 10, 3, 15, 180, 8, 14, 15, 7, 12, 163, 6, 11, 12, 6, 56, 27, 22, 8, 23, 3, 19, 22, 599, 124, 4, 3, 23, 7, 33, 19, 29, 15, 19, 125, 34, 3, 18, 1, 24, 32, 21, 13, 4, 15, 4, 16, 132, 104, 7, 26, 4, 5, 27, 138, 27, 10, 10, 45, 3, 48, 5, 43, 243, 30, 56, 4, 30, 26, 193, 23, 13, 39, 14, 67, 15, 4, 24, 15, 13, 68, 25, 9, 77, 37, 5, 139, 42, 13, 6, 107, 11, 27, 33, 5, 4, 11, 66, 39, 7, 46, 129, 15, 86, 11, 16, 12, 9, 29, 266, 177, 2, 24, 27, 4, 90, 9, 8, 61, 1, 62, 17, 98, 53, 12, 41, 2, 2, 5, 4, 31, 21, 15, 3, 11, 8, 7, 33, 6, 15, 31, 1, 119, 22, 53, 111, 5, 9, 44, 128, 15, 3, 70, 8, 9, 6, 13, 18, 11, 30, 6, 22, 8, 60, 8, 13, 10, 9, 56, 76, 10, 23, 7, 22, 59, 20, 52, 5, 14, 86, 11, 20, 7, 14, 5, 5, 4, 17, 18, 25, 5, 33, 6, 35, 13, 64, 8, 29, 12, 42, 28, 47, 3, 25, 9, 13, 6, 32, 2, 1, 5, 41, 89, 16, 12, 3, 48, 15, 13, 11, 5, 45, 2, 43, 6, 17, 25, 31, 23, 21, 15, 1, 6, 101, 11, 3, 15, 9, 36, 33, 15, 16, 4, 14, 105, 18, 27, 49, 17, 25, 4, 5, 38, 173, 144, 6, 2, 7, 7, 7, 71, 14, 105, 33, 57, 4, 22, 112, 5, 14, 12, 10, 8, 1, 24, 24, 7, 65, 9, 3, 1, 331, 3, 55, 20, 3, 110, 4, 8, 39, 8, 2, 2, 7, 8, 13, 4, 9, 8, 2, 4, 17, 75, 11, 93, 14, 33, 3, 33, 9, 1, 13, 11, 6, 13, 83, 26, 8, 5, 15, 96, 83, 5, 5, 56, 9, 33, 35, 56, 6, 5, 18, 24, 8, 73, 74, 19, 140, 3, 5, 4, 24, 2, 42, 3, 13, 60, 14, 39, 17, 1, 2, 11, 99, 26, 23, 28, 12, 159, 101, 6, 24, 8, 3, 7, 55, 34, 68, 3, 14, 215, 25, 46, 23, 33, 73, 27, 4, 3, 23, 37, 3, 12, 36, 168, 382, 2, 18, 40, 6, 15, 5, 16, 12, 37, 7, 6, 9, 20, 32, 8, 18, 6, 43, 12, 3, 115, 45, 7, 16, 15, 8, 3, 30, 101, 6, 41, 15, 1, 9, 34, 15, 29, 7, 12, 5, 202, 15, 13, 11, 25, 2, 127, 11, 20, 14, 6, 12, 13, 13, 14, 78, 8, 18, 49, 23, 21, 24, 1, 10, 120, 15, 215, 5, 15, 5, 3, 2, 12, 5, 8, 36, 12, 7, 10, 39, 49, 17, 11, 10, 5, 60, 46, 9, 6, 48, 22, 34, 12, 3, 24, 2, 48, 44, 11, 5, 74, 2, 48, 18, 64, 18, 13, 18, 9, 43, 40, 20, 8, 8, 12, 25, 50, 24, 11, 66, 44, 6, 50, 171, 18, 38, 5, 2, 132, 3, 43, 45, 105, 136, 7, 3, 99, 43, 6, 27, 4, 18, 12, 50, 1, 137, 2, 10, 7, 16, 20, 1, 159, 15, 7, 18, 6, 8, 4, 26, 7, 6, 32, 8, 21, 7, 16, 16, 275, 3, 9, 22, 49, 8, 31, 9, 14, 13, 10, 96, 28, 43, 10, 32, 160, 32, 20, 30, 12, 10, 15, 15, 50, 10, 16, 14, 4, 4, 5, 14, 23, 10, 37, 24, 10, 24, 7, 29, 33, 42, 1, 77, 6, 20, 11, 3, 18, 13, 8, 5, 53, 48, 18, 40, 9, 6, 17, 41, 39, 13, 32, 44, 18, 33, 11, 121, 177, 3, 170, 29, 51, 27, 14, 71, 2, 1, 18, 7, 12, 8, 12, 25, 1, 43, 3, 23, 11, 19, 30, 27, 6, 35, 9, 2, 33, 10, 5, 11, 4, 38, 33, 5, 118, 121, 29, 181, 21, 108, 41, 77, 2, 52, 8, 59, 106, 4, 34, 22, 30, 20, 16, 8, 3, 14, 1, 71, 11, 205, 41, 72, 4, 17, 16, 5, 14, 53, 7, 30, 22, 12, 19, 16, 41, 7, 18, 29, 11, 6, 3, 83, 11, 54, 2, 26, 29, 1, 7, 12, 6, 1, 95, 17, 6, 1, 10, 9, 75, 9, 26, 39, 17, 5, 4, 26, 98, 15, 48, 23, 13, 13, 19, 11, 5, 21, 27, 14, 47, 21, 5, 46, 26, 5, 164, 40, 3, 79, 19, 13, 10, 28, 11, 9, 9, 81, 29, 73, 7, 27, 43, 3, 11, 14, 50, 5, 32, 4, 59, 9, 11, 1, 25, 28, 16, 1, 92, 2, 78, 72, 128, 124, 2, 1, 18, 8, 26, 22, 36, 36, 29, 23, 191, 18, 1, 42, 47, 12, 2, 14, 16, 35, 8, 18, 58, 7, 6, 49, 23, 5, 77, 27, 21, 20, 10, 5, 166, 2, 257, 27, 11, 23, 46, 116, 82, 15, 2, 15, 134, 13, 2, 25, 33, 13, 25, 101, 76, 59, 5, 2, 9, 1, 7, 6, 18, 10, 10, 1, 21, 40, 11, 105, 9, 7, 5, 44, 36, 41, 9, 35, 4, 34, 7, 14, 61, 9, 2, 78, 10, 2, 124, 9, 6, 71, 8, 10, 54, 21, 61, 51, 33, 27, 28, 7, 10, 11, 19, 4, 32, 79, 13, 22, 5, 10, 73, 28, 23, 8, 41, 16, 7, 23, 2, 8, 6, 28, 15, 3, 46, 40, 14, 91, 48, 3, 16, 6, 12, 15, 52, 2, 32, 2, 79, 27, 258, 10, 21, 14, 19, 15, 15, 39, 8, 51, 11, 23, 26, 25, 17, 108, 19, 34, 38, 13, 18, 6, 43, 35, 3, 44, 162, 5, 1, 24, 37, 12, 31, 5, 14, 5, 6, 5, 17, 16, 7, 11, 51, 36, 28, 2, 50, 1, 2, 16, 8, 83, 3, 69, 110, 4, 6, 16, 6, 4, 10, 85, 63, 52, 1, 6, 25, 13, 12, 10, 10, 2, 98, 2, 1, 3, 26, 7, 4, 72, 16, 40, 164, 1, 9, 17, 8, 48, 17, 93, 13, 31, 5, 121, 15, 45, 3, 3, 43, 3, 30, 107, 12, 134, 10, 11, 5, 9, 13, 46, 15, 22, 3, 13, 8, 8, 11, 4, 8, 2, 18, 10, 63, 11, 20, 9, 6, 8, 45, 8, 28, 5, 11, 4, 20, 7, 45, 41, 2, 20, 66, 18, 5, 14, 85, 13, 2, 38, 225, 4, 10, 9, 3, 42, 1, 5, 199, 48, 14, 28, 16, 23, 23, 9, 34, 14, 41, 6, 8, 11, 24, 45, 17, 26, 57, 56, 2, 7, 4, 6, 70, 72, 32, 149, 22, 12, 2, 9, 7, 82, 13, 22, 44, 49, 10, 9, 36, 8, 14, 117, 49, 8, 21, 67, 2, 6, 10, 20, 36, 152, 5, 4, 201, 3, 33, 19, 33, 16, 7, 4, 34, 21, 23, 4, 3, 40, 81, 65, 1, 8, 37, 3, 22, 31, 10, 103, 19, 6, 4, 21, 24, 11, 25, 206, 47, 9, 19, 6, 29, 4, 24, 32, 17, 9, 20, 9, 13, 10, 6, 5, 11, 4, 38, 74, 2, 9, 18, 7, 5, 10, 6, 1, 19, 45, 17, 5, 14, 45, 14, 2, 41, 30, 22, 26, 2, 13, 20, 20, 27, 26, 88, 4, 1, 4, 8, 21, 35, 17, 22, 45, 20, 2, 12, 8, 112, 5, 27, 24, 46, 17, 15, 101, 54, 29, 104, 8, 5, 8, 5, 11, 38, 11, 5, 12, 42, 17, 20, 28, 121, 40, 7, 51, 25, 17, 21, 11, 7, 11, 3, 40, 110, 27, 227, 21, 152, 31, 22, 3, 5, 6, 22, 6, 14, 202, 10, 18, 25, 29, 8, 45, 11, 4, 75, 9, 9, 42, 1, 24, 41, 64, 35, 16, 7, 5, 13, 40, 9, 9, 43, 20, 193, 18, 27, 30, 1, 20, 25, 65, 6, 3, 52, 1, 19, 19, 22, 80, 21, 90, 19, 13, 35, 167, 11, 9, 12, 12, 27, 33, 1, 9, 189, 68, 47, 23, 3, 5, 30, 44, 10, 36, 60, 15, 19, 13, 7, 180, 4, 22, 190, 17, 6, 50, 49, 25, 13, 204, 12, 19, 3, 44, 11, 28, 34, 11, 3, 21, 35, 2, 62, 61, 5, 4, 320, 20, 20, 17, 15, 50, 41, 2, 44, 80, 45, 32, 2, 4, 54, 11, 20, 29, 20, 5, 15, 10, 21, 9, 6, 326, 97, 7, 5, 1, 39, 16, 17, 20, 15, 3, 47, 59, 2, 9, 117, 49, 2, 18, 4, 6, 9, 346, 7, 9, 23, 96, 16, 253, 60, 29, 85, 11, 13, 6, 5, 8, 108, 136, 8, 96, 72, 34, 110, 20, 4, 24, 21, 8, 25, 22, 8, 5, 69, 4, 3, 69, 94, 372, 95, 11, 23, 24, 11, 110, 3, 46, 95, 20, 8, 32, 57, 6, 51, 20, 6, 7, 15, 11, 9, 9, 34, 26, 8, 7, 66, 33, 22, 10, 48, 7, 9, 6, 68, 6, 206, 56, 30, 35, 15, 240, 2, 14, 12, 24, 4, 1, 66, 69, 11, 6, 43, 1, 3, 27, 13, 13, 24, 80, 7, 131, 12, 8, 12, 5, 18, 86, 18, 6, 8, 175, 9, 47, 120, 9, 64, 47, 6, 154, 2, 18, 4, 40, 65, 4, 4, 93, 11, 10, 98, 13, 19, 57, 6, 52, 18, 9, 16, 270, 38, 7, 28, 15, 25, 7, 8, 2, 41, 55, 130, 9, 30, 4, 15, 6, 54, 81, 2, 7, 80, 21, 24, 8, 10, 2, 11, 12, 49, 35, 12, 13, 11, 10, 10, 90, 18, 18, 7, 1, 47, 36, 21, 29, 21, 16, 15, 183, 39, 4, 1, 6, 54, 16, 23, 34, 84, 6, 41, 242, 6, 9, 18, 16, 1, 8, 8, 14, 12, 5, 1, 4, 26, 36, 46, 13, 99, 6, 5, 19, 2, 9, 26, 46, 40, 42, 3, 2, 1, 56, 79, 11, 11, 33, 79, 66, 56, 104, 6, 6, 14, 29, 9, 34, 6, 34, 13, 35, 31, 55, 27, 44, 25, 1, 27, 1, 8, 34, 4, 55, 25, 8, 18, 8, 37, 115, 47, 18, 32, 52, 21, 71, 25, 4, 5, 42, 15, 31, 16, 3, 6, 4, 74, 23, 8, 6, 13, 13, 8, 3, 23, 7, 75, 86, 19, 18, 63, 211, 14, 8, 61, 19, 2, 158, 167, 9, 8, 22, 16, 24, 44, 12, 15, 64, 7, 66, 20, 61, 15, 10, 68, 15, 22, 3, 24, 123, 17, 19, 2, 26, 20, 11, 142, 18, 1, 4, 15, 38, 16, 21, 15, 23, 20, 34, 16, 13, 118, 9, 4, 39, 47, 2, 18, 22, 1, 22, 16, 11, 42, 12, 177, 63, 2, 5, 34, 9, 6, 190, 27, 2, 32, 81, 45, 14, 14, 49, 172, 10, 34, 2, 2, 5, 63, 20, 1, 11, 9, 85, 416, 56, 17, 27, 55, 34, 78, 13, 7, 19, 5, 27, 7, 3, 24, 46, 10, 25, 2, 31, 10, 21, 3, 8, 45, 11, 10, 41, 21, 88, 14, 77, 1, 22, 48, 2, 25, 54, 119, 1, 22, 63, 193, 112, 40, 49, 10, 23, 9, 7, 39, 23, 314, 4, 110, 62, 75, 18, 20, 75, 7, 13, 11, 134, 28, 168, 65, 34, 33, 16, 35, 55, 25, 8, 31, 3, 11, 50, 8, 137, 12, 23, 6, 53, 28, 23, 9, 21, 22, 21, 4, 17, 21, 10, 29, 2, 18, 109, 2, 6, 10, 3, 19, 18, 26, 66, 64, 8, 26, 46, 15, 3, 17, 27, 12, 26, 6, 6, 5, 8, 9, 20, 24, 7, 18, 99, 32, 262, 9, 6, 40, 4, 1, 12, 10, 9, 74, 11, 6, 9, 14, 37, 19, 13, 143, 10, 5, 94, 46, 18, 1, 7, 58, 8, 5, 3, 31, 26, 10, 6, 3, 11, 10, 57, 75, 22, 2, 10, 19, 16, 185, 33, 27, 17, 18, 5, 18, 9, 4, 8, 42, 50, 5, 29, 24, 13, 4, 16, 24, 24, 14, 5, 9, 29, 187, 34, 33, 54, 3, 29, 18, 23, 3, 26, 22, 71, 3, 114, 35, 8, 37, 19, 365, 35, 26, 11, 17, 5, 3, 227, 79, 11, 75, 7, 12, 11, 87, 30, 210, 53, 252, 9, 19, 8, 31, 6, 31, 314, 9, 2, 14, 12, 229, 8, 104, 25, 12, 38, 62, 2, 31, 5, 19, 25, 3, 19, 358, 52, 9, 6, 8, 66, 11, 27, 14, 23, 9, 125, 6, 21, 16, 90, 17, 29, 3, 1, 128, 17, 77, 20, 493, 6, 1, 6, 5, 61, 9, 82, 376, 125, 4, 64, 9, 46, 3, 16, 30, 175, 27, 3, 31, 38, 18, 21, 9, 18, 26, 40, 12, 211, 1, 5, 23, 46, 14, 7, 9, 42, 5, 4, 23, 12, 5, 12, 7, 13, 7, 19, 17, 1, 25, 13, 9, 2, 12, 2, 6, 29, 33, 7, 24, 6, 42, 2, 11, 10, 10, 4, 45, 29, 2, 1, 10, 355, 34, 5, 54, 30, 27, 25, 3, 211, 3, 74, 8, 3, 105, 25, 5, 7, 11, 21, 54, 3, 91, 20, 9, 10, 79, 25, 16, 49, 32, 21, 125, 35, 2, 97, 158, 93, 31, 5, 235, 130, 2, 7, 11, 9, 13, 11, 10, 54, 3, 76, 7, 14, 25, 3, 19, 17, 15, 2, 2, 2, 36, 5, 11, 100, 79, 12, 10, 165, 14, 25, 3, 13, 7, 1, 3, 34, 39, 25, 22, 4, 16, 16, 25, 36, 15, 6, 3, 31, 15, 71, 8, 10, 7, 54, 43, 33, 2, 53, 187, 25, 16, 5, 12, 44, 29, 18, 27, 7, 42, 279, 35, 45, 12, 6, 100, 262, 7, 6, 5, 15, 15, 5, 49, 15, 32, 5, 6, 19, 37, 22, 15, 10, 20, 3, 31, 6, 5, 38, 24, 1, 20, 10, 8, 12, 30, 17, 258, 1, 21, 111, 22, 1, 6, 16, 5, 3, 14, 5, 16, 4, 12, 6, 23, 205, 20, 6, 23, 6, 10, 28, 11, 19, 50, 48, 13, 4, 9, 3, 51, 3, 84, 15, 109, 12, 19, 77, 9, 8, 11, 11, 14, 19, 41, 15, 13, 21, 1, 137, 2, 3, 3, 89, 46, 5, 66, 34, 8, 5, 2, 21, 29, 56, 6, 19, 27, 11, 21, 15, 24, 1, 79, 22, 10, 13, 66, 48, 8, 8, 24, 171, 13, 11, 11, 65, 130, 14, 11, 38, 6, 16, 10, 36, 13, 18, 12, 117, 36, 5, 7, 185, 5, 41, 11, 11, 3, 52, 20, 10, 11, 58, 12, 4, 87, 10, 12, 8, 12, 13, 3, 117, 26, 79, 372, 2, 10, 8, 16, 30, 15, 16, 26, 24, 54, 1, 119, 44, 23, 14, 20, 8, 16, 11, 2, 77, 27, 2, 6, 62, 8, 51, 7, 28, 7, 97, 18, 7, 18, 8, 1, 168, 2, 9, 6, 9, 28, 3, 10, 5, 136, 15, 11, 23, 46, 25, 3, 3, 31, 52, 17, 20, 15, 25, 7, 76, 85, 6, 27, 10, 18, 24, 4, 19, 11, 31, 39, 45, 182, 1, 148, 14, 2, 3, 28, 6, 37, 93, 66, 5, 2, 28, 51, 5, 7, 48, 34, 1, 18, 6, 20, 8, 23, 50, 61, 30, 8, 38, 8, 17, 16, 6, 55, 89, 4, 16, 24, 4, 32, 10, 198, 197, 13, 61, 12, 45, 81, 112, 11, 25, 5, 2, 17, 10, 5, 4, 33, 22, 26, 15, 3, 72, 10, 38, 31, 65, 40, 18, 3, 12, 41, 75, 97, 13, 100, 10, 80, 8, 3, 13, 15, 5, 38, 5, 25, 88, 10, 26, 9, 26, 39, 31, 1, 70, 12, 3, 11, 7, 1, 14, 2, 3, 15, 5, 57, 119, 15, 35, 13, 29, 2, 2, 12, 16, 63, 24, 33, 1, 6, 10, 33, 10, 22, 64, 21, 18, 16, 18, 20, 1, 8, 85, 39, 119, 168, 11, 2, 16, 12, 12, 19, 37, 30, 8, 12, 6, 9, 11, 47, 15, 27, 11, 14, 5, 2, 26, 1, 27, 28, 35, 28, 2, 14, 36, 8, 2, 2, 27, 17, 29, 22, 16, 13, 15, 23, 9, 53, 2, 3, 27, 14, 25, 3, 28, 32, 39, 10, 1, 62, 8, 4, 13, 34, 14, 5, 44, 46, 114, 2, 212, 114, 97, 37, 6, 2, 146, 16, 1, 7, 8, 94, 13, 23, 33, 10, 14, 14, 18, 7, 33, 23, 12, 120, 171, 127, 10, 44, 1, 135, 2, 10, 9, 22, 95, 29, 24, 9, 1, 29, 42, 2, 2, 73, 5, 4, 7, 12, 43, 41, 11, 12, 4, 33, 15, 30, 48, 11, 3, 176, 164, 7, 91, 21, 6, 12, 7, 16, 29, 16, 75, 51, 15, 11, 52, 4, 19, 5, 90, 37, 5, 73, 28, 20, 15, 2, 13, 33, 62, 1, 2, 70, 21, 7, 101, 69, 17, 18, 8, 8, 7, 28, 11, 39, 19, 6, 196, 18, 49, 30, 34, 2, 13, 12, 15, 5, 175, 6, 209, 12, 11, 6, 27, 6, 24, 192, 81, 2, 44, 253, 3, 7, 139, 1, 44, 5, 9, 38, 58, 13, 3, 31, 7, 15, 19, 40, 16, 311, 151, 46, 11, 4, 5, 73, 35, 5, 33, 146, 9, 8, 10, 26, 13, 17, 63, 19, 9, 35, 16, 7, 10, 12, 1, 2, 5, 23, 5, 12, 6, 6, 5, 15, 40, 26, 6, 23, 38, 113, 10, 4, 7, 21, 15, 1, 6, 10, 11, 51, 28, 32, 5, 7, 8, 181, 69, 4, 21, 4, 23, 94, 18, 23, 5, 11, 11, 5, 32, 11, 7, 27, 9, 13, 24, 73, 58, 11, 3, 23, 32, 17, 9, 10, 28, 10, 65, 40, 38, 28, 9, 6, 4, 25, 88, 4, 2, 189, 21, 44, 83, 3, 11, 30, 24, 6, 13, 121, 75, 3, 65, 39, 8, 28, 1, 2, 5, 116, 5, 12, 28, 181, 6, 12, 55, 12, 8, 16, 4, 8, 27, 40, 16, 11, 35, 36, 4, 21, 1, 26, 25, 7, 12, 2, 1, 6, 23, 16, 13, 490, 6, 33, 160, 260, 4, 2, 208, 10, 8, 5, 14, 5, 49, 27, 3, 23, 6, 4, 12, 154, 17, 6, 4, 79, 4, 350, 78, 2, 4, 23, 5, 6, 12, 3, 45, 35, 3, 8, 10, 117, 8, 12, 4, 11, 5, 4, 18, 3, 16, 6, 23, 2, 43, 4, 77, 39, 7, 53, 17, 4, 187, 4, 44, 2, 45, 3, 20, 9, 15, 2, 6, 16, 31, 13, 18, 64, 11, 19, 5, 7, 5, 29, 28, 54, 7, 3, 9, 6, 16, 6, 2, 10, 9, 21, 2, 24, 84, 14, 29, 12, 13, 221, 13, 19, 13, 1, 6, 93, 86, 96, 21, 21, 3, 29, 55, 15, 25, 18, 3, 2, 7, 12, 8, 11, 23, 18, 15, 42, 15, 16, 36, 8, 33, 72, 75, 11, 124, 1, 18, 40, 17, 9, 107, 7, 9, 40, 7, 30, 6, 23, 10, 17, 47, 34, 26, 22, 10, 42, 184, 11, 10, 3, 4, 175, 9, 19, 30, 13, 11, 4, 43, 13, 9, 2, 4, 10, 2, 27, 28, 47, 5, 18, 18, 17, 10, 23, 39, 165, 24, 18, 55, 250, 8, 40, 3, 42, 68, 25, 2, 54, 7, 29, 4, 12, 108, 69, 24, 4, 16, 51, 21, 25, 13, 3, 7, 26, 6, 14, 4, 18, 5, 10, 5, 189, 56, 10, 15, 8, 19, 8, 16, 7, 19, 6, 12, 4, 15, 2, 39, 75, 5, 4, 40, 2, 4, 44, 9, 50, 6, 12, 3, 25, 11, 13, 7, 35, 5, 26, 26, 9, 54, 12, 8, 5, 8, 15, 8, 7, 41, 23, 7, 9, 13, 76, 23, 36, 3, 2, 2, 9, 9, 40, 38, 42, 4, 38, 21, 87, 12, 15, 62, 15, 3, 19, 10, 2, 7, 28, 32, 105, 104, 1, 5, 4, 47, 55, 47, 30, 30, 12, 11, 58, 196, 3, 17, 21, 20, 4, 40, 11, 19, 10, 18, 5, 231, 3, 4, 34, 10, 209, 5, 12, 8, 8, 68, 7, 38, 35, 7, 6, 10, 15, 8, 4, 29, 28, 19, 26, 15, 34, 24, 34, 4, 9, 10, 8, 98, 6, 7, 11, 92, 71, 21, 45, 29, 13, 90, 59, 5, 70, 20, 14, 8, 9, 38, 29, 4, 14, 12, 30, 17, 11, 84, 82, 9, 11, 5, 5, 28, 33, 10, 70, 14, 1, 17, 192, 119, 13, 91, 41, 18, 178, 18, 25, 20, 7, 2, 19, 9, 11, 29, 10, 18, 11, 30, 7, 5, 6, 49, 17, 196, 11, 34, 16, 16, 57, 26, 39, 23, 50, 2, 5, 12, 52, 12, 6, 28, 20, 55, 5, 1, 205, 13, 5, 9, 52, 40, 30, 19, 7, 29, 23, 176, 2, 17, 21, 37, 7, 4, 12, 11, 4, 10, 7, 3, 12, 14, 17, 14, 5, 33, 63, 71, 28, 2, 26, 45, 27, 7, 20, 15, 14, 32, 38, 4, 24, 26, 44, 27, 16, 50, 19, 124, 74, 13, 32, 16, 41, 93, 43, 35, 9, 39, 19, 15, 39, 8, 3, 8, 15, 23, 11, 85, 15, 26, 4, 17, 9, 60, 6, 9, 3, 14, 59, 8, 51, 5, 21, 3, 74, 34, 78, 42, 11, 52, 6, 14, 14, 3, 26, 10, 17, 12, 33, 13, 9, 17, 11, 20, 2, 24, 15, 4, 16, 21, 14, 9, 13, 69, 6, 23, 23, 18, 2, 9, 14, 11, 35, 20, 66, 17, 168, 27, 23, 50, 52, 5, 13, 1, 24, 20, 21, 4, 19, 24, 7, 141, 203, 32, 9, 10, 13, 3, 34, 94, 63, 111, 107, 38, 30, 56, 5, 5, 29, 14, 10, 23, 20, 5, 130, 23, 12, 91, 7, 20, 1, 7, 95, 7, 4, 21, 77, 24, 7, 6, 115, 17, 7, 7, 45, 31, 8, 475, 1, 9, 9, 3, 25, 117, 37, 17, 7, 17, 29, 10, 35, 25, 6, 10, 24, 51, 1, 19, 42, 10, 3, 130, 23, 210, 21, 57, 2, 16, 18, 91, 13, 16, 9, 23, 3, 16, 3, 46, 3, 42, 221, 15, 17, 18, 13, 18, 18, 36, 22, 9, 15, 4, 2, 83, 60, 9, 13, 149, 59, 85, 22, 15, 3, 2, 42, 7, 14, 34, 6, 19, 11, 13, 3, 6, 6, 23, 5, 1, 18, 5, 1, 60, 4, 8, 39, 39, 4, 10, 4, 16, 30, 162, 6, 7, 229, 2, 4, 20, 28, 17, 24, 94, 75, 23, 33, 21, 2, 6, 2, 28, 26, 7, 81, 22, 28, 25, 1, 20, 41, 127, 72, 2, 104, 52, 11, 21, 17, 9, 4, 31, 64, 61, 56, 2, 2, 7, 34, 1, 29, 52, 34, 47, 89, 12, 6, 8, 14, 27, 23, 34, 54, 73, 23, 26, 25, 4, 18, 6, 23, 10, 25, 25, 7, 24, 30, 28, 9, 22, 21, 10, 11, 7, 7, 3, 41, 12, 12, 2, 8, 11, 1, 19, 63, 23, 42, 80, 3, 32, 10, 19, 14, 3, 4, 59, 46, 7, 9, 1, 20, 30, 2, 5, 138, 12, 224, 14, 16, 177, 64, 9, 13, 14, 81, 38, 13, 30, 8, 1, 10, 8, 90, 12, 25, 4, 14, 12, 70, 25, 7, 24, 33, 4, 14, 14, 19, 5, 10, 6, 11, 1, 20, 5, 11, 1, 28, 300, 3, 65, 33, 20, 4, 3, 8, 3, 68, 5, 4, 2, 24, 48, 7, 47, 33, 87, 11, 10, 5, 35, 1, 13, 16, 5, 131, 15, 13, 11, 2, 85, 270, 7, 27, 24, 142, 36, 9, 40, 212, 20, 48, 40, 22, 2, 13, 100, 9, 41, 64, 4, 29, 4, 2, 1, 6, 4, 16, 4, 53, 10, 15, 60, 11, 70, 7, 38, 41, 21, 22, 24, 23, 10, 226, 9, 9, 12, 3, 10, 6, 145, 10, 41, 12, 2, 23, 8, 35, 6, 51, 12, 5, 10, 10, 12, 4, 16, 15, 3, 21, 121, 4, 53, 17, 7, 55, 28, 212, 4, 34, 12, 6, 60, 3, 10, 32, 6, 11, 2, 2, 1, 19, 20, 17, 19, 11, 40, 7, 1, 28, 78, 32, 86, 10, 74, 119, 23, 66, 14, 79, 22, 5, 17, 17, 57, 81, 159, 4, 26, 2, 33, 46, 15, 9, 11, 1, 18, 38, 37, 4, 30, 15, 11, 56, 1, 2, 20, 39, 34, 13, 83, 6, 35, 3, 23, 15, 4, 99, 15, 23, 2, 33, 21, 92, 66, 221, 28, 7, 17, 47, 13, 2, 10, 16, 14, 38, 17, 75, 60, 8, 28, 5, 60, 25, 147, 59, 18, 13, 6, 61, 43, 36, 28, 12, 42, 12, 112, 12, 201, 75, 9, 23, 11, 17, 27, 17, 4, 2, 77, 2, 9, 7, 11, 30, 31, 5, 13, 212, 15, 46, 6, 47, 79, 12, 30, 19, 52, 70, 21, 17, 21, 62, 24, 18, 20, 1, 19, 10, 10, 14, 18, 5, 57, 350, 62], \"xaxis\": \"x\", \"yaxis\": \"y\"}],\n",
       "                        {\"barmode\": \"relative\", \"legend\": {\"tracegroupgap\": 0}, \"margin\": {\"t\": 60}, \"template\": {\"data\": {\"bar\": [{\"error_x\": {\"color\": \"#2a3f5f\"}, \"error_y\": {\"color\": \"#2a3f5f\"}, \"marker\": {\"line\": {\"color\": \"#E5ECF6\", \"width\": 0.5}}, \"type\": \"bar\"}], \"barpolar\": [{\"marker\": {\"line\": {\"color\": \"#E5ECF6\", \"width\": 0.5}}, \"type\": \"barpolar\"}], \"carpet\": [{\"aaxis\": {\"endlinecolor\": \"#2a3f5f\", \"gridcolor\": \"white\", \"linecolor\": \"white\", \"minorgridcolor\": \"white\", \"startlinecolor\": \"#2a3f5f\"}, \"baxis\": {\"endlinecolor\": \"#2a3f5f\", \"gridcolor\": \"white\", \"linecolor\": \"white\", \"minorgridcolor\": \"white\", \"startlinecolor\": \"#2a3f5f\"}, \"type\": \"carpet\"}], \"choropleth\": [{\"colorbar\": {\"outlinewidth\": 0, \"ticks\": \"\"}, \"type\": \"choropleth\"}], \"contour\": [{\"colorbar\": {\"outlinewidth\": 0, \"ticks\": \"\"}, \"colorscale\": [[0.0, \"#0d0887\"], [0.1111111111111111, \"#46039f\"], [0.2222222222222222, \"#7201a8\"], [0.3333333333333333, \"#9c179e\"], [0.4444444444444444, \"#bd3786\"], [0.5555555555555556, \"#d8576b\"], [0.6666666666666666, \"#ed7953\"], [0.7777777777777778, \"#fb9f3a\"], [0.8888888888888888, \"#fdca26\"], [1.0, \"#f0f921\"]], \"type\": \"contour\"}], \"contourcarpet\": [{\"colorbar\": {\"outlinewidth\": 0, \"ticks\": \"\"}, \"type\": \"contourcarpet\"}], \"heatmap\": [{\"colorbar\": {\"outlinewidth\": 0, \"ticks\": \"\"}, \"colorscale\": [[0.0, \"#0d0887\"], [0.1111111111111111, \"#46039f\"], [0.2222222222222222, \"#7201a8\"], [0.3333333333333333, \"#9c179e\"], [0.4444444444444444, \"#bd3786\"], [0.5555555555555556, \"#d8576b\"], [0.6666666666666666, \"#ed7953\"], [0.7777777777777778, \"#fb9f3a\"], [0.8888888888888888, \"#fdca26\"], [1.0, \"#f0f921\"]], \"type\": \"heatmap\"}], \"heatmapgl\": [{\"colorbar\": {\"outlinewidth\": 0, \"ticks\": \"\"}, \"colorscale\": [[0.0, \"#0d0887\"], [0.1111111111111111, \"#46039f\"], [0.2222222222222222, \"#7201a8\"], [0.3333333333333333, \"#9c179e\"], [0.4444444444444444, \"#bd3786\"], [0.5555555555555556, \"#d8576b\"], [0.6666666666666666, \"#ed7953\"], [0.7777777777777778, \"#fb9f3a\"], [0.8888888888888888, \"#fdca26\"], [1.0, \"#f0f921\"]], \"type\": \"heatmapgl\"}], \"histogram\": [{\"marker\": {\"colorbar\": {\"outlinewidth\": 0, \"ticks\": \"\"}}, \"type\": \"histogram\"}], \"histogram2d\": [{\"colorbar\": {\"outlinewidth\": 0, \"ticks\": \"\"}, \"colorscale\": [[0.0, \"#0d0887\"], [0.1111111111111111, \"#46039f\"], [0.2222222222222222, \"#7201a8\"], [0.3333333333333333, \"#9c179e\"], [0.4444444444444444, \"#bd3786\"], [0.5555555555555556, \"#d8576b\"], [0.6666666666666666, \"#ed7953\"], [0.7777777777777778, \"#fb9f3a\"], [0.8888888888888888, \"#fdca26\"], [1.0, \"#f0f921\"]], \"type\": \"histogram2d\"}], \"histogram2dcontour\": [{\"colorbar\": {\"outlinewidth\": 0, \"ticks\": \"\"}, \"colorscale\": [[0.0, \"#0d0887\"], [0.1111111111111111, \"#46039f\"], [0.2222222222222222, \"#7201a8\"], [0.3333333333333333, \"#9c179e\"], [0.4444444444444444, \"#bd3786\"], [0.5555555555555556, \"#d8576b\"], [0.6666666666666666, \"#ed7953\"], [0.7777777777777778, \"#fb9f3a\"], [0.8888888888888888, \"#fdca26\"], [1.0, \"#f0f921\"]], \"type\": \"histogram2dcontour\"}], \"mesh3d\": [{\"colorbar\": {\"outlinewidth\": 0, \"ticks\": \"\"}, \"type\": \"mesh3d\"}], \"parcoords\": [{\"line\": {\"colorbar\": {\"outlinewidth\": 0, \"ticks\": \"\"}}, \"type\": \"parcoords\"}], \"pie\": [{\"automargin\": true, \"type\": \"pie\"}], \"scatter\": [{\"marker\": {\"colorbar\": {\"outlinewidth\": 0, \"ticks\": \"\"}}, \"type\": \"scatter\"}], \"scatter3d\": [{\"line\": {\"colorbar\": {\"outlinewidth\": 0, \"ticks\": \"\"}}, \"marker\": {\"colorbar\": {\"outlinewidth\": 0, \"ticks\": \"\"}}, \"type\": \"scatter3d\"}], \"scattercarpet\": [{\"marker\": {\"colorbar\": {\"outlinewidth\": 0, \"ticks\": \"\"}}, \"type\": \"scattercarpet\"}], \"scattergeo\": [{\"marker\": {\"colorbar\": {\"outlinewidth\": 0, \"ticks\": \"\"}}, \"type\": \"scattergeo\"}], \"scattergl\": [{\"marker\": {\"colorbar\": {\"outlinewidth\": 0, \"ticks\": \"\"}}, \"type\": \"scattergl\"}], \"scattermapbox\": [{\"marker\": {\"colorbar\": {\"outlinewidth\": 0, \"ticks\": \"\"}}, \"type\": \"scattermapbox\"}], \"scatterpolar\": [{\"marker\": {\"colorbar\": {\"outlinewidth\": 0, \"ticks\": \"\"}}, \"type\": \"scatterpolar\"}], \"scatterpolargl\": [{\"marker\": {\"colorbar\": {\"outlinewidth\": 0, \"ticks\": \"\"}}, \"type\": \"scatterpolargl\"}], \"scatterternary\": [{\"marker\": {\"colorbar\": {\"outlinewidth\": 0, \"ticks\": \"\"}}, \"type\": \"scatterternary\"}], \"surface\": [{\"colorbar\": {\"outlinewidth\": 0, \"ticks\": \"\"}, \"colorscale\": [[0.0, \"#0d0887\"], [0.1111111111111111, \"#46039f\"], [0.2222222222222222, \"#7201a8\"], [0.3333333333333333, \"#9c179e\"], [0.4444444444444444, \"#bd3786\"], [0.5555555555555556, \"#d8576b\"], [0.6666666666666666, \"#ed7953\"], [0.7777777777777778, \"#fb9f3a\"], [0.8888888888888888, \"#fdca26\"], [1.0, \"#f0f921\"]], \"type\": \"surface\"}], \"table\": [{\"cells\": {\"fill\": {\"color\": \"#EBF0F8\"}, \"line\": {\"color\": \"white\"}}, \"header\": {\"fill\": {\"color\": \"#C8D4E3\"}, \"line\": {\"color\": \"white\"}}, \"type\": \"table\"}]}, \"layout\": {\"annotationdefaults\": {\"arrowcolor\": \"#2a3f5f\", \"arrowhead\": 0, \"arrowwidth\": 1}, \"coloraxis\": {\"colorbar\": {\"outlinewidth\": 0, \"ticks\": \"\"}}, \"colorscale\": {\"diverging\": [[0, \"#8e0152\"], [0.1, \"#c51b7d\"], [0.2, \"#de77ae\"], [0.3, \"#f1b6da\"], [0.4, \"#fde0ef\"], [0.5, \"#f7f7f7\"], [0.6, \"#e6f5d0\"], [0.7, \"#b8e186\"], [0.8, \"#7fbc41\"], [0.9, \"#4d9221\"], [1, \"#276419\"]], \"sequential\": [[0.0, \"#0d0887\"], [0.1111111111111111, \"#46039f\"], [0.2222222222222222, \"#7201a8\"], [0.3333333333333333, \"#9c179e\"], [0.4444444444444444, \"#bd3786\"], [0.5555555555555556, \"#d8576b\"], [0.6666666666666666, \"#ed7953\"], [0.7777777777777778, \"#fb9f3a\"], [0.8888888888888888, \"#fdca26\"], [1.0, \"#f0f921\"]], \"sequentialminus\": [[0.0, \"#0d0887\"], [0.1111111111111111, \"#46039f\"], [0.2222222222222222, \"#7201a8\"], [0.3333333333333333, \"#9c179e\"], [0.4444444444444444, \"#bd3786\"], [0.5555555555555556, \"#d8576b\"], [0.6666666666666666, \"#ed7953\"], [0.7777777777777778, \"#fb9f3a\"], [0.8888888888888888, \"#fdca26\"], [1.0, \"#f0f921\"]]}, \"colorway\": [\"#636efa\", \"#EF553B\", \"#00cc96\", \"#ab63fa\", \"#FFA15A\", \"#19d3f3\", \"#FF6692\", \"#B6E880\", \"#FF97FF\", \"#FECB52\"], \"font\": {\"color\": \"#2a3f5f\"}, \"geo\": {\"bgcolor\": \"white\", \"lakecolor\": \"white\", \"landcolor\": \"#E5ECF6\", \"showlakes\": true, \"showland\": true, \"subunitcolor\": \"white\"}, \"hoverlabel\": {\"align\": \"left\"}, \"hovermode\": \"closest\", \"mapbox\": {\"style\": \"light\"}, \"paper_bgcolor\": \"white\", \"plot_bgcolor\": \"#E5ECF6\", \"polar\": {\"angularaxis\": {\"gridcolor\": \"white\", \"linecolor\": \"white\", \"ticks\": \"\"}, \"bgcolor\": \"#E5ECF6\", \"radialaxis\": {\"gridcolor\": \"white\", \"linecolor\": \"white\", \"ticks\": \"\"}}, \"scene\": {\"xaxis\": {\"backgroundcolor\": \"#E5ECF6\", \"gridcolor\": \"white\", \"gridwidth\": 2, \"linecolor\": \"white\", \"showbackground\": true, \"ticks\": \"\", \"zerolinecolor\": \"white\"}, \"yaxis\": {\"backgroundcolor\": \"#E5ECF6\", \"gridcolor\": \"white\", \"gridwidth\": 2, \"linecolor\": \"white\", \"showbackground\": true, \"ticks\": \"\", \"zerolinecolor\": \"white\"}, \"zaxis\": {\"backgroundcolor\": \"#E5ECF6\", \"gridcolor\": \"white\", \"gridwidth\": 2, \"linecolor\": \"white\", \"showbackground\": true, \"ticks\": \"\", \"zerolinecolor\": \"white\"}}, \"shapedefaults\": {\"line\": {\"color\": \"#2a3f5f\"}}, \"ternary\": {\"aaxis\": {\"gridcolor\": \"white\", \"linecolor\": \"white\", \"ticks\": \"\"}, \"baxis\": {\"gridcolor\": \"white\", \"linecolor\": \"white\", \"ticks\": \"\"}, \"bgcolor\": \"#E5ECF6\", \"caxis\": {\"gridcolor\": \"white\", \"linecolor\": \"white\", \"ticks\": \"\"}}, \"title\": {\"x\": 0.05}, \"xaxis\": {\"automargin\": true, \"gridcolor\": \"white\", \"linecolor\": \"white\", \"ticks\": \"\", \"title\": {\"standoff\": 15}, \"zerolinecolor\": \"white\", \"zerolinewidth\": 2}, \"yaxis\": {\"automargin\": true, \"gridcolor\": \"white\", \"linecolor\": \"white\", \"ticks\": \"\", \"title\": {\"standoff\": 15}, \"zerolinecolor\": \"white\", \"zerolinewidth\": 2}}}, \"xaxis\": {\"anchor\": \"y\", \"domain\": [0.0, 1.0], \"title\": {\"text\": \"degree\"}}, \"yaxis\": {\"anchor\": \"x\", \"domain\": [0.0, 1.0], \"title\": {\"text\": \"count\"}}},\n",
       "                        {\"responsive\": true}\n",
       "                    ).then(function(){\n",
       "                            \n",
       "var gd = document.getElementById('4a579544-0af8-4c24-bd83-9ed5a234073b');\n",
       "var x = new MutationObserver(function (mutations, observer) {{\n",
       "        var display = window.getComputedStyle(gd).display;\n",
       "        if (!display || display === 'none') {{\n",
       "            console.log([gd, 'removed!']);\n",
       "            Plotly.purge(gd);\n",
       "            observer.disconnect();\n",
       "        }}\n",
       "}});\n",
       "\n",
       "// Listen for the removal of the full notebook cells\n",
       "var notebookContainer = gd.closest('#notebook-container');\n",
       "if (notebookContainer) {{\n",
       "    x.observe(notebookContainer, {childList: true});\n",
       "}}\n",
       "\n",
       "// Listen for the clearing of the current output cell\n",
       "var outputEl = gd.closest('.output');\n",
       "if (outputEl) {{\n",
       "    x.observe(outputEl, {childList: true});\n",
       "}}\n",
       "\n",
       "                        })\n",
       "                };\n",
       "                \n",
       "            </script>\n",
       "        </div>\n",
       "</body>\n",
       "</html>"
      ]
     },
     "metadata": {},
     "output_type": "display_data"
    }
   ],
   "source": [
    "#the distribution appears to show a long tail. It seems that most actors have 50 degrees or less, whereas a small number of actors have over 100 degrees.\n",
    "#I would guess that those with a higher amount of degrees have starred in more movies and in a diverse range of genres\n",
    "\n",
    "import plotly.express as px\n",
    "df = px.data.tips()\n",
    "data=g1.get_vertex_dataframe()\n",
    "data['degree']=g1.degree(mode='all')\n",
    "fig = px.histogram(data, x=\"degree\")\n",
    "fig.show()"
   ]
  },
  {
   "cell_type": "markdown",
   "metadata": {
    "id": "3S-VBvkiAL-r"
   },
   "source": [
    "**4) What is the maximum degree?**\n"
   ]
  },
  {
   "cell_type": "code",
   "execution_count": null,
   "metadata": {
    "colab": {
     "base_uri": "https://localhost:8080/"
    },
    "id": "oSKUkYB1AC_9",
    "outputId": "b84280c3-3232-4742-d627-d136d7e7371f"
   },
   "outputs": [
    {
     "data": {
      "text/plain": [
       "784"
      ]
     },
     "execution_count": 57,
     "metadata": {},
     "output_type": "execute_result"
    }
   ],
   "source": [
    "g1.maxdegree()"
   ]
  },
  {
   "cell_type": "markdown",
   "metadata": {
    "id": "qqCNSRFsAR4J"
   },
   "source": [
    "**5) What is the minum degree?**"
   ]
  },
  {
   "cell_type": "code",
   "execution_count": null,
   "metadata": {
    "colab": {
     "base_uri": "https://localhost:8080/"
    },
    "id": "R5vojJ4vACzd",
    "outputId": "0feab60e-9500-41cf-acff-81b8903a90a0"
   },
   "outputs": [
    {
     "data": {
      "text/plain": [
       "1"
      ]
     },
     "execution_count": 15,
     "metadata": {},
     "output_type": "execute_result"
    }
   ],
   "source": [
    "min(Graph.degree(g1))"
   ]
  },
  {
   "cell_type": "markdown",
   "metadata": {
    "id": "G_GTvwp9zza3"
   },
   "source": [
    "# Network Diameter and Average Path Length\n",
    "\n",
    "You have functions in igraph to calculate the diameter and the average path length. Think if you should consider the weights, the directions, etc.\n",
    "\n",
    "\n"
   ]
  },
  {
   "cell_type": "markdown",
   "metadata": {
    "id": "bs0MSI4W06Hq"
   },
   "source": [
    "**6) What is the diameter of the graph?**\n",
    "*italicized text*"
   ]
  },
  {
   "cell_type": "code",
   "execution_count": null,
   "metadata": {
    "colab": {
     "base_uri": "https://localhost:8080/"
    },
    "id": "Za_H0TJG1DdB",
    "outputId": "e740c714-7fa6-43b1-ec34-f17d8e50cb3f"
   },
   "outputs": [
    {
     "data": {
      "text/plain": [
       "16"
      ]
     },
     "execution_count": 18,
     "metadata": {},
     "output_type": "execute_result"
    }
   ],
   "source": [
    "#max distance between 2 vertices\n",
    "\n",
    "g1.diameter()"
   ]
  },
  {
   "cell_type": "markdown",
   "metadata": {
    "id": "gxQ8UJr3054t"
   },
   "source": [
    "**7) What is the avg path length of the graph?**"
   ]
  },
  {
   "cell_type": "code",
   "execution_count": 9,
   "metadata": {
    "colab": {
     "base_uri": "https://localhost:8080/"
    },
    "id": "h_f8Nfyc091U",
    "outputId": "ad6128d2-2ff9-46ce-d388-1bc2cff7fb05"
   },
   "outputs": [
    {
     "data": {
      "text/plain": [
       "4.890545545798965"
      ]
     },
     "execution_count": 9,
     "metadata": {},
     "output_type": "execute_result"
    }
   ],
   "source": [
    "\n",
    "g1.average_path_length(directed=False, unconn=True)  "
   ]
  },
  {
   "cell_type": "markdown",
   "metadata": {
    "id": "3jd5Hfvpzza4"
   },
   "source": [
    "# Node importance: Centrality measures\n",
    "\n",
    "(Optional but recommended): Obtain the distribution of the number of movies made by an actor and the number of genres in which an actor starred in. It may be useful to analyze and discuss the results to be obtained in the following exercises."
   ]
  },
  {
   "cell_type": "code",
   "execution_count": 10,
   "metadata": {
    "colab": {
     "base_uri": "https://localhost:8080/",
     "height": 202
    },
    "id": "ql1DP5NdPRIk",
    "outputId": "62b09e9f-f82d-412f-b120-92ad2c36509e"
   },
   "outputs": [
    {
     "data": {
      "text/html": [
       "<div>\n",
       "<style scoped>\n",
       "    .dataframe tbody tr th:only-of-type {\n",
       "        vertical-align: middle;\n",
       "    }\n",
       "\n",
       "    .dataframe tbody tr th {\n",
       "        vertical-align: top;\n",
       "    }\n",
       "\n",
       "    .dataframe thead th {\n",
       "        text-align: right;\n",
       "    }\n",
       "</style>\n",
       "<table border=\"1\" class=\"dataframe\">\n",
       "  <thead>\n",
       "    <tr style=\"text-align: right;\">\n",
       "      <th></th>\n",
       "      <th>id</th>\n",
       "      <th>name</th>\n",
       "      <th>movies_95_04</th>\n",
       "      <th>main_genre</th>\n",
       "      <th>genres</th>\n",
       "    </tr>\n",
       "  </thead>\n",
       "  <tbody>\n",
       "    <tr>\n",
       "      <th>0</th>\n",
       "      <td>15629</td>\n",
       "      <td>Rudder, Michael (I)</td>\n",
       "      <td>12</td>\n",
       "      <td>Thriller</td>\n",
       "      <td>Action:1,Comedy:1,Drama:1,Fantasy:1,Horror:1,N...</td>\n",
       "    </tr>\n",
       "    <tr>\n",
       "      <th>1</th>\n",
       "      <td>5026</td>\n",
       "      <td>Morgan, Debbi</td>\n",
       "      <td>16</td>\n",
       "      <td>Drama</td>\n",
       "      <td>Comedy:2,Documentary:1,Drama:6,Horror:2,NULL:3...</td>\n",
       "    </tr>\n",
       "    <tr>\n",
       "      <th>2</th>\n",
       "      <td>11252</td>\n",
       "      <td>Bellows, Gil</td>\n",
       "      <td>33</td>\n",
       "      <td>Drama</td>\n",
       "      <td>Comedy:6,Documentary:1,Drama:7,Family:1,Fantas...</td>\n",
       "    </tr>\n",
       "    <tr>\n",
       "      <th>3</th>\n",
       "      <td>5150</td>\n",
       "      <td>Dray, Albert</td>\n",
       "      <td>20</td>\n",
       "      <td>Comedy</td>\n",
       "      <td>Comedy:6,Crime:1,Documentary:1,Drama:4,NULL:5,...</td>\n",
       "    </tr>\n",
       "    <tr>\n",
       "      <th>4</th>\n",
       "      <td>4057</td>\n",
       "      <td>Daly, Shane (I)</td>\n",
       "      <td>18</td>\n",
       "      <td>Drama</td>\n",
       "      <td>Comedy:2,Crime:1,Drama:7,Horror:1,Music:1,Musi...</td>\n",
       "    </tr>\n",
       "  </tbody>\n",
       "</table>\n",
       "</div>"
      ],
      "text/plain": [
       "      id  ...                                             genres\n",
       "0  15629  ...  Action:1,Comedy:1,Drama:1,Fantasy:1,Horror:1,N...\n",
       "1   5026  ...  Comedy:2,Documentary:1,Drama:6,Horror:2,NULL:3...\n",
       "2  11252  ...  Comedy:6,Documentary:1,Drama:7,Family:1,Fantas...\n",
       "3   5150  ...  Comedy:6,Crime:1,Documentary:1,Drama:4,NULL:5,...\n",
       "4   4057  ...  Comedy:2,Crime:1,Drama:7,Horror:1,Music:1,Musi...\n",
       "\n",
       "[5 rows x 5 columns]"
      ]
     },
     "execution_count": 10,
     "metadata": {},
     "output_type": "execute_result"
    }
   ],
   "source": [
    "df_key.head()"
   ]
  },
  {
   "cell_type": "code",
   "execution_count": 11,
   "metadata": {
    "id": "Wvv8RSQOzza4"
   },
   "outputs": [],
   "source": [
    "#This will count the number of genres. Note that it includes the NULL genres.\n",
    "\n",
    "df_key['# of genres']= df_key['genres'].str.count(\":\").head()"
   ]
  },
  {
   "cell_type": "markdown",
   "metadata": {
    "id": "ty1ZBFuIzza5"
   },
   "source": [
    "Obtain three vectors with the degree, betweeness and closeness for each vertex of the actors' graph."
   ]
  },
  {
   "cell_type": "code",
   "execution_count": 12,
   "metadata": {
    "id": "4ZnG--j7-CEB"
   },
   "outputs": [],
   "source": [
    "df_key['degree'] = Graph.degree(g1)"
   ]
  },
  {
   "cell_type": "code",
   "execution_count": 13,
   "metadata": {
    "colab": {
     "base_uri": "https://localhost:8080/",
     "height": 285
    },
    "id": "PT1-xRPl1yYe",
    "outputId": "de6990a9-8315-421c-836a-1e0c119da70a"
   },
   "outputs": [
    {
     "data": {
      "text/html": [
       "<div>\n",
       "<style scoped>\n",
       "    .dataframe tbody tr th:only-of-type {\n",
       "        vertical-align: middle;\n",
       "    }\n",
       "\n",
       "    .dataframe tbody tr th {\n",
       "        vertical-align: top;\n",
       "    }\n",
       "\n",
       "    .dataframe thead th {\n",
       "        text-align: right;\n",
       "    }\n",
       "</style>\n",
       "<table border=\"1\" class=\"dataframe\">\n",
       "  <thead>\n",
       "    <tr style=\"text-align: right;\">\n",
       "      <th></th>\n",
       "      <th>id</th>\n",
       "      <th>name</th>\n",
       "      <th>movies_95_04</th>\n",
       "      <th>main_genre</th>\n",
       "      <th>genres</th>\n",
       "      <th># of genres</th>\n",
       "      <th>degree</th>\n",
       "    </tr>\n",
       "  </thead>\n",
       "  <tbody>\n",
       "    <tr>\n",
       "      <th>12147</th>\n",
       "      <td>162</td>\n",
       "      <td>Davis, Mark (V)</td>\n",
       "      <td>540</td>\n",
       "      <td>Adult</td>\n",
       "      <td>Action:1,Adult:429,Comedy:3,Crime:1,Documentar...</td>\n",
       "      <td>NaN</td>\n",
       "      <td>784</td>\n",
       "    </tr>\n",
       "    <tr>\n",
       "      <th>1761</th>\n",
       "      <td>1743</td>\n",
       "      <td>Sanders, Alex (I)</td>\n",
       "      <td>467</td>\n",
       "      <td>Adult</td>\n",
       "      <td>Action:1,Adult:380,Adventure:1,Comedy:2,Docume...</td>\n",
       "      <td>NaN</td>\n",
       "      <td>610</td>\n",
       "    </tr>\n",
       "    <tr>\n",
       "      <th>13442</th>\n",
       "      <td>1754</td>\n",
       "      <td>North, Peter (I)</td>\n",
       "      <td>460</td>\n",
       "      <td>Adult</td>\n",
       "      <td>Action:1,Adult:389,Documentary:5,Drama:5,NULL:...</td>\n",
       "      <td>NaN</td>\n",
       "      <td>599</td>\n",
       "    </tr>\n",
       "    <tr>\n",
       "      <th>11272</th>\n",
       "      <td>1802</td>\n",
       "      <td>Marcus, Mr.</td>\n",
       "      <td>435</td>\n",
       "      <td>Adult</td>\n",
       "      <td>Adult:343,Crime:1,Documentary:2,NULL:86,Short:...</td>\n",
       "      <td>NaN</td>\n",
       "      <td>584</td>\n",
       "    </tr>\n",
       "    <tr>\n",
       "      <th>4092</th>\n",
       "      <td>407</td>\n",
       "      <td>Tedeschi, Tony</td>\n",
       "      <td>364</td>\n",
       "      <td>Adult</td>\n",
       "      <td>Adult:286,Adventure:1,Comedy:1,Documentary:2,D...</td>\n",
       "      <td>NaN</td>\n",
       "      <td>561</td>\n",
       "    </tr>\n",
       "  </tbody>\n",
       "</table>\n",
       "</div>"
      ],
      "text/plain": [
       "         id               name  ...  # of genres degree\n",
       "12147   162    Davis, Mark (V)  ...          NaN    784\n",
       "1761   1743  Sanders, Alex (I)  ...          NaN    610\n",
       "13442  1754   North, Peter (I)  ...          NaN    599\n",
       "11272  1802        Marcus, Mr.  ...          NaN    584\n",
       "4092    407     Tedeschi, Tony  ...          NaN    561\n",
       "\n",
       "[5 rows x 7 columns]"
      ]
     },
     "execution_count": 13,
     "metadata": {},
     "output_type": "execute_result"
    }
   ],
   "source": [
    "df_key.sort_values(\"degree\", ascending=False).head()"
   ]
  },
  {
   "cell_type": "code",
   "execution_count": 14,
   "metadata": {
    "id": "FO9b53bNQqul"
   },
   "outputs": [],
   "source": [
    "degree1 = df_key['degree']"
   ]
  },
  {
   "cell_type": "code",
   "execution_count": 15,
   "metadata": {
    "colab": {
     "base_uri": "https://localhost:8080/"
    },
    "id": "sD2hPtegt1m7",
    "outputId": "7986739a-6684-4dbe-f4fb-dc07d7f21c90"
   },
   "outputs": [
    {
     "data": {
      "text/plain": [
       "0         36\n",
       "1         23\n",
       "2         22\n",
       "3         23\n",
       "4         46\n",
       "        ... \n",
       "17572     18\n",
       "17573      5\n",
       "17574     57\n",
       "17575    350\n",
       "17576     62\n",
       "Name: degree, Length: 17577, dtype: int64"
      ]
     },
     "execution_count": 15,
     "metadata": {},
     "output_type": "execute_result"
    }
   ],
   "source": [
    "degree1"
   ]
  },
  {
   "cell_type": "code",
   "execution_count": 16,
   "metadata": {
    "id": "GOwSHUV8-Aqj"
   },
   "outputs": [],
   "source": [
    "df_key['betweenness'] = Graph.betweenness(g1)"
   ]
  },
  {
   "cell_type": "code",
   "execution_count": 17,
   "metadata": {
    "id": "nhOM3_lzQr59"
   },
   "outputs": [],
   "source": [
    "betweenness1 = df_key['betweenness']"
   ]
  },
  {
   "cell_type": "code",
   "execution_count": 18,
   "metadata": {
    "id": "ZoXi0YoA-JGS"
   },
   "outputs": [],
   "source": [
    "df_key['closeness'] = Graph.closeness(g1)"
   ]
  },
  {
   "cell_type": "code",
   "execution_count": 19,
   "metadata": {
    "id": "tGQ5rsZczza5"
   },
   "outputs": [],
   "source": [
    "closeness1 = df_key['closeness']"
   ]
  },
  {
   "cell_type": "markdown",
   "metadata": {
    "id": "bKW4DO33zza6"
   },
   "source": [
    "Obtain the list of the 20 actors with the largest degree centrality. It can be useful to show a list with the degree, the name of the actor, the number of movies, the main genre, and the number of genres in which the actor has participated.\n",
    "\n",
    "**8) Who is the actor with highest degree centrality?**\n",
    "\n",
    "**9) How do you explain the high degree of the top-20 list??**"
   ]
  },
  {
   "cell_type": "markdown",
   "metadata": {
    "id": "MxRdBHzbw5Ae"
   },
   "source": [
    "Degree can be thought of as a simple count of the total number of connections linked to a vertex. It can be thought of as a kind of popularity measure. In this case, it might reflect actors who are well connected with others, which could be due to factors such as: a) frequently working with new actors/actresses, b) having been in a variety of genres, c) their geographical location, etc.\n",
    "\n",
    "It's notable that Adult actors tend to score high on centrality measures. This is likely due to them frequently starring with other actors and producing many more films than average."
   ]
  },
  {
   "cell_type": "code",
   "execution_count": 20,
   "metadata": {
    "colab": {
     "base_uri": "https://localhost:8080/",
     "height": 1000
    },
    "id": "AkZWoc1Rw9KY",
    "outputId": "c358a028-d2ae-4a9e-e40e-f1622c805ac2"
   },
   "outputs": [
    {
     "data": {
      "text/html": [
       "<div>\n",
       "<style scoped>\n",
       "    .dataframe tbody tr th:only-of-type {\n",
       "        vertical-align: middle;\n",
       "    }\n",
       "\n",
       "    .dataframe tbody tr th {\n",
       "        vertical-align: top;\n",
       "    }\n",
       "\n",
       "    .dataframe thead th {\n",
       "        text-align: right;\n",
       "    }\n",
       "</style>\n",
       "<table border=\"1\" class=\"dataframe\">\n",
       "  <thead>\n",
       "    <tr style=\"text-align: right;\">\n",
       "      <th></th>\n",
       "      <th>id</th>\n",
       "      <th>name</th>\n",
       "      <th>movies_95_04</th>\n",
       "      <th>main_genre</th>\n",
       "      <th>genres</th>\n",
       "      <th># of genres</th>\n",
       "      <th>degree</th>\n",
       "      <th>betweenness</th>\n",
       "      <th>closeness</th>\n",
       "    </tr>\n",
       "  </thead>\n",
       "  <tbody>\n",
       "    <tr>\n",
       "      <th>12147</th>\n",
       "      <td>162</td>\n",
       "      <td>Davis, Mark (V)</td>\n",
       "      <td>540</td>\n",
       "      <td>Adult</td>\n",
       "      <td>Action:1,Adult:429,Comedy:3,Crime:1,Documentar...</td>\n",
       "      <td>NaN</td>\n",
       "      <td>784</td>\n",
       "      <td>9.318531e+05</td>\n",
       "      <td>0.249300</td>\n",
       "    </tr>\n",
       "    <tr>\n",
       "      <th>1761</th>\n",
       "      <td>1743</td>\n",
       "      <td>Sanders, Alex (I)</td>\n",
       "      <td>467</td>\n",
       "      <td>Adult</td>\n",
       "      <td>Action:1,Adult:380,Adventure:1,Comedy:2,Docume...</td>\n",
       "      <td>NaN</td>\n",
       "      <td>610</td>\n",
       "      <td>5.572365e+05</td>\n",
       "      <td>0.245821</td>\n",
       "    </tr>\n",
       "    <tr>\n",
       "      <th>13442</th>\n",
       "      <td>1754</td>\n",
       "      <td>North, Peter (I)</td>\n",
       "      <td>460</td>\n",
       "      <td>Adult</td>\n",
       "      <td>Action:1,Adult:389,Documentary:5,Drama:5,NULL:...</td>\n",
       "      <td>NaN</td>\n",
       "      <td>599</td>\n",
       "      <td>4.173385e+05</td>\n",
       "      <td>0.241765</td>\n",
       "    </tr>\n",
       "    <tr>\n",
       "      <th>11272</th>\n",
       "      <td>1802</td>\n",
       "      <td>Marcus, Mr.</td>\n",
       "      <td>435</td>\n",
       "      <td>Adult</td>\n",
       "      <td>Adult:343,Crime:1,Documentary:2,NULL:86,Short:...</td>\n",
       "      <td>NaN</td>\n",
       "      <td>584</td>\n",
       "      <td>1.463808e+06</td>\n",
       "      <td>0.249964</td>\n",
       "    </tr>\n",
       "    <tr>\n",
       "      <th>4092</th>\n",
       "      <td>407</td>\n",
       "      <td>Tedeschi, Tony</td>\n",
       "      <td>364</td>\n",
       "      <td>Adult</td>\n",
       "      <td>Adult:286,Adventure:1,Comedy:1,Documentary:2,D...</td>\n",
       "      <td>NaN</td>\n",
       "      <td>561</td>\n",
       "      <td>6.721635e+05</td>\n",
       "      <td>0.245693</td>\n",
       "    </tr>\n",
       "    <tr>\n",
       "      <th>8354</th>\n",
       "      <td>164</td>\n",
       "      <td>Dough, Jon</td>\n",
       "      <td>300</td>\n",
       "      <td>Adult</td>\n",
       "      <td>Adult:248,Adventure:1,Comedy:1,Documentary:1,D...</td>\n",
       "      <td>NaN</td>\n",
       "      <td>555</td>\n",
       "      <td>8.636479e+05</td>\n",
       "      <td>0.248562</td>\n",
       "    </tr>\n",
       "    <tr>\n",
       "      <th>5968</th>\n",
       "      <td>179</td>\n",
       "      <td>Stone, Lee (II)</td>\n",
       "      <td>403</td>\n",
       "      <td>Adult</td>\n",
       "      <td>Adult:310,Comedy:1,Documentary:1,Fantasy:2,NUL...</td>\n",
       "      <td>NaN</td>\n",
       "      <td>545</td>\n",
       "      <td>3.393109e+05</td>\n",
       "      <td>0.238488</td>\n",
       "    </tr>\n",
       "    <tr>\n",
       "      <th>2236</th>\n",
       "      <td>176</td>\n",
       "      <td>Voyeur, Vince</td>\n",
       "      <td>370</td>\n",
       "      <td>Adult</td>\n",
       "      <td>Action:1,Adult:303,Comedy:3,Crime:1,Documentar...</td>\n",
       "      <td>NaN</td>\n",
       "      <td>533</td>\n",
       "      <td>3.810606e+05</td>\n",
       "      <td>0.245783</td>\n",
       "    </tr>\n",
       "    <tr>\n",
       "      <th>5752</th>\n",
       "      <td>175</td>\n",
       "      <td>Lawrence, Joel (II)</td>\n",
       "      <td>315</td>\n",
       "      <td>Adult</td>\n",
       "      <td>Adult:257,Comedy:1,Documentary:1,Musical:1,NUL...</td>\n",
       "      <td>NaN</td>\n",
       "      <td>500</td>\n",
       "      <td>2.851236e+05</td>\n",
       "      <td>0.241337</td>\n",
       "    </tr>\n",
       "    <tr>\n",
       "      <th>15511</th>\n",
       "      <td>160</td>\n",
       "      <td>Steele, Lexington</td>\n",
       "      <td>429</td>\n",
       "      <td>Adult</td>\n",
       "      <td>Adult:340,Comedy:1,Documentary:4,Drama:1,Fanta...</td>\n",
       "      <td>NaN</td>\n",
       "      <td>493</td>\n",
       "      <td>2.971735e+05</td>\n",
       "      <td>0.240841</td>\n",
       "    </tr>\n",
       "    <tr>\n",
       "      <th>16429</th>\n",
       "      <td>127</td>\n",
       "      <td>Ashley, Jay</td>\n",
       "      <td>309</td>\n",
       "      <td>Adult</td>\n",
       "      <td>Adult:247,Adventure:1,Comedy:1,Documentary:2,D...</td>\n",
       "      <td>NaN</td>\n",
       "      <td>490</td>\n",
       "      <td>1.794342e+05</td>\n",
       "      <td>0.238661</td>\n",
       "    </tr>\n",
       "    <tr>\n",
       "      <th>17062</th>\n",
       "      <td>1626</td>\n",
       "      <td>Boy, T.T.</td>\n",
       "      <td>336</td>\n",
       "      <td>Adult</td>\n",
       "      <td>Action:1,Adult:271,Documentary:5,Drama:4,NULL:...</td>\n",
       "      <td>NaN</td>\n",
       "      <td>475</td>\n",
       "      <td>2.177450e+05</td>\n",
       "      <td>0.240556</td>\n",
       "    </tr>\n",
       "    <tr>\n",
       "      <th>10548</th>\n",
       "      <td>2108</td>\n",
       "      <td>Jeremy, Ron</td>\n",
       "      <td>280</td>\n",
       "      <td>Adult</td>\n",
       "      <td>Adult:149,Adventure:1,Animation:1,Comedy:15,Do...</td>\n",
       "      <td>NaN</td>\n",
       "      <td>471</td>\n",
       "      <td>9.748544e+06</td>\n",
       "      <td>0.282720</td>\n",
       "    </tr>\n",
       "    <tr>\n",
       "      <th>8843</th>\n",
       "      <td>131</td>\n",
       "      <td>Cannon, Chris (III)</td>\n",
       "      <td>287</td>\n",
       "      <td>Adult</td>\n",
       "      <td>Action:1,Adult:226,Comedy:2,Documentary:4,Dram...</td>\n",
       "      <td>NaN</td>\n",
       "      <td>471</td>\n",
       "      <td>5.315881e+05</td>\n",
       "      <td>0.247557</td>\n",
       "    </tr>\n",
       "    <tr>\n",
       "      <th>6840</th>\n",
       "      <td>163</td>\n",
       "      <td>Bune, Tyce</td>\n",
       "      <td>267</td>\n",
       "      <td>Adult</td>\n",
       "      <td>Adult:213,Comedy:3,Fantasy:2,NULL:48,Short:1</td>\n",
       "      <td>NaN</td>\n",
       "      <td>463</td>\n",
       "      <td>3.241937e+05</td>\n",
       "      <td>0.236232</td>\n",
       "    </tr>\n",
       "    <tr>\n",
       "      <th>4524</th>\n",
       "      <td>701</td>\n",
       "      <td>Hanks, Tom</td>\n",
       "      <td>75</td>\n",
       "      <td>Family</td>\n",
       "      <td>Animation:3,Comedy:5,Documentary:32,Drama:6,Fa...</td>\n",
       "      <td>NaN</td>\n",
       "      <td>457</td>\n",
       "      <td>1.977252e+06</td>\n",
       "      <td>0.305231</td>\n",
       "    </tr>\n",
       "    <tr>\n",
       "      <th>6587</th>\n",
       "      <td>1778</td>\n",
       "      <td>Michaels, Sean</td>\n",
       "      <td>252</td>\n",
       "      <td>Adult</td>\n",
       "      <td>Adult:203,Documentary:4,Drama:1,Fantasy:1,NULL...</td>\n",
       "      <td>NaN</td>\n",
       "      <td>451</td>\n",
       "      <td>3.383991e+05</td>\n",
       "      <td>0.243856</td>\n",
       "    </tr>\n",
       "    <tr>\n",
       "      <th>1124</th>\n",
       "      <td>177</td>\n",
       "      <td>Stone, Kyle</td>\n",
       "      <td>278</td>\n",
       "      <td>Adult</td>\n",
       "      <td>Adult:212,Comedy:3,Documentary:2,Fantasy:4,NUL...</td>\n",
       "      <td>NaN</td>\n",
       "      <td>450</td>\n",
       "      <td>1.032512e+05</td>\n",
       "      <td>0.235648</td>\n",
       "    </tr>\n",
       "    <tr>\n",
       "      <th>537</th>\n",
       "      <td>1688</td>\n",
       "      <td>Hardman, Dave</td>\n",
       "      <td>319</td>\n",
       "      <td>Adult</td>\n",
       "      <td>Adult:240,Adventure:1,Comedy:2,Drama:3,NULL:67...</td>\n",
       "      <td>NaN</td>\n",
       "      <td>438</td>\n",
       "      <td>2.977737e+05</td>\n",
       "      <td>0.240841</td>\n",
       "    </tr>\n",
       "    <tr>\n",
       "      <th>11387</th>\n",
       "      <td>1804</td>\n",
       "      <td>Surewood, Brian</td>\n",
       "      <td>244</td>\n",
       "      <td>Adult</td>\n",
       "      <td>Adult:190,Comedy:2,Fantasy:1,Horror:1,NULL:49,...</td>\n",
       "      <td>NaN</td>\n",
       "      <td>428</td>\n",
       "      <td>1.729722e+05</td>\n",
       "      <td>0.237955</td>\n",
       "    </tr>\n",
       "  </tbody>\n",
       "</table>\n",
       "</div>"
      ],
      "text/plain": [
       "         id                 name  movies_95_04  ... degree   betweenness  closeness\n",
       "12147   162      Davis, Mark (V)           540  ...    784  9.318531e+05   0.249300\n",
       "1761   1743    Sanders, Alex (I)           467  ...    610  5.572365e+05   0.245821\n",
       "13442  1754     North, Peter (I)           460  ...    599  4.173385e+05   0.241765\n",
       "11272  1802          Marcus, Mr.           435  ...    584  1.463808e+06   0.249964\n",
       "4092    407       Tedeschi, Tony           364  ...    561  6.721635e+05   0.245693\n",
       "8354    164           Dough, Jon           300  ...    555  8.636479e+05   0.248562\n",
       "5968    179      Stone, Lee (II)           403  ...    545  3.393109e+05   0.238488\n",
       "2236    176        Voyeur, Vince           370  ...    533  3.810606e+05   0.245783\n",
       "5752    175  Lawrence, Joel (II)           315  ...    500  2.851236e+05   0.241337\n",
       "15511   160    Steele, Lexington           429  ...    493  2.971735e+05   0.240841\n",
       "16429   127          Ashley, Jay           309  ...    490  1.794342e+05   0.238661\n",
       "17062  1626            Boy, T.T.           336  ...    475  2.177450e+05   0.240556\n",
       "10548  2108          Jeremy, Ron           280  ...    471  9.748544e+06   0.282720\n",
       "8843    131  Cannon, Chris (III)           287  ...    471  5.315881e+05   0.247557\n",
       "6840    163           Bune, Tyce           267  ...    463  3.241937e+05   0.236232\n",
       "4524    701           Hanks, Tom            75  ...    457  1.977252e+06   0.305231\n",
       "6587   1778       Michaels, Sean           252  ...    451  3.383991e+05   0.243856\n",
       "1124    177          Stone, Kyle           278  ...    450  1.032512e+05   0.235648\n",
       "537    1688        Hardman, Dave           319  ...    438  2.977737e+05   0.240841\n",
       "11387  1804      Surewood, Brian           244  ...    428  1.729722e+05   0.237955\n",
       "\n",
       "[20 rows x 9 columns]"
      ]
     },
     "execution_count": 20,
     "metadata": {},
     "output_type": "execute_result"
    }
   ],
   "source": [
    "df_key.sort_values(\"degree\", ascending = False).head(20)"
   ]
  },
  {
   "cell_type": "code",
   "execution_count": null,
   "metadata": {
    "id": "1T0Odrj8wthG"
   },
   "outputs": [],
   "source": []
  },
  {
   "cell_type": "markdown",
   "metadata": {
    "id": "lUh11Nnezza6"
   },
   "source": [
    "Obtain the list of the 20 actors with the largest betweenness centrality. Show a list with the betweenness, the name of the actor, the number of movies, the main genre, and the number of genres in which the actor has participated.\n",
    "\n",
    "**10) Who is the actor with highest betweenes?**\n",
    "\n",
    "**11) How do you explain the high betweenness of the top-20 list?**"
   ]
  },
  {
   "cell_type": "markdown",
   "metadata": {
    "id": "s5ocT6cZ2X06"
   },
   "source": [
    "Betweenness centrality measures the number of times a node lies on the shortest path between other nodes.\n",
    "\n",
    "Betweenness is useful for analyzing communication dynamics. Here, we might expect that actors in the top 20 list tend to have influence in their areas. This is likely the case for #1, Ron Jeremy, who has the highest betweenness by far. He has starred in a very high amount of films, and likely often with different Adult actresses. "
   ]
  },
  {
   "cell_type": "code",
   "execution_count": null,
   "metadata": {
    "colab": {
     "base_uri": "https://localhost:8080/",
     "height": 677
    },
    "id": "Xbe7zqUizza7",
    "outputId": "b339d713-fba8-44ba-ffd3-cf7eac1e55c0"
   },
   "outputs": [
    {
     "data": {
      "text/html": [
       "<div>\n",
       "<style scoped>\n",
       "    .dataframe tbody tr th:only-of-type {\n",
       "        vertical-align: middle;\n",
       "    }\n",
       "\n",
       "    .dataframe tbody tr th {\n",
       "        vertical-align: top;\n",
       "    }\n",
       "\n",
       "    .dataframe thead th {\n",
       "        text-align: right;\n",
       "    }\n",
       "</style>\n",
       "<table border=\"1\" class=\"dataframe\">\n",
       "  <thead>\n",
       "    <tr style=\"text-align: right;\">\n",
       "      <th></th>\n",
       "      <th>id</th>\n",
       "      <th>name</th>\n",
       "      <th>movies_95_04</th>\n",
       "      <th>main_genre</th>\n",
       "      <th>genres</th>\n",
       "      <th># of genres</th>\n",
       "      <th>degree</th>\n",
       "      <th>betweenness</th>\n",
       "      <th>closeness</th>\n",
       "    </tr>\n",
       "  </thead>\n",
       "  <tbody>\n",
       "    <tr>\n",
       "      <th>10548</th>\n",
       "      <td>2108</td>\n",
       "      <td>Jeremy, Ron</td>\n",
       "      <td>280</td>\n",
       "      <td>Adult</td>\n",
       "      <td>Adult:149,Adventure:1,Animation:1,Comedy:15,Do...</td>\n",
       "      <td>NaN</td>\n",
       "      <td>471</td>\n",
       "      <td>9.748544e+06</td>\n",
       "      <td>0.282720</td>\n",
       "    </tr>\n",
       "    <tr>\n",
       "      <th>4693</th>\n",
       "      <td>3284</td>\n",
       "      <td>Chan, Jackie (I)</td>\n",
       "      <td>59</td>\n",
       "      <td>Comedy</td>\n",
       "      <td>Action:2,Comedy:13,Crime:4,Documentary:18,Fami...</td>\n",
       "      <td>NaN</td>\n",
       "      <td>135</td>\n",
       "      <td>4.716909e+06</td>\n",
       "      <td>0.287238</td>\n",
       "    </tr>\n",
       "    <tr>\n",
       "      <th>2563</th>\n",
       "      <td>564</td>\n",
       "      <td>Cruz, Penélope</td>\n",
       "      <td>46</td>\n",
       "      <td>Drama</td>\n",
       "      <td>Adventure:1,Comedy:2,Documentary:5,Drama:6,Fam...</td>\n",
       "      <td>NaN</td>\n",
       "      <td>182</td>\n",
       "      <td>4.330663e+06</td>\n",
       "      <td>0.295555</td>\n",
       "    </tr>\n",
       "    <tr>\n",
       "      <th>14433</th>\n",
       "      <td>14458</td>\n",
       "      <td>Shahlavi, Darren</td>\n",
       "      <td>16</td>\n",
       "      <td>Action</td>\n",
       "      <td>Action:4,Comedy:3,Documentary:1,Drama:1,Fantas...</td>\n",
       "      <td>NaN</td>\n",
       "      <td>8</td>\n",
       "      <td>4.295503e+06</td>\n",
       "      <td>0.193886</td>\n",
       "    </tr>\n",
       "    <tr>\n",
       "      <th>15720</th>\n",
       "      <td>17308</td>\n",
       "      <td>Del Rosario, Monsour</td>\n",
       "      <td>20</td>\n",
       "      <td>Action</td>\n",
       "      <td>Action:8,Drama:3,Fantasy:1,Horror:2,NULL:1,Rom...</td>\n",
       "      <td>NaN</td>\n",
       "      <td>6</td>\n",
       "      <td>4.267099e+06</td>\n",
       "      <td>0.163154</td>\n",
       "    </tr>\n",
       "    <tr>\n",
       "      <th>17458</th>\n",
       "      <td>285</td>\n",
       "      <td>Depardieu, Gérard</td>\n",
       "      <td>56</td>\n",
       "      <td>Comedy</td>\n",
       "      <td>Adventure:1,Comedy:15,Crime:2,Documentary:11,D...</td>\n",
       "      <td>NaN</td>\n",
       "      <td>159</td>\n",
       "      <td>4.037356e+06</td>\n",
       "      <td>0.278351</td>\n",
       "    </tr>\n",
       "    <tr>\n",
       "      <th>8799</th>\n",
       "      <td>13723</td>\n",
       "      <td>Bachchan, Amitabh</td>\n",
       "      <td>35</td>\n",
       "      <td>Romance</td>\n",
       "      <td>Action:1,Comedy:1,Crime:1,Documentary:1,Drama:...</td>\n",
       "      <td>NaN</td>\n",
       "      <td>66</td>\n",
       "      <td>2.570247e+06</td>\n",
       "      <td>0.226349</td>\n",
       "    </tr>\n",
       "    <tr>\n",
       "      <th>10412</th>\n",
       "      <td>1529</td>\n",
       "      <td>Jackson, Samuel L.</td>\n",
       "      <td>97</td>\n",
       "      <td>Drama</td>\n",
       "      <td>Action:3,Adventure:1,Comedy:3,Crime:3,Document...</td>\n",
       "      <td>NaN</td>\n",
       "      <td>427</td>\n",
       "      <td>2.539614e+06</td>\n",
       "      <td>0.309265</td>\n",
       "    </tr>\n",
       "    <tr>\n",
       "      <th>5517</th>\n",
       "      <td>5083</td>\n",
       "      <td>Soualem, Zinedine</td>\n",
       "      <td>65</td>\n",
       "      <td>Comedy</td>\n",
       "      <td>Animation:1,Comedy:17,Crime:3,Documentary:1,Dr...</td>\n",
       "      <td>NaN</td>\n",
       "      <td>121</td>\n",
       "      <td>2.368164e+06</td>\n",
       "      <td>0.249825</td>\n",
       "    </tr>\n",
       "    <tr>\n",
       "      <th>15894</th>\n",
       "      <td>1923</td>\n",
       "      <td>Del Rio, Olivia</td>\n",
       "      <td>84</td>\n",
       "      <td>Adult</td>\n",
       "      <td>Adult:64,Drama:1,Fantasy:2,NULL:14,Sci-Fi:1,Sh...</td>\n",
       "      <td>NaN</td>\n",
       "      <td>168</td>\n",
       "      <td>2.316388e+06</td>\n",
       "      <td>0.240033</td>\n",
       "    </tr>\n",
       "    <tr>\n",
       "      <th>559</th>\n",
       "      <td>2549</td>\n",
       "      <td>Jaenicke, Hannes</td>\n",
       "      <td>66</td>\n",
       "      <td>Thriller</td>\n",
       "      <td>Action:2,Adventure:2,Comedy:3,Crime:10,Drama:1...</td>\n",
       "      <td>NaN</td>\n",
       "      <td>73</td>\n",
       "      <td>2.136980e+06</td>\n",
       "      <td>0.250736</td>\n",
       "    </tr>\n",
       "    <tr>\n",
       "      <th>15834</th>\n",
       "      <td>2623</td>\n",
       "      <td>Hayek, Salma</td>\n",
       "      <td>44</td>\n",
       "      <td>Drama</td>\n",
       "      <td>Adventure:1,Animation:1,Comedy:3,Crime:2,Docum...</td>\n",
       "      <td>NaN</td>\n",
       "      <td>185</td>\n",
       "      <td>2.117390e+06</td>\n",
       "      <td>0.288701</td>\n",
       "    </tr>\n",
       "    <tr>\n",
       "      <th>568</th>\n",
       "      <td>13698</td>\n",
       "      <td>Pelé</td>\n",
       "      <td>10</td>\n",
       "      <td>Romance</td>\n",
       "      <td>Comedy:1,Documentary:5,NULL:3,Romance:1</td>\n",
       "      <td>NaN</td>\n",
       "      <td>7</td>\n",
       "      <td>2.098485e+06</td>\n",
       "      <td>0.192619</td>\n",
       "    </tr>\n",
       "    <tr>\n",
       "      <th>4157</th>\n",
       "      <td>4628</td>\n",
       "      <td>Knaup, Herbert</td>\n",
       "      <td>50</td>\n",
       "      <td>Drama</td>\n",
       "      <td>Action:1,Adult:1,Comedy:4,Crime:5,Drama:14,NUL...</td>\n",
       "      <td>NaN</td>\n",
       "      <td>63</td>\n",
       "      <td>2.062585e+06</td>\n",
       "      <td>0.231765</td>\n",
       "    </tr>\n",
       "    <tr>\n",
       "      <th>9655</th>\n",
       "      <td>3213</td>\n",
       "      <td>Goldberg, Whoopi</td>\n",
       "      <td>109</td>\n",
       "      <td>Comedy</td>\n",
       "      <td>Adventure:3,Animation:1,Comedy:16,Documentary:...</td>\n",
       "      <td>NaN</td>\n",
       "      <td>398</td>\n",
       "      <td>2.051621e+06</td>\n",
       "      <td>0.307760</td>\n",
       "    </tr>\n",
       "    <tr>\n",
       "      <th>13349</th>\n",
       "      <td>4550</td>\n",
       "      <td>Roth, Cecilia</td>\n",
       "      <td>23</td>\n",
       "      <td>Drama</td>\n",
       "      <td>Comedy:1,Documentary:2,Drama:11,Family:3,Horro...</td>\n",
       "      <td>NaN</td>\n",
       "      <td>62</td>\n",
       "      <td>2.019247e+06</td>\n",
       "      <td>0.244677</td>\n",
       "    </tr>\n",
       "    <tr>\n",
       "      <th>246</th>\n",
       "      <td>3075</td>\n",
       "      <td>Bellucci, Monica</td>\n",
       "      <td>43</td>\n",
       "      <td>Drama</td>\n",
       "      <td>Adventure:1,Comedy:4,Documentary:7,Drama:8,Fam...</td>\n",
       "      <td>NaN</td>\n",
       "      <td>81</td>\n",
       "      <td>2.006221e+06</td>\n",
       "      <td>0.273986</td>\n",
       "    </tr>\n",
       "    <tr>\n",
       "      <th>4524</th>\n",
       "      <td>701</td>\n",
       "      <td>Hanks, Tom</td>\n",
       "      <td>75</td>\n",
       "      <td>Family</td>\n",
       "      <td>Animation:3,Comedy:5,Documentary:32,Drama:6,Fa...</td>\n",
       "      <td>NaN</td>\n",
       "      <td>457</td>\n",
       "      <td>1.977252e+06</td>\n",
       "      <td>0.305231</td>\n",
       "    </tr>\n",
       "    <tr>\n",
       "      <th>5906</th>\n",
       "      <td>1057</td>\n",
       "      <td>August, Pernilla</td>\n",
       "      <td>31</td>\n",
       "      <td>Drama</td>\n",
       "      <td>Action:2,Documentary:4,Drama:14,Family:1,Music...</td>\n",
       "      <td>NaN</td>\n",
       "      <td>44</td>\n",
       "      <td>1.937362e+06</td>\n",
       "      <td>0.256443</td>\n",
       "    </tr>\n",
       "    <tr>\n",
       "      <th>1531</th>\n",
       "      <td>5295</td>\n",
       "      <td>Kier, Udo</td>\n",
       "      <td>69</td>\n",
       "      <td>Drama</td>\n",
       "      <td>Action:2,Animation:2,Comedy:10,Crime:2,Documen...</td>\n",
       "      <td>NaN</td>\n",
       "      <td>64</td>\n",
       "      <td>1.919261e+06</td>\n",
       "      <td>0.281793</td>\n",
       "    </tr>\n",
       "  </tbody>\n",
       "</table>\n",
       "</div>"
      ],
      "text/plain": [
       "          id                  name  ...   betweenness closeness\n",
       "10548   2108           Jeremy, Ron  ...  9.748544e+06  0.282720\n",
       "4693    3284      Chan, Jackie (I)  ...  4.716909e+06  0.287238\n",
       "2563     564        Cruz, Penélope  ...  4.330663e+06  0.295555\n",
       "14433  14458      Shahlavi, Darren  ...  4.295503e+06  0.193886\n",
       "15720  17308  Del Rosario, Monsour  ...  4.267099e+06  0.163154\n",
       "17458    285     Depardieu, Gérard  ...  4.037356e+06  0.278351\n",
       "8799   13723     Bachchan, Amitabh  ...  2.570247e+06  0.226349\n",
       "10412   1529    Jackson, Samuel L.  ...  2.539614e+06  0.309265\n",
       "5517    5083     Soualem, Zinedine  ...  2.368164e+06  0.249825\n",
       "15894   1923       Del Rio, Olivia  ...  2.316388e+06  0.240033\n",
       "559     2549      Jaenicke, Hannes  ...  2.136980e+06  0.250736\n",
       "15834   2623          Hayek, Salma  ...  2.117390e+06  0.288701\n",
       "568    13698                  Pelé  ...  2.098485e+06  0.192619\n",
       "4157    4628        Knaup, Herbert  ...  2.062585e+06  0.231765\n",
       "9655    3213      Goldberg, Whoopi  ...  2.051621e+06  0.307760\n",
       "13349   4550         Roth, Cecilia  ...  2.019247e+06  0.244677\n",
       "246     3075      Bellucci, Monica  ...  2.006221e+06  0.273986\n",
       "4524     701            Hanks, Tom  ...  1.977252e+06  0.305231\n",
       "5906    1057      August, Pernilla  ...  1.937362e+06  0.256443\n",
       "1531    5295             Kier, Udo  ...  1.919261e+06  0.281793\n",
       "\n",
       "[20 rows x 9 columns]"
      ]
     },
     "execution_count": 87,
     "metadata": {},
     "output_type": "execute_result"
    }
   ],
   "source": [
    "df_key.sort_values(\"betweenness\", ascending = False).head(20)"
   ]
  },
  {
   "cell_type": "code",
   "execution_count": null,
   "metadata": {
    "id": "GDPvHWt8Z0Ll"
   },
   "outputs": [],
   "source": []
  },
  {
   "cell_type": "markdown",
   "metadata": {
    "id": "pA77OVQzzza7"
   },
   "source": [
    "Obtain the list of the 20 actors with the largest closeness centrality. Show a list with the closeness the name of the actor, the number of movies, the main genre, and the number of genres in which the actor has participated.\n",
    "\n",
    "**12) Who is the actor with highest closeness centrality?**\n",
    "\n",
    "**13) How do you explain the high closeness of the top-20 list?**"
   ]
  },
  {
   "cell_type": "markdown",
   "metadata": {
    "id": "EmNHqcru5OHF"
   },
   "source": [
    "Closeness centrality scores each node based on their ‘closeness’ to all other nodes in the network. For finding the individuals who are best placed to influence the entire network most quickly. When people belong to a social network that is highly connected, they may all tend to score high in closeness.\n",
    "\n",
    "We might be able to derive more information from \"influences\" from single clusters that aren't highly connected.\n"
   ]
  },
  {
   "cell_type": "code",
   "execution_count": 27,
   "metadata": {
    "colab": {
     "base_uri": "https://localhost:8080/",
     "height": 782
    },
    "id": "JO6TsAYYzza7",
    "outputId": "34b0d9bd-2d34-4d71-e7df-fbdd5a169a3d"
   },
   "outputs": [
    {
     "data": {
      "text/html": [
       "<div>\n",
       "<style scoped>\n",
       "    .dataframe tbody tr th:only-of-type {\n",
       "        vertical-align: middle;\n",
       "    }\n",
       "\n",
       "    .dataframe tbody tr th {\n",
       "        vertical-align: top;\n",
       "    }\n",
       "\n",
       "    .dataframe thead th {\n",
       "        text-align: right;\n",
       "    }\n",
       "</style>\n",
       "<table border=\"1\" class=\"dataframe\">\n",
       "  <thead>\n",
       "    <tr style=\"text-align: right;\">\n",
       "      <th></th>\n",
       "      <th>id</th>\n",
       "      <th>name</th>\n",
       "      <th>movies_95_04</th>\n",
       "      <th>main_genre</th>\n",
       "      <th>genres</th>\n",
       "      <th># of genres</th>\n",
       "      <th>degree</th>\n",
       "      <th>betweenness</th>\n",
       "      <th>closeness</th>\n",
       "    </tr>\n",
       "  </thead>\n",
       "  <tbody>\n",
       "    <tr>\n",
       "      <th>2109</th>\n",
       "      <td>16747</td>\n",
       "      <td>Armanis, Julian</td>\n",
       "      <td>12</td>\n",
       "      <td>Adult</td>\n",
       "      <td>Adult:11,Documentary:1</td>\n",
       "      <td>NaN</td>\n",
       "      <td>6</td>\n",
       "      <td>24.000000</td>\n",
       "      <td>0.714286</td>\n",
       "    </tr>\n",
       "    <tr>\n",
       "      <th>14828</th>\n",
       "      <td>13582</td>\n",
       "      <td>Fazira, Erra</td>\n",
       "      <td>13</td>\n",
       "      <td>Romance</td>\n",
       "      <td>Animation:1,Crime:1,NULL:2,Romance:9</td>\n",
       "      <td>NaN</td>\n",
       "      <td>1</td>\n",
       "      <td>0.000000</td>\n",
       "      <td>0.666667</td>\n",
       "    </tr>\n",
       "    <tr>\n",
       "      <th>13001</th>\n",
       "      <td>16913</td>\n",
       "      <td>Lim, Kay Tong</td>\n",
       "      <td>11</td>\n",
       "      <td>Drama</td>\n",
       "      <td>Comedy:3,Drama:3,Romance:2,Short:1,Thriller:1,...</td>\n",
       "      <td>NaN</td>\n",
       "      <td>1</td>\n",
       "      <td>0.000000</td>\n",
       "      <td>0.666667</td>\n",
       "    </tr>\n",
       "    <tr>\n",
       "      <th>6367</th>\n",
       "      <td>17822</td>\n",
       "      <td>Lee, Mark (X)</td>\n",
       "      <td>10</td>\n",
       "      <td>Comedy</td>\n",
       "      <td>Comedy:4,Crime:2,Drama:1,Family:1,NULL:1,Roman...</td>\n",
       "      <td>NaN</td>\n",
       "      <td>1</td>\n",
       "      <td>0.000000</td>\n",
       "      <td>0.666667</td>\n",
       "    </tr>\n",
       "    <tr>\n",
       "      <th>17467</th>\n",
       "      <td>13581</td>\n",
       "      <td>Hassan, Jalaluddin</td>\n",
       "      <td>14</td>\n",
       "      <td>Romance</td>\n",
       "      <td>Comedy:1,Drama:5,NULL:1,Romance:6,Sci-Fi:1</td>\n",
       "      <td>NaN</td>\n",
       "      <td>1</td>\n",
       "      <td>0.000000</td>\n",
       "      <td>0.666667</td>\n",
       "    </tr>\n",
       "    <tr>\n",
       "      <th>2567</th>\n",
       "      <td>17804</td>\n",
       "      <td>Kovac, Erik</td>\n",
       "      <td>11</td>\n",
       "      <td>Adult</td>\n",
       "      <td>Adult:8,Documentary:1,NULL:2</td>\n",
       "      <td>NaN</td>\n",
       "      <td>6</td>\n",
       "      <td>1.000000</td>\n",
       "      <td>0.588235</td>\n",
       "    </tr>\n",
       "    <tr>\n",
       "      <th>9514</th>\n",
       "      <td>17803</td>\n",
       "      <td>Sulik, Dano</td>\n",
       "      <td>21</td>\n",
       "      <td>Adult</td>\n",
       "      <td>Adult:17,Documentary:1,NULL:2,Romance:1</td>\n",
       "      <td>NaN</td>\n",
       "      <td>6</td>\n",
       "      <td>1.000000</td>\n",
       "      <td>0.588235</td>\n",
       "    </tr>\n",
       "    <tr>\n",
       "      <th>7288</th>\n",
       "      <td>16740</td>\n",
       "      <td>Novotny, Pavel</td>\n",
       "      <td>15</td>\n",
       "      <td>Adult</td>\n",
       "      <td>Adult:15</td>\n",
       "      <td>NaN</td>\n",
       "      <td>4</td>\n",
       "      <td>21.000000</td>\n",
       "      <td>0.588235</td>\n",
       "    </tr>\n",
       "    <tr>\n",
       "      <th>6659</th>\n",
       "      <td>16745</td>\n",
       "      <td>Bonnet, Sebastian</td>\n",
       "      <td>17</td>\n",
       "      <td>Adult</td>\n",
       "      <td>Adult:14,Documentary:1,NULL:1,Romance:1</td>\n",
       "      <td>NaN</td>\n",
       "      <td>6</td>\n",
       "      <td>1.000000</td>\n",
       "      <td>0.588235</td>\n",
       "    </tr>\n",
       "    <tr>\n",
       "      <th>5377</th>\n",
       "      <td>16748</td>\n",
       "      <td>Davidov, Ion</td>\n",
       "      <td>10</td>\n",
       "      <td>Adult</td>\n",
       "      <td>Adult:7,Documentary:1,NULL:2</td>\n",
       "      <td>NaN</td>\n",
       "      <td>6</td>\n",
       "      <td>1.000000</td>\n",
       "      <td>0.588235</td>\n",
       "    </tr>\n",
       "    <tr>\n",
       "      <th>12756</th>\n",
       "      <td>13064</td>\n",
       "      <td>Ridgeston, Lukas</td>\n",
       "      <td>10</td>\n",
       "      <td>Adult</td>\n",
       "      <td>Adult:6,Documentary:2,NULL:2</td>\n",
       "      <td>NaN</td>\n",
       "      <td>6</td>\n",
       "      <td>1.000000</td>\n",
       "      <td>0.588235</td>\n",
       "    </tr>\n",
       "    <tr>\n",
       "      <th>11593</th>\n",
       "      <td>13289</td>\n",
       "      <td>Ahn, Sung-kee</td>\n",
       "      <td>22</td>\n",
       "      <td>Romance</td>\n",
       "      <td>Action:2,Comedy:3,Drama:3,Fantasy:1,Mystery:1,...</td>\n",
       "      <td>NaN</td>\n",
       "      <td>4</td>\n",
       "      <td>108.166667</td>\n",
       "      <td>0.458333</td>\n",
       "    </tr>\n",
       "    <tr>\n",
       "      <th>2320</th>\n",
       "      <td>16746</td>\n",
       "      <td>Paulik, Johan</td>\n",
       "      <td>14</td>\n",
       "      <td>Adult</td>\n",
       "      <td>Adult:5,Documentary:2,NULL:6,Romance:1</td>\n",
       "      <td>NaN</td>\n",
       "      <td>5</td>\n",
       "      <td>0.000000</td>\n",
       "      <td>0.454545</td>\n",
       "    </tr>\n",
       "    <tr>\n",
       "      <th>17543</th>\n",
       "      <td>13293</td>\n",
       "      <td>Lee, Beom-su</td>\n",
       "      <td>19</td>\n",
       "      <td>Romance</td>\n",
       "      <td>Action:1,Comedy:4,Drama:4,Family:1,Horror:1,NU...</td>\n",
       "      <td>NaN</td>\n",
       "      <td>7</td>\n",
       "      <td>115.666667</td>\n",
       "      <td>0.448980</td>\n",
       "    </tr>\n",
       "    <tr>\n",
       "      <th>85</th>\n",
       "      <td>17022</td>\n",
       "      <td>Klauzner, Uri</td>\n",
       "      <td>15</td>\n",
       "      <td>Drama</td>\n",
       "      <td>Action:1,Crime:1,Drama:9,Short:1,War:3</td>\n",
       "      <td>NaN</td>\n",
       "      <td>8</td>\n",
       "      <td>109.700000</td>\n",
       "      <td>0.428571</td>\n",
       "    </tr>\n",
       "    <tr>\n",
       "      <th>2632</th>\n",
       "      <td>17671</td>\n",
       "      <td>Pyrpassopoulos, Giorgos</td>\n",
       "      <td>11</td>\n",
       "      <td>Comedy</td>\n",
       "      <td>Comedy:4,Drama:2,NULL:2,Romance:2,Short:1</td>\n",
       "      <td>NaN</td>\n",
       "      <td>7</td>\n",
       "      <td>96.183333</td>\n",
       "      <td>0.421053</td>\n",
       "    </tr>\n",
       "    <tr>\n",
       "      <th>17103</th>\n",
       "      <td>16741</td>\n",
       "      <td>Hanak, Ales (I)</td>\n",
       "      <td>15</td>\n",
       "      <td>Adult</td>\n",
       "      <td>Adult:15</td>\n",
       "      <td>NaN</td>\n",
       "      <td>3</td>\n",
       "      <td>0.000000</td>\n",
       "      <td>0.416667</td>\n",
       "    </tr>\n",
       "    <tr>\n",
       "      <th>13875</th>\n",
       "      <td>16742</td>\n",
       "      <td>Korsakov, Pavel</td>\n",
       "      <td>10</td>\n",
       "      <td>Adult</td>\n",
       "      <td>Adult:10</td>\n",
       "      <td>NaN</td>\n",
       "      <td>3</td>\n",
       "      <td>0.000000</td>\n",
       "      <td>0.416667</td>\n",
       "    </tr>\n",
       "    <tr>\n",
       "      <th>16262</th>\n",
       "      <td>16744</td>\n",
       "      <td>Kajc, Cage</td>\n",
       "      <td>11</td>\n",
       "      <td>Adult</td>\n",
       "      <td>Adult:10,NULL:1</td>\n",
       "      <td>NaN</td>\n",
       "      <td>3</td>\n",
       "      <td>0.000000</td>\n",
       "      <td>0.416667</td>\n",
       "    </tr>\n",
       "    <tr>\n",
       "      <th>12734</th>\n",
       "      <td>17846</td>\n",
       "      <td>Kafetzopoulos, Antonis</td>\n",
       "      <td>13</td>\n",
       "      <td>Comedy</td>\n",
       "      <td>Comedy:6,Drama:2,NULL:1,Romance:4</td>\n",
       "      <td>NaN</td>\n",
       "      <td>6</td>\n",
       "      <td>145.450000</td>\n",
       "      <td>0.405063</td>\n",
       "    </tr>\n",
       "  </tbody>\n",
       "</table>\n",
       "</div>"
      ],
      "text/plain": [
       "          id                     name  ...  betweenness closeness\n",
       "2109   16747          Armanis, Julian  ...    24.000000  0.714286\n",
       "14828  13582             Fazira, Erra  ...     0.000000  0.666667\n",
       "13001  16913            Lim, Kay Tong  ...     0.000000  0.666667\n",
       "6367   17822            Lee, Mark (X)  ...     0.000000  0.666667\n",
       "17467  13581       Hassan, Jalaluddin  ...     0.000000  0.666667\n",
       "2567   17804              Kovac, Erik  ...     1.000000  0.588235\n",
       "9514   17803              Sulik, Dano  ...     1.000000  0.588235\n",
       "7288   16740           Novotny, Pavel  ...    21.000000  0.588235\n",
       "6659   16745        Bonnet, Sebastian  ...     1.000000  0.588235\n",
       "5377   16748             Davidov, Ion  ...     1.000000  0.588235\n",
       "12756  13064         Ridgeston, Lukas  ...     1.000000  0.588235\n",
       "11593  13289            Ahn, Sung-kee  ...   108.166667  0.458333\n",
       "2320   16746            Paulik, Johan  ...     0.000000  0.454545\n",
       "17543  13293             Lee, Beom-su  ...   115.666667  0.448980\n",
       "85     17022            Klauzner, Uri  ...   109.700000  0.428571\n",
       "2632   17671  Pyrpassopoulos, Giorgos  ...    96.183333  0.421053\n",
       "17103  16741          Hanak, Ales (I)  ...     0.000000  0.416667\n",
       "13875  16742          Korsakov, Pavel  ...     0.000000  0.416667\n",
       "16262  16744               Kajc, Cage  ...     0.000000  0.416667\n",
       "12734  17846   Kafetzopoulos, Antonis  ...   145.450000  0.405063\n",
       "\n",
       "[20 rows x 9 columns]"
      ]
     },
     "execution_count": 27,
     "metadata": {},
     "output_type": "execute_result"
    }
   ],
   "source": [
    "df_key[df_key['closeness'] < 1].sort_values(\"closeness\", ascending = False).head(20)\n"
   ]
  },
  {
   "cell_type": "code",
   "execution_count": null,
   "metadata": {
    "id": "RciTNKvwzza8"
   },
   "outputs": [],
   "source": []
  }
 ],
 "metadata": {
  "colab": {
   "collapsed_sections": [],
   "name": "SNA - Assignment1.ipynb",
   "provenance": []
  },
  "kernelspec": {
   "display_name": "Python 3",
   "language": "python",
   "name": "python3"
  },
  "language_info": {
   "codemirror_mode": {
    "name": "ipython",
    "version": 3
   },
   "file_extension": ".py",
   "mimetype": "text/x-python",
   "name": "python",
   "nbconvert_exporter": "python",
   "pygments_lexer": "ipython3",
   "version": "3.8.8"
  }
 },
 "nbformat": 4,
 "nbformat_minor": 1
}
